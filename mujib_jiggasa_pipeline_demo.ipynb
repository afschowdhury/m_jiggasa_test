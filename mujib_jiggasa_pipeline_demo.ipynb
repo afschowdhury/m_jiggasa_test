{
  "nbformat": 4,
  "nbformat_minor": 0,
  "metadata": {
    "colab": {
      "provenance": []
    },
    "kernelspec": {
      "name": "python3",
      "display_name": "Python 3"
    },
    "language_info": {
      "name": "python"
    },
    "widgets": {
      "application/vnd.jupyter.widget-state+json": {
        "70f5738f74ba468189050deb9fa70fe9": {
          "model_module": "@jupyter-widgets/controls",
          "model_name": "HBoxModel",
          "model_module_version": "1.5.0",
          "state": {
            "_dom_classes": [],
            "_model_module": "@jupyter-widgets/controls",
            "_model_module_version": "1.5.0",
            "_model_name": "HBoxModel",
            "_view_count": null,
            "_view_module": "@jupyter-widgets/controls",
            "_view_module_version": "1.5.0",
            "_view_name": "HBoxView",
            "box_style": "",
            "children": [
              "IPY_MODEL_e42f3abadc234210abcd069564255c2e",
              "IPY_MODEL_487841884b27485c95d55f59d3a6f347",
              "IPY_MODEL_22a64aef6b05449ab1dae3438ad0eb62"
            ],
            "layout": "IPY_MODEL_8c5989b458a14690b8816b4342e4c7bc"
          }
        },
        "e42f3abadc234210abcd069564255c2e": {
          "model_module": "@jupyter-widgets/controls",
          "model_name": "HTMLModel",
          "model_module_version": "1.5.0",
          "state": {
            "_dom_classes": [],
            "_model_module": "@jupyter-widgets/controls",
            "_model_module_version": "1.5.0",
            "_model_name": "HTMLModel",
            "_view_count": null,
            "_view_module": "@jupyter-widgets/controls",
            "_view_module_version": "1.5.0",
            "_view_name": "HTMLView",
            "description": "",
            "description_tooltip": null,
            "layout": "IPY_MODEL_8a2c637600284ea68ceb5705d3e29a55",
            "placeholder": "​",
            "style": "IPY_MODEL_1c6f0749bc81419f932fe87a6e294a96",
            "value": "Downloading builder script: 100%"
          }
        },
        "487841884b27485c95d55f59d3a6f347": {
          "model_module": "@jupyter-widgets/controls",
          "model_name": "FloatProgressModel",
          "model_module_version": "1.5.0",
          "state": {
            "_dom_classes": [],
            "_model_module": "@jupyter-widgets/controls",
            "_model_module_version": "1.5.0",
            "_model_name": "FloatProgressModel",
            "_view_count": null,
            "_view_module": "@jupyter-widgets/controls",
            "_view_module_version": "1.5.0",
            "_view_name": "ProgressView",
            "bar_style": "success",
            "description": "",
            "description_tooltip": null,
            "layout": "IPY_MODEL_f87c69bebfbc4130af434a4753b775df",
            "max": 4202,
            "min": 0,
            "orientation": "horizontal",
            "style": "IPY_MODEL_ea9b5d9c103540f0b962e314f8b61128",
            "value": 4202
          }
        },
        "22a64aef6b05449ab1dae3438ad0eb62": {
          "model_module": "@jupyter-widgets/controls",
          "model_name": "HTMLModel",
          "model_module_version": "1.5.0",
          "state": {
            "_dom_classes": [],
            "_model_module": "@jupyter-widgets/controls",
            "_model_module_version": "1.5.0",
            "_model_name": "HTMLModel",
            "_view_count": null,
            "_view_module": "@jupyter-widgets/controls",
            "_view_module_version": "1.5.0",
            "_view_name": "HTMLView",
            "description": "",
            "description_tooltip": null,
            "layout": "IPY_MODEL_0f580d21bea7489b817811c7245ee7e6",
            "placeholder": "​",
            "style": "IPY_MODEL_1dd93c75ded04b3f95898336051aa7ed",
            "value": " 4.20k/4.20k [00:00&lt;00:00, 90.3kB/s]"
          }
        },
        "8c5989b458a14690b8816b4342e4c7bc": {
          "model_module": "@jupyter-widgets/base",
          "model_name": "LayoutModel",
          "model_module_version": "1.2.0",
          "state": {
            "_model_module": "@jupyter-widgets/base",
            "_model_module_version": "1.2.0",
            "_model_name": "LayoutModel",
            "_view_count": null,
            "_view_module": "@jupyter-widgets/base",
            "_view_module_version": "1.2.0",
            "_view_name": "LayoutView",
            "align_content": null,
            "align_items": null,
            "align_self": null,
            "border": null,
            "bottom": null,
            "display": null,
            "flex": null,
            "flex_flow": null,
            "grid_area": null,
            "grid_auto_columns": null,
            "grid_auto_flow": null,
            "grid_auto_rows": null,
            "grid_column": null,
            "grid_gap": null,
            "grid_row": null,
            "grid_template_areas": null,
            "grid_template_columns": null,
            "grid_template_rows": null,
            "height": null,
            "justify_content": null,
            "justify_items": null,
            "left": null,
            "margin": null,
            "max_height": null,
            "max_width": null,
            "min_height": null,
            "min_width": null,
            "object_fit": null,
            "object_position": null,
            "order": null,
            "overflow": null,
            "overflow_x": null,
            "overflow_y": null,
            "padding": null,
            "right": null,
            "top": null,
            "visibility": null,
            "width": null
          }
        },
        "8a2c637600284ea68ceb5705d3e29a55": {
          "model_module": "@jupyter-widgets/base",
          "model_name": "LayoutModel",
          "model_module_version": "1.2.0",
          "state": {
            "_model_module": "@jupyter-widgets/base",
            "_model_module_version": "1.2.0",
            "_model_name": "LayoutModel",
            "_view_count": null,
            "_view_module": "@jupyter-widgets/base",
            "_view_module_version": "1.2.0",
            "_view_name": "LayoutView",
            "align_content": null,
            "align_items": null,
            "align_self": null,
            "border": null,
            "bottom": null,
            "display": null,
            "flex": null,
            "flex_flow": null,
            "grid_area": null,
            "grid_auto_columns": null,
            "grid_auto_flow": null,
            "grid_auto_rows": null,
            "grid_column": null,
            "grid_gap": null,
            "grid_row": null,
            "grid_template_areas": null,
            "grid_template_columns": null,
            "grid_template_rows": null,
            "height": null,
            "justify_content": null,
            "justify_items": null,
            "left": null,
            "margin": null,
            "max_height": null,
            "max_width": null,
            "min_height": null,
            "min_width": null,
            "object_fit": null,
            "object_position": null,
            "order": null,
            "overflow": null,
            "overflow_x": null,
            "overflow_y": null,
            "padding": null,
            "right": null,
            "top": null,
            "visibility": null,
            "width": null
          }
        },
        "1c6f0749bc81419f932fe87a6e294a96": {
          "model_module": "@jupyter-widgets/controls",
          "model_name": "DescriptionStyleModel",
          "model_module_version": "1.5.0",
          "state": {
            "_model_module": "@jupyter-widgets/controls",
            "_model_module_version": "1.5.0",
            "_model_name": "DescriptionStyleModel",
            "_view_count": null,
            "_view_module": "@jupyter-widgets/base",
            "_view_module_version": "1.2.0",
            "_view_name": "StyleView",
            "description_width": ""
          }
        },
        "f87c69bebfbc4130af434a4753b775df": {
          "model_module": "@jupyter-widgets/base",
          "model_name": "LayoutModel",
          "model_module_version": "1.2.0",
          "state": {
            "_model_module": "@jupyter-widgets/base",
            "_model_module_version": "1.2.0",
            "_model_name": "LayoutModel",
            "_view_count": null,
            "_view_module": "@jupyter-widgets/base",
            "_view_module_version": "1.2.0",
            "_view_name": "LayoutView",
            "align_content": null,
            "align_items": null,
            "align_self": null,
            "border": null,
            "bottom": null,
            "display": null,
            "flex": null,
            "flex_flow": null,
            "grid_area": null,
            "grid_auto_columns": null,
            "grid_auto_flow": null,
            "grid_auto_rows": null,
            "grid_column": null,
            "grid_gap": null,
            "grid_row": null,
            "grid_template_areas": null,
            "grid_template_columns": null,
            "grid_template_rows": null,
            "height": null,
            "justify_content": null,
            "justify_items": null,
            "left": null,
            "margin": null,
            "max_height": null,
            "max_width": null,
            "min_height": null,
            "min_width": null,
            "object_fit": null,
            "object_position": null,
            "order": null,
            "overflow": null,
            "overflow_x": null,
            "overflow_y": null,
            "padding": null,
            "right": null,
            "top": null,
            "visibility": null,
            "width": null
          }
        },
        "ea9b5d9c103540f0b962e314f8b61128": {
          "model_module": "@jupyter-widgets/controls",
          "model_name": "ProgressStyleModel",
          "model_module_version": "1.5.0",
          "state": {
            "_model_module": "@jupyter-widgets/controls",
            "_model_module_version": "1.5.0",
            "_model_name": "ProgressStyleModel",
            "_view_count": null,
            "_view_module": "@jupyter-widgets/base",
            "_view_module_version": "1.2.0",
            "_view_name": "StyleView",
            "bar_color": null,
            "description_width": ""
          }
        },
        "0f580d21bea7489b817811c7245ee7e6": {
          "model_module": "@jupyter-widgets/base",
          "model_name": "LayoutModel",
          "model_module_version": "1.2.0",
          "state": {
            "_model_module": "@jupyter-widgets/base",
            "_model_module_version": "1.2.0",
            "_model_name": "LayoutModel",
            "_view_count": null,
            "_view_module": "@jupyter-widgets/base",
            "_view_module_version": "1.2.0",
            "_view_name": "LayoutView",
            "align_content": null,
            "align_items": null,
            "align_self": null,
            "border": null,
            "bottom": null,
            "display": null,
            "flex": null,
            "flex_flow": null,
            "grid_area": null,
            "grid_auto_columns": null,
            "grid_auto_flow": null,
            "grid_auto_rows": null,
            "grid_column": null,
            "grid_gap": null,
            "grid_row": null,
            "grid_template_areas": null,
            "grid_template_columns": null,
            "grid_template_rows": null,
            "height": null,
            "justify_content": null,
            "justify_items": null,
            "left": null,
            "margin": null,
            "max_height": null,
            "max_width": null,
            "min_height": null,
            "min_width": null,
            "object_fit": null,
            "object_position": null,
            "order": null,
            "overflow": null,
            "overflow_x": null,
            "overflow_y": null,
            "padding": null,
            "right": null,
            "top": null,
            "visibility": null,
            "width": null
          }
        },
        "1dd93c75ded04b3f95898336051aa7ed": {
          "model_module": "@jupyter-widgets/controls",
          "model_name": "DescriptionStyleModel",
          "model_module_version": "1.5.0",
          "state": {
            "_model_module": "@jupyter-widgets/controls",
            "_model_module_version": "1.5.0",
            "_model_name": "DescriptionStyleModel",
            "_view_count": null,
            "_view_module": "@jupyter-widgets/base",
            "_view_module_version": "1.2.0",
            "_view_name": "StyleView",
            "description_width": ""
          }
        },
        "58e98f49b1844642bea5e23f0a78fddb": {
          "model_module": "@jupyter-widgets/controls",
          "model_name": "HBoxModel",
          "model_module_version": "1.5.0",
          "state": {
            "_dom_classes": [],
            "_model_module": "@jupyter-widgets/controls",
            "_model_module_version": "1.5.0",
            "_model_name": "HBoxModel",
            "_view_count": null,
            "_view_module": "@jupyter-widgets/controls",
            "_view_module_version": "1.5.0",
            "_view_name": "HBoxView",
            "box_style": "",
            "children": [
              "IPY_MODEL_942a6f459af04a719b7b3628c9f013fb",
              "IPY_MODEL_0eb3cc2c0f5d44bc937bd02eb302df10",
              "IPY_MODEL_26a477c3cb2c4dafa4aaab5618fcf053"
            ],
            "layout": "IPY_MODEL_505e859af21643cbaf6c5a152b6f8639"
          }
        },
        "942a6f459af04a719b7b3628c9f013fb": {
          "model_module": "@jupyter-widgets/controls",
          "model_name": "HTMLModel",
          "model_module_version": "1.5.0",
          "state": {
            "_dom_classes": [],
            "_model_module": "@jupyter-widgets/controls",
            "_model_module_version": "1.5.0",
            "_model_name": "HTMLModel",
            "_view_count": null,
            "_view_module": "@jupyter-widgets/controls",
            "_view_module_version": "1.5.0",
            "_view_name": "HTMLView",
            "description": "",
            "description_tooltip": null,
            "layout": "IPY_MODEL_de848052c15e4572bb9304d6fd4f2324",
            "placeholder": "​",
            "style": "IPY_MODEL_f3666a7d6d514868b571de1da1d72ce6",
            "value": "Downloading readme: 100%"
          }
        },
        "0eb3cc2c0f5d44bc937bd02eb302df10": {
          "model_module": "@jupyter-widgets/controls",
          "model_name": "FloatProgressModel",
          "model_module_version": "1.5.0",
          "state": {
            "_dom_classes": [],
            "_model_module": "@jupyter-widgets/controls",
            "_model_module_version": "1.5.0",
            "_model_name": "FloatProgressModel",
            "_view_count": null,
            "_view_module": "@jupyter-widgets/controls",
            "_view_module_version": "1.5.0",
            "_view_name": "ProgressView",
            "bar_style": "success",
            "description": "",
            "description_tooltip": null,
            "layout": "IPY_MODEL_cca91d6c68aa43f2a91165c718305e93",
            "max": 9169,
            "min": 0,
            "orientation": "horizontal",
            "style": "IPY_MODEL_dd21e68d20ba43b89fe375bdd0f23d7c",
            "value": 9169
          }
        },
        "26a477c3cb2c4dafa4aaab5618fcf053": {
          "model_module": "@jupyter-widgets/controls",
          "model_name": "HTMLModel",
          "model_module_version": "1.5.0",
          "state": {
            "_dom_classes": [],
            "_model_module": "@jupyter-widgets/controls",
            "_model_module_version": "1.5.0",
            "_model_name": "HTMLModel",
            "_view_count": null,
            "_view_module": "@jupyter-widgets/controls",
            "_view_module_version": "1.5.0",
            "_view_name": "HTMLView",
            "description": "",
            "description_tooltip": null,
            "layout": "IPY_MODEL_f1cc06d347e946558b391552e772350d",
            "placeholder": "​",
            "style": "IPY_MODEL_887e9dcd2b174dd49e2cd9da7e90f6d2",
            "value": " 9.17k/9.17k [00:00&lt;00:00, 244kB/s]"
          }
        },
        "505e859af21643cbaf6c5a152b6f8639": {
          "model_module": "@jupyter-widgets/base",
          "model_name": "LayoutModel",
          "model_module_version": "1.2.0",
          "state": {
            "_model_module": "@jupyter-widgets/base",
            "_model_module_version": "1.2.0",
            "_model_name": "LayoutModel",
            "_view_count": null,
            "_view_module": "@jupyter-widgets/base",
            "_view_module_version": "1.2.0",
            "_view_name": "LayoutView",
            "align_content": null,
            "align_items": null,
            "align_self": null,
            "border": null,
            "bottom": null,
            "display": null,
            "flex": null,
            "flex_flow": null,
            "grid_area": null,
            "grid_auto_columns": null,
            "grid_auto_flow": null,
            "grid_auto_rows": null,
            "grid_column": null,
            "grid_gap": null,
            "grid_row": null,
            "grid_template_areas": null,
            "grid_template_columns": null,
            "grid_template_rows": null,
            "height": null,
            "justify_content": null,
            "justify_items": null,
            "left": null,
            "margin": null,
            "max_height": null,
            "max_width": null,
            "min_height": null,
            "min_width": null,
            "object_fit": null,
            "object_position": null,
            "order": null,
            "overflow": null,
            "overflow_x": null,
            "overflow_y": null,
            "padding": null,
            "right": null,
            "top": null,
            "visibility": null,
            "width": null
          }
        },
        "de848052c15e4572bb9304d6fd4f2324": {
          "model_module": "@jupyter-widgets/base",
          "model_name": "LayoutModel",
          "model_module_version": "1.2.0",
          "state": {
            "_model_module": "@jupyter-widgets/base",
            "_model_module_version": "1.2.0",
            "_model_name": "LayoutModel",
            "_view_count": null,
            "_view_module": "@jupyter-widgets/base",
            "_view_module_version": "1.2.0",
            "_view_name": "LayoutView",
            "align_content": null,
            "align_items": null,
            "align_self": null,
            "border": null,
            "bottom": null,
            "display": null,
            "flex": null,
            "flex_flow": null,
            "grid_area": null,
            "grid_auto_columns": null,
            "grid_auto_flow": null,
            "grid_auto_rows": null,
            "grid_column": null,
            "grid_gap": null,
            "grid_row": null,
            "grid_template_areas": null,
            "grid_template_columns": null,
            "grid_template_rows": null,
            "height": null,
            "justify_content": null,
            "justify_items": null,
            "left": null,
            "margin": null,
            "max_height": null,
            "max_width": null,
            "min_height": null,
            "min_width": null,
            "object_fit": null,
            "object_position": null,
            "order": null,
            "overflow": null,
            "overflow_x": null,
            "overflow_y": null,
            "padding": null,
            "right": null,
            "top": null,
            "visibility": null,
            "width": null
          }
        },
        "f3666a7d6d514868b571de1da1d72ce6": {
          "model_module": "@jupyter-widgets/controls",
          "model_name": "DescriptionStyleModel",
          "model_module_version": "1.5.0",
          "state": {
            "_model_module": "@jupyter-widgets/controls",
            "_model_module_version": "1.5.0",
            "_model_name": "DescriptionStyleModel",
            "_view_count": null,
            "_view_module": "@jupyter-widgets/base",
            "_view_module_version": "1.2.0",
            "_view_name": "StyleView",
            "description_width": ""
          }
        },
        "cca91d6c68aa43f2a91165c718305e93": {
          "model_module": "@jupyter-widgets/base",
          "model_name": "LayoutModel",
          "model_module_version": "1.2.0",
          "state": {
            "_model_module": "@jupyter-widgets/base",
            "_model_module_version": "1.2.0",
            "_model_name": "LayoutModel",
            "_view_count": null,
            "_view_module": "@jupyter-widgets/base",
            "_view_module_version": "1.2.0",
            "_view_name": "LayoutView",
            "align_content": null,
            "align_items": null,
            "align_self": null,
            "border": null,
            "bottom": null,
            "display": null,
            "flex": null,
            "flex_flow": null,
            "grid_area": null,
            "grid_auto_columns": null,
            "grid_auto_flow": null,
            "grid_auto_rows": null,
            "grid_column": null,
            "grid_gap": null,
            "grid_row": null,
            "grid_template_areas": null,
            "grid_template_columns": null,
            "grid_template_rows": null,
            "height": null,
            "justify_content": null,
            "justify_items": null,
            "left": null,
            "margin": null,
            "max_height": null,
            "max_width": null,
            "min_height": null,
            "min_width": null,
            "object_fit": null,
            "object_position": null,
            "order": null,
            "overflow": null,
            "overflow_x": null,
            "overflow_y": null,
            "padding": null,
            "right": null,
            "top": null,
            "visibility": null,
            "width": null
          }
        },
        "dd21e68d20ba43b89fe375bdd0f23d7c": {
          "model_module": "@jupyter-widgets/controls",
          "model_name": "ProgressStyleModel",
          "model_module_version": "1.5.0",
          "state": {
            "_model_module": "@jupyter-widgets/controls",
            "_model_module_version": "1.5.0",
            "_model_name": "ProgressStyleModel",
            "_view_count": null,
            "_view_module": "@jupyter-widgets/base",
            "_view_module_version": "1.2.0",
            "_view_name": "StyleView",
            "bar_color": null,
            "description_width": ""
          }
        },
        "f1cc06d347e946558b391552e772350d": {
          "model_module": "@jupyter-widgets/base",
          "model_name": "LayoutModel",
          "model_module_version": "1.2.0",
          "state": {
            "_model_module": "@jupyter-widgets/base",
            "_model_module_version": "1.2.0",
            "_model_name": "LayoutModel",
            "_view_count": null,
            "_view_module": "@jupyter-widgets/base",
            "_view_module_version": "1.2.0",
            "_view_name": "LayoutView",
            "align_content": null,
            "align_items": null,
            "align_self": null,
            "border": null,
            "bottom": null,
            "display": null,
            "flex": null,
            "flex_flow": null,
            "grid_area": null,
            "grid_auto_columns": null,
            "grid_auto_flow": null,
            "grid_auto_rows": null,
            "grid_column": null,
            "grid_gap": null,
            "grid_row": null,
            "grid_template_areas": null,
            "grid_template_columns": null,
            "grid_template_rows": null,
            "height": null,
            "justify_content": null,
            "justify_items": null,
            "left": null,
            "margin": null,
            "max_height": null,
            "max_width": null,
            "min_height": null,
            "min_width": null,
            "object_fit": null,
            "object_position": null,
            "order": null,
            "overflow": null,
            "overflow_x": null,
            "overflow_y": null,
            "padding": null,
            "right": null,
            "top": null,
            "visibility": null,
            "width": null
          }
        },
        "887e9dcd2b174dd49e2cd9da7e90f6d2": {
          "model_module": "@jupyter-widgets/controls",
          "model_name": "DescriptionStyleModel",
          "model_module_version": "1.5.0",
          "state": {
            "_model_module": "@jupyter-widgets/controls",
            "_model_module_version": "1.5.0",
            "_model_name": "DescriptionStyleModel",
            "_view_count": null,
            "_view_module": "@jupyter-widgets/base",
            "_view_module_version": "1.2.0",
            "_view_name": "StyleView",
            "description_width": ""
          }
        },
        "b497da41e5b2450ebc3229cd1bfe9fd6": {
          "model_module": "@jupyter-widgets/controls",
          "model_name": "HBoxModel",
          "model_module_version": "1.5.0",
          "state": {
            "_dom_classes": [],
            "_model_module": "@jupyter-widgets/controls",
            "_model_module_version": "1.5.0",
            "_model_name": "HBoxModel",
            "_view_count": null,
            "_view_module": "@jupyter-widgets/controls",
            "_view_module_version": "1.5.0",
            "_view_name": "HBoxView",
            "box_style": "",
            "children": [
              "IPY_MODEL_ba48a8ef095c4789b25ad4647586ca5a",
              "IPY_MODEL_7edd20e238e94003bdfa289f4932bcfe",
              "IPY_MODEL_459a5db7fb074befab30d8e7d3994b4b"
            ],
            "layout": "IPY_MODEL_8da69d03fe644084ab3f3d9b43d00d8a"
          }
        },
        "ba48a8ef095c4789b25ad4647586ca5a": {
          "model_module": "@jupyter-widgets/controls",
          "model_name": "HTMLModel",
          "model_module_version": "1.5.0",
          "state": {
            "_dom_classes": [],
            "_model_module": "@jupyter-widgets/controls",
            "_model_module_version": "1.5.0",
            "_model_name": "HTMLModel",
            "_view_count": null,
            "_view_module": "@jupyter-widgets/controls",
            "_view_module_version": "1.5.0",
            "_view_name": "HTMLView",
            "description": "",
            "description_tooltip": null,
            "layout": "IPY_MODEL_6ea40142da9341ef887f05bdfed99f6d",
            "placeholder": "​",
            "style": "IPY_MODEL_aeca7faa423747a3a5c22aaae21d58f8",
            "value": "Downloading data: 100%"
          }
        },
        "7edd20e238e94003bdfa289f4932bcfe": {
          "model_module": "@jupyter-widgets/controls",
          "model_name": "FloatProgressModel",
          "model_module_version": "1.5.0",
          "state": {
            "_dom_classes": [],
            "_model_module": "@jupyter-widgets/controls",
            "_model_module_version": "1.5.0",
            "_model_name": "FloatProgressModel",
            "_view_count": null,
            "_view_module": "@jupyter-widgets/controls",
            "_view_module_version": "1.5.0",
            "_view_name": "ProgressView",
            "bar_style": "success",
            "description": "",
            "description_tooltip": null,
            "layout": "IPY_MODEL_daf578b1961146a78ba632136c3b98ee",
            "max": 8432345,
            "min": 0,
            "orientation": "horizontal",
            "style": "IPY_MODEL_2a02dd85e8794154bacf709fe14bd361",
            "value": 8432345
          }
        },
        "459a5db7fb074befab30d8e7d3994b4b": {
          "model_module": "@jupyter-widgets/controls",
          "model_name": "HTMLModel",
          "model_module_version": "1.5.0",
          "state": {
            "_dom_classes": [],
            "_model_module": "@jupyter-widgets/controls",
            "_model_module_version": "1.5.0",
            "_model_name": "HTMLModel",
            "_view_count": null,
            "_view_module": "@jupyter-widgets/controls",
            "_view_module_version": "1.5.0",
            "_view_name": "HTMLView",
            "description": "",
            "description_tooltip": null,
            "layout": "IPY_MODEL_ff5b8691245947f89fa63b35f7753e29",
            "placeholder": "​",
            "style": "IPY_MODEL_29a7bfe9a3cc4119b5d1b669a96d3057",
            "value": " 8.43M/8.43M [00:00&lt;00:00, 24.0MB/s]"
          }
        },
        "8da69d03fe644084ab3f3d9b43d00d8a": {
          "model_module": "@jupyter-widgets/base",
          "model_name": "LayoutModel",
          "model_module_version": "1.2.0",
          "state": {
            "_model_module": "@jupyter-widgets/base",
            "_model_module_version": "1.2.0",
            "_model_name": "LayoutModel",
            "_view_count": null,
            "_view_module": "@jupyter-widgets/base",
            "_view_module_version": "1.2.0",
            "_view_name": "LayoutView",
            "align_content": null,
            "align_items": null,
            "align_self": null,
            "border": null,
            "bottom": null,
            "display": null,
            "flex": null,
            "flex_flow": null,
            "grid_area": null,
            "grid_auto_columns": null,
            "grid_auto_flow": null,
            "grid_auto_rows": null,
            "grid_column": null,
            "grid_gap": null,
            "grid_row": null,
            "grid_template_areas": null,
            "grid_template_columns": null,
            "grid_template_rows": null,
            "height": null,
            "justify_content": null,
            "justify_items": null,
            "left": null,
            "margin": null,
            "max_height": null,
            "max_width": null,
            "min_height": null,
            "min_width": null,
            "object_fit": null,
            "object_position": null,
            "order": null,
            "overflow": null,
            "overflow_x": null,
            "overflow_y": null,
            "padding": null,
            "right": null,
            "top": null,
            "visibility": null,
            "width": null
          }
        },
        "6ea40142da9341ef887f05bdfed99f6d": {
          "model_module": "@jupyter-widgets/base",
          "model_name": "LayoutModel",
          "model_module_version": "1.2.0",
          "state": {
            "_model_module": "@jupyter-widgets/base",
            "_model_module_version": "1.2.0",
            "_model_name": "LayoutModel",
            "_view_count": null,
            "_view_module": "@jupyter-widgets/base",
            "_view_module_version": "1.2.0",
            "_view_name": "LayoutView",
            "align_content": null,
            "align_items": null,
            "align_self": null,
            "border": null,
            "bottom": null,
            "display": null,
            "flex": null,
            "flex_flow": null,
            "grid_area": null,
            "grid_auto_columns": null,
            "grid_auto_flow": null,
            "grid_auto_rows": null,
            "grid_column": null,
            "grid_gap": null,
            "grid_row": null,
            "grid_template_areas": null,
            "grid_template_columns": null,
            "grid_template_rows": null,
            "height": null,
            "justify_content": null,
            "justify_items": null,
            "left": null,
            "margin": null,
            "max_height": null,
            "max_width": null,
            "min_height": null,
            "min_width": null,
            "object_fit": null,
            "object_position": null,
            "order": null,
            "overflow": null,
            "overflow_x": null,
            "overflow_y": null,
            "padding": null,
            "right": null,
            "top": null,
            "visibility": null,
            "width": null
          }
        },
        "aeca7faa423747a3a5c22aaae21d58f8": {
          "model_module": "@jupyter-widgets/controls",
          "model_name": "DescriptionStyleModel",
          "model_module_version": "1.5.0",
          "state": {
            "_model_module": "@jupyter-widgets/controls",
            "_model_module_version": "1.5.0",
            "_model_name": "DescriptionStyleModel",
            "_view_count": null,
            "_view_module": "@jupyter-widgets/base",
            "_view_module_version": "1.2.0",
            "_view_name": "StyleView",
            "description_width": ""
          }
        },
        "daf578b1961146a78ba632136c3b98ee": {
          "model_module": "@jupyter-widgets/base",
          "model_name": "LayoutModel",
          "model_module_version": "1.2.0",
          "state": {
            "_model_module": "@jupyter-widgets/base",
            "_model_module_version": "1.2.0",
            "_model_name": "LayoutModel",
            "_view_count": null,
            "_view_module": "@jupyter-widgets/base",
            "_view_module_version": "1.2.0",
            "_view_name": "LayoutView",
            "align_content": null,
            "align_items": null,
            "align_self": null,
            "border": null,
            "bottom": null,
            "display": null,
            "flex": null,
            "flex_flow": null,
            "grid_area": null,
            "grid_auto_columns": null,
            "grid_auto_flow": null,
            "grid_auto_rows": null,
            "grid_column": null,
            "grid_gap": null,
            "grid_row": null,
            "grid_template_areas": null,
            "grid_template_columns": null,
            "grid_template_rows": null,
            "height": null,
            "justify_content": null,
            "justify_items": null,
            "left": null,
            "margin": null,
            "max_height": null,
            "max_width": null,
            "min_height": null,
            "min_width": null,
            "object_fit": null,
            "object_position": null,
            "order": null,
            "overflow": null,
            "overflow_x": null,
            "overflow_y": null,
            "padding": null,
            "right": null,
            "top": null,
            "visibility": null,
            "width": null
          }
        },
        "2a02dd85e8794154bacf709fe14bd361": {
          "model_module": "@jupyter-widgets/controls",
          "model_name": "ProgressStyleModel",
          "model_module_version": "1.5.0",
          "state": {
            "_model_module": "@jupyter-widgets/controls",
            "_model_module_version": "1.5.0",
            "_model_name": "ProgressStyleModel",
            "_view_count": null,
            "_view_module": "@jupyter-widgets/base",
            "_view_module_version": "1.2.0",
            "_view_name": "StyleView",
            "bar_color": null,
            "description_width": ""
          }
        },
        "ff5b8691245947f89fa63b35f7753e29": {
          "model_module": "@jupyter-widgets/base",
          "model_name": "LayoutModel",
          "model_module_version": "1.2.0",
          "state": {
            "_model_module": "@jupyter-widgets/base",
            "_model_module_version": "1.2.0",
            "_model_name": "LayoutModel",
            "_view_count": null,
            "_view_module": "@jupyter-widgets/base",
            "_view_module_version": "1.2.0",
            "_view_name": "LayoutView",
            "align_content": null,
            "align_items": null,
            "align_self": null,
            "border": null,
            "bottom": null,
            "display": null,
            "flex": null,
            "flex_flow": null,
            "grid_area": null,
            "grid_auto_columns": null,
            "grid_auto_flow": null,
            "grid_auto_rows": null,
            "grid_column": null,
            "grid_gap": null,
            "grid_row": null,
            "grid_template_areas": null,
            "grid_template_columns": null,
            "grid_template_rows": null,
            "height": null,
            "justify_content": null,
            "justify_items": null,
            "left": null,
            "margin": null,
            "max_height": null,
            "max_width": null,
            "min_height": null,
            "min_width": null,
            "object_fit": null,
            "object_position": null,
            "order": null,
            "overflow": null,
            "overflow_x": null,
            "overflow_y": null,
            "padding": null,
            "right": null,
            "top": null,
            "visibility": null,
            "width": null
          }
        },
        "29a7bfe9a3cc4119b5d1b669a96d3057": {
          "model_module": "@jupyter-widgets/controls",
          "model_name": "DescriptionStyleModel",
          "model_module_version": "1.5.0",
          "state": {
            "_model_module": "@jupyter-widgets/controls",
            "_model_module_version": "1.5.0",
            "_model_name": "DescriptionStyleModel",
            "_view_count": null,
            "_view_module": "@jupyter-widgets/base",
            "_view_module_version": "1.2.0",
            "_view_name": "StyleView",
            "description_width": ""
          }
        },
        "52fbc094fb404783886aadc0816c5260": {
          "model_module": "@jupyter-widgets/controls",
          "model_name": "HBoxModel",
          "model_module_version": "1.5.0",
          "state": {
            "_dom_classes": [],
            "_model_module": "@jupyter-widgets/controls",
            "_model_module_version": "1.5.0",
            "_model_name": "HBoxModel",
            "_view_count": null,
            "_view_module": "@jupyter-widgets/controls",
            "_view_module_version": "1.5.0",
            "_view_name": "HBoxView",
            "box_style": "",
            "children": [
              "IPY_MODEL_3a1b6d30116342839077e429f518a867",
              "IPY_MODEL_0fa6786b0fc043fdb02d5ce3c78f413f",
              "IPY_MODEL_5ecbe660c54c41c58b135347d149e70c"
            ],
            "layout": "IPY_MODEL_81ea75ce0c9f4c6c873dcf5993270400"
          }
        },
        "3a1b6d30116342839077e429f518a867": {
          "model_module": "@jupyter-widgets/controls",
          "model_name": "HTMLModel",
          "model_module_version": "1.5.0",
          "state": {
            "_dom_classes": [],
            "_model_module": "@jupyter-widgets/controls",
            "_model_module_version": "1.5.0",
            "_model_name": "HTMLModel",
            "_view_count": null,
            "_view_module": "@jupyter-widgets/controls",
            "_view_module_version": "1.5.0",
            "_view_name": "HTMLView",
            "description": "",
            "description_tooltip": null,
            "layout": "IPY_MODEL_c541ba55e27e4512a722b31b667c1ddf",
            "placeholder": "​",
            "style": "IPY_MODEL_4731e96469a8478193d12760e2189c79",
            "value": "Generating train split: "
          }
        },
        "0fa6786b0fc043fdb02d5ce3c78f413f": {
          "model_module": "@jupyter-widgets/controls",
          "model_name": "FloatProgressModel",
          "model_module_version": "1.5.0",
          "state": {
            "_dom_classes": [],
            "_model_module": "@jupyter-widgets/controls",
            "_model_module_version": "1.5.0",
            "_model_name": "FloatProgressModel",
            "_view_count": null,
            "_view_module": "@jupyter-widgets/controls",
            "_view_module_version": "1.5.0",
            "_view_name": "ProgressView",
            "bar_style": "info",
            "description": "",
            "description_tooltip": null,
            "layout": "IPY_MODEL_bfc155d604924c43b3f349abe646045f",
            "max": 1,
            "min": 0,
            "orientation": "horizontal",
            "style": "IPY_MODEL_dc06557762d6402a8b7d4eec5bed540a",
            "value": 1
          }
        },
        "5ecbe660c54c41c58b135347d149e70c": {
          "model_module": "@jupyter-widgets/controls",
          "model_name": "HTMLModel",
          "model_module_version": "1.5.0",
          "state": {
            "_dom_classes": [],
            "_model_module": "@jupyter-widgets/controls",
            "_model_module_version": "1.5.0",
            "_model_name": "HTMLModel",
            "_view_count": null,
            "_view_module": "@jupyter-widgets/controls",
            "_view_module_version": "1.5.0",
            "_view_name": "HTMLView",
            "description": "",
            "description_tooltip": null,
            "layout": "IPY_MODEL_aa1bac8893e9401f88f4be1ba5ac4efe",
            "placeholder": "​",
            "style": "IPY_MODEL_c0a93d65af444230aa8c67872b81c953",
            "value": " 116835/0 [00:10&lt;00:00, 13439.39 examples/s]"
          }
        },
        "81ea75ce0c9f4c6c873dcf5993270400": {
          "model_module": "@jupyter-widgets/base",
          "model_name": "LayoutModel",
          "model_module_version": "1.2.0",
          "state": {
            "_model_module": "@jupyter-widgets/base",
            "_model_module_version": "1.2.0",
            "_model_name": "LayoutModel",
            "_view_count": null,
            "_view_module": "@jupyter-widgets/base",
            "_view_module_version": "1.2.0",
            "_view_name": "LayoutView",
            "align_content": null,
            "align_items": null,
            "align_self": null,
            "border": null,
            "bottom": null,
            "display": null,
            "flex": null,
            "flex_flow": null,
            "grid_area": null,
            "grid_auto_columns": null,
            "grid_auto_flow": null,
            "grid_auto_rows": null,
            "grid_column": null,
            "grid_gap": null,
            "grid_row": null,
            "grid_template_areas": null,
            "grid_template_columns": null,
            "grid_template_rows": null,
            "height": null,
            "justify_content": null,
            "justify_items": null,
            "left": null,
            "margin": null,
            "max_height": null,
            "max_width": null,
            "min_height": null,
            "min_width": null,
            "object_fit": null,
            "object_position": null,
            "order": null,
            "overflow": null,
            "overflow_x": null,
            "overflow_y": null,
            "padding": null,
            "right": null,
            "top": null,
            "visibility": "hidden",
            "width": null
          }
        },
        "c541ba55e27e4512a722b31b667c1ddf": {
          "model_module": "@jupyter-widgets/base",
          "model_name": "LayoutModel",
          "model_module_version": "1.2.0",
          "state": {
            "_model_module": "@jupyter-widgets/base",
            "_model_module_version": "1.2.0",
            "_model_name": "LayoutModel",
            "_view_count": null,
            "_view_module": "@jupyter-widgets/base",
            "_view_module_version": "1.2.0",
            "_view_name": "LayoutView",
            "align_content": null,
            "align_items": null,
            "align_self": null,
            "border": null,
            "bottom": null,
            "display": null,
            "flex": null,
            "flex_flow": null,
            "grid_area": null,
            "grid_auto_columns": null,
            "grid_auto_flow": null,
            "grid_auto_rows": null,
            "grid_column": null,
            "grid_gap": null,
            "grid_row": null,
            "grid_template_areas": null,
            "grid_template_columns": null,
            "grid_template_rows": null,
            "height": null,
            "justify_content": null,
            "justify_items": null,
            "left": null,
            "margin": null,
            "max_height": null,
            "max_width": null,
            "min_height": null,
            "min_width": null,
            "object_fit": null,
            "object_position": null,
            "order": null,
            "overflow": null,
            "overflow_x": null,
            "overflow_y": null,
            "padding": null,
            "right": null,
            "top": null,
            "visibility": null,
            "width": null
          }
        },
        "4731e96469a8478193d12760e2189c79": {
          "model_module": "@jupyter-widgets/controls",
          "model_name": "DescriptionStyleModel",
          "model_module_version": "1.5.0",
          "state": {
            "_model_module": "@jupyter-widgets/controls",
            "_model_module_version": "1.5.0",
            "_model_name": "DescriptionStyleModel",
            "_view_count": null,
            "_view_module": "@jupyter-widgets/base",
            "_view_module_version": "1.2.0",
            "_view_name": "StyleView",
            "description_width": ""
          }
        },
        "bfc155d604924c43b3f349abe646045f": {
          "model_module": "@jupyter-widgets/base",
          "model_name": "LayoutModel",
          "model_module_version": "1.2.0",
          "state": {
            "_model_module": "@jupyter-widgets/base",
            "_model_module_version": "1.2.0",
            "_model_name": "LayoutModel",
            "_view_count": null,
            "_view_module": "@jupyter-widgets/base",
            "_view_module_version": "1.2.0",
            "_view_name": "LayoutView",
            "align_content": null,
            "align_items": null,
            "align_self": null,
            "border": null,
            "bottom": null,
            "display": null,
            "flex": null,
            "flex_flow": null,
            "grid_area": null,
            "grid_auto_columns": null,
            "grid_auto_flow": null,
            "grid_auto_rows": null,
            "grid_column": null,
            "grid_gap": null,
            "grid_row": null,
            "grid_template_areas": null,
            "grid_template_columns": null,
            "grid_template_rows": null,
            "height": null,
            "justify_content": null,
            "justify_items": null,
            "left": null,
            "margin": null,
            "max_height": null,
            "max_width": null,
            "min_height": null,
            "min_width": null,
            "object_fit": null,
            "object_position": null,
            "order": null,
            "overflow": null,
            "overflow_x": null,
            "overflow_y": null,
            "padding": null,
            "right": null,
            "top": null,
            "visibility": null,
            "width": "20px"
          }
        },
        "dc06557762d6402a8b7d4eec5bed540a": {
          "model_module": "@jupyter-widgets/controls",
          "model_name": "ProgressStyleModel",
          "model_module_version": "1.5.0",
          "state": {
            "_model_module": "@jupyter-widgets/controls",
            "_model_module_version": "1.5.0",
            "_model_name": "ProgressStyleModel",
            "_view_count": null,
            "_view_module": "@jupyter-widgets/base",
            "_view_module_version": "1.2.0",
            "_view_name": "StyleView",
            "bar_color": null,
            "description_width": ""
          }
        },
        "aa1bac8893e9401f88f4be1ba5ac4efe": {
          "model_module": "@jupyter-widgets/base",
          "model_name": "LayoutModel",
          "model_module_version": "1.2.0",
          "state": {
            "_model_module": "@jupyter-widgets/base",
            "_model_module_version": "1.2.0",
            "_model_name": "LayoutModel",
            "_view_count": null,
            "_view_module": "@jupyter-widgets/base",
            "_view_module_version": "1.2.0",
            "_view_name": "LayoutView",
            "align_content": null,
            "align_items": null,
            "align_self": null,
            "border": null,
            "bottom": null,
            "display": null,
            "flex": null,
            "flex_flow": null,
            "grid_area": null,
            "grid_auto_columns": null,
            "grid_auto_flow": null,
            "grid_auto_rows": null,
            "grid_column": null,
            "grid_gap": null,
            "grid_row": null,
            "grid_template_areas": null,
            "grid_template_columns": null,
            "grid_template_rows": null,
            "height": null,
            "justify_content": null,
            "justify_items": null,
            "left": null,
            "margin": null,
            "max_height": null,
            "max_width": null,
            "min_height": null,
            "min_width": null,
            "object_fit": null,
            "object_position": null,
            "order": null,
            "overflow": null,
            "overflow_x": null,
            "overflow_y": null,
            "padding": null,
            "right": null,
            "top": null,
            "visibility": null,
            "width": null
          }
        },
        "c0a93d65af444230aa8c67872b81c953": {
          "model_module": "@jupyter-widgets/controls",
          "model_name": "DescriptionStyleModel",
          "model_module_version": "1.5.0",
          "state": {
            "_model_module": "@jupyter-widgets/controls",
            "_model_module_version": "1.5.0",
            "_model_name": "DescriptionStyleModel",
            "_view_count": null,
            "_view_module": "@jupyter-widgets/base",
            "_view_module_version": "1.2.0",
            "_view_name": "StyleView",
            "description_width": ""
          }
        },
        "e07c50e042c44c72b9246e7284ed71dc": {
          "model_module": "@jupyter-widgets/controls",
          "model_name": "HBoxModel",
          "model_module_version": "1.5.0",
          "state": {
            "_dom_classes": [],
            "_model_module": "@jupyter-widgets/controls",
            "_model_module_version": "1.5.0",
            "_model_name": "HBoxModel",
            "_view_count": null,
            "_view_module": "@jupyter-widgets/controls",
            "_view_module_version": "1.5.0",
            "_view_name": "HBoxView",
            "box_style": "",
            "children": [
              "IPY_MODEL_823535a4dabb44b4bff4f8f04f57b875",
              "IPY_MODEL_c52ea1ca9e6042e59abf4e68714647ad",
              "IPY_MODEL_c32f145492d841358772b92330e3d7bc"
            ],
            "layout": "IPY_MODEL_f972dbe9398b45009f2fe1cf7c78e61d"
          }
        },
        "823535a4dabb44b4bff4f8f04f57b875": {
          "model_module": "@jupyter-widgets/controls",
          "model_name": "HTMLModel",
          "model_module_version": "1.5.0",
          "state": {
            "_dom_classes": [],
            "_model_module": "@jupyter-widgets/controls",
            "_model_module_version": "1.5.0",
            "_model_name": "HTMLModel",
            "_view_count": null,
            "_view_module": "@jupyter-widgets/controls",
            "_view_module_version": "1.5.0",
            "_view_name": "HTMLView",
            "description": "",
            "description_tooltip": null,
            "layout": "IPY_MODEL_7c54405650be4eaeb40351d43bc52fd9",
            "placeholder": "​",
            "style": "IPY_MODEL_fb8b9ff5592d4ef0a6607bf03a70e60c",
            "value": "Generating test split: "
          }
        },
        "c52ea1ca9e6042e59abf4e68714647ad": {
          "model_module": "@jupyter-widgets/controls",
          "model_name": "FloatProgressModel",
          "model_module_version": "1.5.0",
          "state": {
            "_dom_classes": [],
            "_model_module": "@jupyter-widgets/controls",
            "_model_module_version": "1.5.0",
            "_model_name": "FloatProgressModel",
            "_view_count": null,
            "_view_module": "@jupyter-widgets/controls",
            "_view_module_version": "1.5.0",
            "_view_name": "ProgressView",
            "bar_style": "info",
            "description": "",
            "description_tooltip": null,
            "layout": "IPY_MODEL_2145d337a79c41fea51357a20eabeaea",
            "max": 1,
            "min": 0,
            "orientation": "horizontal",
            "style": "IPY_MODEL_e3ce014a31094a01b29541913479eec1",
            "value": 1
          }
        },
        "c32f145492d841358772b92330e3d7bc": {
          "model_module": "@jupyter-widgets/controls",
          "model_name": "HTMLModel",
          "model_module_version": "1.5.0",
          "state": {
            "_dom_classes": [],
            "_model_module": "@jupyter-widgets/controls",
            "_model_module_version": "1.5.0",
            "_model_name": "HTMLModel",
            "_view_count": null,
            "_view_module": "@jupyter-widgets/controls",
            "_view_module_version": "1.5.0",
            "_view_name": "HTMLView",
            "description": "",
            "description_tooltip": null,
            "layout": "IPY_MODEL_f7734987c74c43c9aacdad2adb1b4c8d",
            "placeholder": "​",
            "style": "IPY_MODEL_025ffd71a7ba4f9cbb8e78f491606bc2",
            "value": " 2504/0 [00:14&lt;00:00, 8495.35 examples/s]"
          }
        },
        "f972dbe9398b45009f2fe1cf7c78e61d": {
          "model_module": "@jupyter-widgets/base",
          "model_name": "LayoutModel",
          "model_module_version": "1.2.0",
          "state": {
            "_model_module": "@jupyter-widgets/base",
            "_model_module_version": "1.2.0",
            "_model_name": "LayoutModel",
            "_view_count": null,
            "_view_module": "@jupyter-widgets/base",
            "_view_module_version": "1.2.0",
            "_view_name": "LayoutView",
            "align_content": null,
            "align_items": null,
            "align_self": null,
            "border": null,
            "bottom": null,
            "display": null,
            "flex": null,
            "flex_flow": null,
            "grid_area": null,
            "grid_auto_columns": null,
            "grid_auto_flow": null,
            "grid_auto_rows": null,
            "grid_column": null,
            "grid_gap": null,
            "grid_row": null,
            "grid_template_areas": null,
            "grid_template_columns": null,
            "grid_template_rows": null,
            "height": null,
            "justify_content": null,
            "justify_items": null,
            "left": null,
            "margin": null,
            "max_height": null,
            "max_width": null,
            "min_height": null,
            "min_width": null,
            "object_fit": null,
            "object_position": null,
            "order": null,
            "overflow": null,
            "overflow_x": null,
            "overflow_y": null,
            "padding": null,
            "right": null,
            "top": null,
            "visibility": "hidden",
            "width": null
          }
        },
        "7c54405650be4eaeb40351d43bc52fd9": {
          "model_module": "@jupyter-widgets/base",
          "model_name": "LayoutModel",
          "model_module_version": "1.2.0",
          "state": {
            "_model_module": "@jupyter-widgets/base",
            "_model_module_version": "1.2.0",
            "_model_name": "LayoutModel",
            "_view_count": null,
            "_view_module": "@jupyter-widgets/base",
            "_view_module_version": "1.2.0",
            "_view_name": "LayoutView",
            "align_content": null,
            "align_items": null,
            "align_self": null,
            "border": null,
            "bottom": null,
            "display": null,
            "flex": null,
            "flex_flow": null,
            "grid_area": null,
            "grid_auto_columns": null,
            "grid_auto_flow": null,
            "grid_auto_rows": null,
            "grid_column": null,
            "grid_gap": null,
            "grid_row": null,
            "grid_template_areas": null,
            "grid_template_columns": null,
            "grid_template_rows": null,
            "height": null,
            "justify_content": null,
            "justify_items": null,
            "left": null,
            "margin": null,
            "max_height": null,
            "max_width": null,
            "min_height": null,
            "min_width": null,
            "object_fit": null,
            "object_position": null,
            "order": null,
            "overflow": null,
            "overflow_x": null,
            "overflow_y": null,
            "padding": null,
            "right": null,
            "top": null,
            "visibility": null,
            "width": null
          }
        },
        "fb8b9ff5592d4ef0a6607bf03a70e60c": {
          "model_module": "@jupyter-widgets/controls",
          "model_name": "DescriptionStyleModel",
          "model_module_version": "1.5.0",
          "state": {
            "_model_module": "@jupyter-widgets/controls",
            "_model_module_version": "1.5.0",
            "_model_name": "DescriptionStyleModel",
            "_view_count": null,
            "_view_module": "@jupyter-widgets/base",
            "_view_module_version": "1.2.0",
            "_view_name": "StyleView",
            "description_width": ""
          }
        },
        "2145d337a79c41fea51357a20eabeaea": {
          "model_module": "@jupyter-widgets/base",
          "model_name": "LayoutModel",
          "model_module_version": "1.2.0",
          "state": {
            "_model_module": "@jupyter-widgets/base",
            "_model_module_version": "1.2.0",
            "_model_name": "LayoutModel",
            "_view_count": null,
            "_view_module": "@jupyter-widgets/base",
            "_view_module_version": "1.2.0",
            "_view_name": "LayoutView",
            "align_content": null,
            "align_items": null,
            "align_self": null,
            "border": null,
            "bottom": null,
            "display": null,
            "flex": null,
            "flex_flow": null,
            "grid_area": null,
            "grid_auto_columns": null,
            "grid_auto_flow": null,
            "grid_auto_rows": null,
            "grid_column": null,
            "grid_gap": null,
            "grid_row": null,
            "grid_template_areas": null,
            "grid_template_columns": null,
            "grid_template_rows": null,
            "height": null,
            "justify_content": null,
            "justify_items": null,
            "left": null,
            "margin": null,
            "max_height": null,
            "max_width": null,
            "min_height": null,
            "min_width": null,
            "object_fit": null,
            "object_position": null,
            "order": null,
            "overflow": null,
            "overflow_x": null,
            "overflow_y": null,
            "padding": null,
            "right": null,
            "top": null,
            "visibility": null,
            "width": "20px"
          }
        },
        "e3ce014a31094a01b29541913479eec1": {
          "model_module": "@jupyter-widgets/controls",
          "model_name": "ProgressStyleModel",
          "model_module_version": "1.5.0",
          "state": {
            "_model_module": "@jupyter-widgets/controls",
            "_model_module_version": "1.5.0",
            "_model_name": "ProgressStyleModel",
            "_view_count": null,
            "_view_module": "@jupyter-widgets/base",
            "_view_module_version": "1.2.0",
            "_view_name": "StyleView",
            "bar_color": null,
            "description_width": ""
          }
        },
        "f7734987c74c43c9aacdad2adb1b4c8d": {
          "model_module": "@jupyter-widgets/base",
          "model_name": "LayoutModel",
          "model_module_version": "1.2.0",
          "state": {
            "_model_module": "@jupyter-widgets/base",
            "_model_module_version": "1.2.0",
            "_model_name": "LayoutModel",
            "_view_count": null,
            "_view_module": "@jupyter-widgets/base",
            "_view_module_version": "1.2.0",
            "_view_name": "LayoutView",
            "align_content": null,
            "align_items": null,
            "align_self": null,
            "border": null,
            "bottom": null,
            "display": null,
            "flex": null,
            "flex_flow": null,
            "grid_area": null,
            "grid_auto_columns": null,
            "grid_auto_flow": null,
            "grid_auto_rows": null,
            "grid_column": null,
            "grid_gap": null,
            "grid_row": null,
            "grid_template_areas": null,
            "grid_template_columns": null,
            "grid_template_rows": null,
            "height": null,
            "justify_content": null,
            "justify_items": null,
            "left": null,
            "margin": null,
            "max_height": null,
            "max_width": null,
            "min_height": null,
            "min_width": null,
            "object_fit": null,
            "object_position": null,
            "order": null,
            "overflow": null,
            "overflow_x": null,
            "overflow_y": null,
            "padding": null,
            "right": null,
            "top": null,
            "visibility": null,
            "width": null
          }
        },
        "025ffd71a7ba4f9cbb8e78f491606bc2": {
          "model_module": "@jupyter-widgets/controls",
          "model_name": "DescriptionStyleModel",
          "model_module_version": "1.5.0",
          "state": {
            "_model_module": "@jupyter-widgets/controls",
            "_model_module_version": "1.5.0",
            "_model_name": "DescriptionStyleModel",
            "_view_count": null,
            "_view_module": "@jupyter-widgets/base",
            "_view_module_version": "1.2.0",
            "_view_name": "StyleView",
            "description_width": ""
          }
        },
        "523f0e82fb514b09af146cabee665538": {
          "model_module": "@jupyter-widgets/controls",
          "model_name": "HBoxModel",
          "model_module_version": "1.5.0",
          "state": {
            "_dom_classes": [],
            "_model_module": "@jupyter-widgets/controls",
            "_model_module_version": "1.5.0",
            "_model_name": "HBoxModel",
            "_view_count": null,
            "_view_module": "@jupyter-widgets/controls",
            "_view_module_version": "1.5.0",
            "_view_name": "HBoxView",
            "box_style": "",
            "children": [
              "IPY_MODEL_cb80a9a90dfb4ce79561f52529279f3b",
              "IPY_MODEL_06e7b192be444453a1cbb44515440d7e",
              "IPY_MODEL_489310f9a1c14a46b6182b4d66020878"
            ],
            "layout": "IPY_MODEL_453249c79b3b4c8a8a40043093fcfab2"
          }
        },
        "cb80a9a90dfb4ce79561f52529279f3b": {
          "model_module": "@jupyter-widgets/controls",
          "model_name": "HTMLModel",
          "model_module_version": "1.5.0",
          "state": {
            "_dom_classes": [],
            "_model_module": "@jupyter-widgets/controls",
            "_model_module_version": "1.5.0",
            "_model_name": "HTMLModel",
            "_view_count": null,
            "_view_module": "@jupyter-widgets/controls",
            "_view_module_version": "1.5.0",
            "_view_name": "HTMLView",
            "description": "",
            "description_tooltip": null,
            "layout": "IPY_MODEL_00a6a9954bad4a389645f434a9fc68b8",
            "placeholder": "​",
            "style": "IPY_MODEL_f9fc6e35c1dd49e6bd307fbe1e1cda18",
            "value": "Generating validation split: "
          }
        },
        "06e7b192be444453a1cbb44515440d7e": {
          "model_module": "@jupyter-widgets/controls",
          "model_name": "FloatProgressModel",
          "model_module_version": "1.5.0",
          "state": {
            "_dom_classes": [],
            "_model_module": "@jupyter-widgets/controls",
            "_model_module_version": "1.5.0",
            "_model_name": "FloatProgressModel",
            "_view_count": null,
            "_view_module": "@jupyter-widgets/controls",
            "_view_module_version": "1.5.0",
            "_view_name": "ProgressView",
            "bar_style": "info",
            "description": "",
            "description_tooltip": null,
            "layout": "IPY_MODEL_d6ae660a5ebf41abb421277adc95178d",
            "max": 1,
            "min": 0,
            "orientation": "horizontal",
            "style": "IPY_MODEL_86598cca64f44972b5d1db7b9121dfe8",
            "value": 1
          }
        },
        "489310f9a1c14a46b6182b4d66020878": {
          "model_module": "@jupyter-widgets/controls",
          "model_name": "HTMLModel",
          "model_module_version": "1.5.0",
          "state": {
            "_dom_classes": [],
            "_model_module": "@jupyter-widgets/controls",
            "_model_module_version": "1.5.0",
            "_model_name": "HTMLModel",
            "_view_count": null,
            "_view_module": "@jupyter-widgets/controls",
            "_view_module_version": "1.5.0",
            "_view_name": "HTMLView",
            "description": "",
            "description_tooltip": null,
            "layout": "IPY_MODEL_d00325e1aeac4a03ba39b68c3499489c",
            "placeholder": "​",
            "style": "IPY_MODEL_48a2788515f64a2c87a1b8e183b2d806",
            "value": " 2502/0 [00:13&lt;00:00, 7592.67 examples/s]"
          }
        },
        "453249c79b3b4c8a8a40043093fcfab2": {
          "model_module": "@jupyter-widgets/base",
          "model_name": "LayoutModel",
          "model_module_version": "1.2.0",
          "state": {
            "_model_module": "@jupyter-widgets/base",
            "_model_module_version": "1.2.0",
            "_model_name": "LayoutModel",
            "_view_count": null,
            "_view_module": "@jupyter-widgets/base",
            "_view_module_version": "1.2.0",
            "_view_name": "LayoutView",
            "align_content": null,
            "align_items": null,
            "align_self": null,
            "border": null,
            "bottom": null,
            "display": null,
            "flex": null,
            "flex_flow": null,
            "grid_area": null,
            "grid_auto_columns": null,
            "grid_auto_flow": null,
            "grid_auto_rows": null,
            "grid_column": null,
            "grid_gap": null,
            "grid_row": null,
            "grid_template_areas": null,
            "grid_template_columns": null,
            "grid_template_rows": null,
            "height": null,
            "justify_content": null,
            "justify_items": null,
            "left": null,
            "margin": null,
            "max_height": null,
            "max_width": null,
            "min_height": null,
            "min_width": null,
            "object_fit": null,
            "object_position": null,
            "order": null,
            "overflow": null,
            "overflow_x": null,
            "overflow_y": null,
            "padding": null,
            "right": null,
            "top": null,
            "visibility": "hidden",
            "width": null
          }
        },
        "00a6a9954bad4a389645f434a9fc68b8": {
          "model_module": "@jupyter-widgets/base",
          "model_name": "LayoutModel",
          "model_module_version": "1.2.0",
          "state": {
            "_model_module": "@jupyter-widgets/base",
            "_model_module_version": "1.2.0",
            "_model_name": "LayoutModel",
            "_view_count": null,
            "_view_module": "@jupyter-widgets/base",
            "_view_module_version": "1.2.0",
            "_view_name": "LayoutView",
            "align_content": null,
            "align_items": null,
            "align_self": null,
            "border": null,
            "bottom": null,
            "display": null,
            "flex": null,
            "flex_flow": null,
            "grid_area": null,
            "grid_auto_columns": null,
            "grid_auto_flow": null,
            "grid_auto_rows": null,
            "grid_column": null,
            "grid_gap": null,
            "grid_row": null,
            "grid_template_areas": null,
            "grid_template_columns": null,
            "grid_template_rows": null,
            "height": null,
            "justify_content": null,
            "justify_items": null,
            "left": null,
            "margin": null,
            "max_height": null,
            "max_width": null,
            "min_height": null,
            "min_width": null,
            "object_fit": null,
            "object_position": null,
            "order": null,
            "overflow": null,
            "overflow_x": null,
            "overflow_y": null,
            "padding": null,
            "right": null,
            "top": null,
            "visibility": null,
            "width": null
          }
        },
        "f9fc6e35c1dd49e6bd307fbe1e1cda18": {
          "model_module": "@jupyter-widgets/controls",
          "model_name": "DescriptionStyleModel",
          "model_module_version": "1.5.0",
          "state": {
            "_model_module": "@jupyter-widgets/controls",
            "_model_module_version": "1.5.0",
            "_model_name": "DescriptionStyleModel",
            "_view_count": null,
            "_view_module": "@jupyter-widgets/base",
            "_view_module_version": "1.2.0",
            "_view_name": "StyleView",
            "description_width": ""
          }
        },
        "d6ae660a5ebf41abb421277adc95178d": {
          "model_module": "@jupyter-widgets/base",
          "model_name": "LayoutModel",
          "model_module_version": "1.2.0",
          "state": {
            "_model_module": "@jupyter-widgets/base",
            "_model_module_version": "1.2.0",
            "_model_name": "LayoutModel",
            "_view_count": null,
            "_view_module": "@jupyter-widgets/base",
            "_view_module_version": "1.2.0",
            "_view_name": "LayoutView",
            "align_content": null,
            "align_items": null,
            "align_self": null,
            "border": null,
            "bottom": null,
            "display": null,
            "flex": null,
            "flex_flow": null,
            "grid_area": null,
            "grid_auto_columns": null,
            "grid_auto_flow": null,
            "grid_auto_rows": null,
            "grid_column": null,
            "grid_gap": null,
            "grid_row": null,
            "grid_template_areas": null,
            "grid_template_columns": null,
            "grid_template_rows": null,
            "height": null,
            "justify_content": null,
            "justify_items": null,
            "left": null,
            "margin": null,
            "max_height": null,
            "max_width": null,
            "min_height": null,
            "min_width": null,
            "object_fit": null,
            "object_position": null,
            "order": null,
            "overflow": null,
            "overflow_x": null,
            "overflow_y": null,
            "padding": null,
            "right": null,
            "top": null,
            "visibility": null,
            "width": "20px"
          }
        },
        "86598cca64f44972b5d1db7b9121dfe8": {
          "model_module": "@jupyter-widgets/controls",
          "model_name": "ProgressStyleModel",
          "model_module_version": "1.5.0",
          "state": {
            "_model_module": "@jupyter-widgets/controls",
            "_model_module_version": "1.5.0",
            "_model_name": "ProgressStyleModel",
            "_view_count": null,
            "_view_module": "@jupyter-widgets/base",
            "_view_module_version": "1.2.0",
            "_view_name": "StyleView",
            "bar_color": null,
            "description_width": ""
          }
        },
        "d00325e1aeac4a03ba39b68c3499489c": {
          "model_module": "@jupyter-widgets/base",
          "model_name": "LayoutModel",
          "model_module_version": "1.2.0",
          "state": {
            "_model_module": "@jupyter-widgets/base",
            "_model_module_version": "1.2.0",
            "_model_name": "LayoutModel",
            "_view_count": null,
            "_view_module": "@jupyter-widgets/base",
            "_view_module_version": "1.2.0",
            "_view_name": "LayoutView",
            "align_content": null,
            "align_items": null,
            "align_self": null,
            "border": null,
            "bottom": null,
            "display": null,
            "flex": null,
            "flex_flow": null,
            "grid_area": null,
            "grid_auto_columns": null,
            "grid_auto_flow": null,
            "grid_auto_rows": null,
            "grid_column": null,
            "grid_gap": null,
            "grid_row": null,
            "grid_template_areas": null,
            "grid_template_columns": null,
            "grid_template_rows": null,
            "height": null,
            "justify_content": null,
            "justify_items": null,
            "left": null,
            "margin": null,
            "max_height": null,
            "max_width": null,
            "min_height": null,
            "min_width": null,
            "object_fit": null,
            "object_position": null,
            "order": null,
            "overflow": null,
            "overflow_x": null,
            "overflow_y": null,
            "padding": null,
            "right": null,
            "top": null,
            "visibility": null,
            "width": null
          }
        },
        "48a2788515f64a2c87a1b8e183b2d806": {
          "model_module": "@jupyter-widgets/controls",
          "model_name": "DescriptionStyleModel",
          "model_module_version": "1.5.0",
          "state": {
            "_model_module": "@jupyter-widgets/controls",
            "_model_module_version": "1.5.0",
            "_model_name": "DescriptionStyleModel",
            "_view_count": null,
            "_view_module": "@jupyter-widgets/base",
            "_view_module_version": "1.2.0",
            "_view_name": "StyleView",
            "description_width": ""
          }
        },
        "8fc6df4e8df34939ba788b2421f07b15": {
          "model_module": "@jupyter-widgets/controls",
          "model_name": "HBoxModel",
          "model_module_version": "1.5.0",
          "state": {
            "_dom_classes": [],
            "_model_module": "@jupyter-widgets/controls",
            "_model_module_version": "1.5.0",
            "_model_name": "HBoxModel",
            "_view_count": null,
            "_view_module": "@jupyter-widgets/controls",
            "_view_module_version": "1.5.0",
            "_view_name": "HBoxView",
            "box_style": "",
            "children": [
              "IPY_MODEL_394eb6afc83c419bada58cbffd44a43d",
              "IPY_MODEL_5875c7ed7f5f49bab46dd093d949685d",
              "IPY_MODEL_9b1570c35c3c48d6b76c4d4f0332af0c"
            ],
            "layout": "IPY_MODEL_ffc81475f853400791957fcb05ee54d9"
          }
        },
        "394eb6afc83c419bada58cbffd44a43d": {
          "model_module": "@jupyter-widgets/controls",
          "model_name": "HTMLModel",
          "model_module_version": "1.5.0",
          "state": {
            "_dom_classes": [],
            "_model_module": "@jupyter-widgets/controls",
            "_model_module_version": "1.5.0",
            "_model_name": "HTMLModel",
            "_view_count": null,
            "_view_module": "@jupyter-widgets/controls",
            "_view_module_version": "1.5.0",
            "_view_name": "HTMLView",
            "description": "",
            "description_tooltip": null,
            "layout": "IPY_MODEL_04b76ac87c6840548ea9a3fd43870b19",
            "placeholder": "​",
            "style": "IPY_MODEL_8126a9429aa84e62aecdcf0e552cb022",
            "value": "100%"
          }
        },
        "5875c7ed7f5f49bab46dd093d949685d": {
          "model_module": "@jupyter-widgets/controls",
          "model_name": "FloatProgressModel",
          "model_module_version": "1.5.0",
          "state": {
            "_dom_classes": [],
            "_model_module": "@jupyter-widgets/controls",
            "_model_module_version": "1.5.0",
            "_model_name": "FloatProgressModel",
            "_view_count": null,
            "_view_module": "@jupyter-widgets/controls",
            "_view_module_version": "1.5.0",
            "_view_name": "ProgressView",
            "bar_style": "success",
            "description": "",
            "description_tooltip": null,
            "layout": "IPY_MODEL_470ac30b6bad4617886ab61c7291e44d",
            "max": 3,
            "min": 0,
            "orientation": "horizontal",
            "style": "IPY_MODEL_724b8e90abb1491884122e588cdfcba7",
            "value": 3
          }
        },
        "9b1570c35c3c48d6b76c4d4f0332af0c": {
          "model_module": "@jupyter-widgets/controls",
          "model_name": "HTMLModel",
          "model_module_version": "1.5.0",
          "state": {
            "_dom_classes": [],
            "_model_module": "@jupyter-widgets/controls",
            "_model_module_version": "1.5.0",
            "_model_name": "HTMLModel",
            "_view_count": null,
            "_view_module": "@jupyter-widgets/controls",
            "_view_module_version": "1.5.0",
            "_view_name": "HTMLView",
            "description": "",
            "description_tooltip": null,
            "layout": "IPY_MODEL_25ac8c6b5cd940f5b07669cf924e5c78",
            "placeholder": "​",
            "style": "IPY_MODEL_25abd48f8c5b42139bda0332fba4ad41",
            "value": " 3/3 [00:00&lt;00:00,  3.41it/s]"
          }
        },
        "ffc81475f853400791957fcb05ee54d9": {
          "model_module": "@jupyter-widgets/base",
          "model_name": "LayoutModel",
          "model_module_version": "1.2.0",
          "state": {
            "_model_module": "@jupyter-widgets/base",
            "_model_module_version": "1.2.0",
            "_model_name": "LayoutModel",
            "_view_count": null,
            "_view_module": "@jupyter-widgets/base",
            "_view_module_version": "1.2.0",
            "_view_name": "LayoutView",
            "align_content": null,
            "align_items": null,
            "align_self": null,
            "border": null,
            "bottom": null,
            "display": null,
            "flex": null,
            "flex_flow": null,
            "grid_area": null,
            "grid_auto_columns": null,
            "grid_auto_flow": null,
            "grid_auto_rows": null,
            "grid_column": null,
            "grid_gap": null,
            "grid_row": null,
            "grid_template_areas": null,
            "grid_template_columns": null,
            "grid_template_rows": null,
            "height": null,
            "justify_content": null,
            "justify_items": null,
            "left": null,
            "margin": null,
            "max_height": null,
            "max_width": null,
            "min_height": null,
            "min_width": null,
            "object_fit": null,
            "object_position": null,
            "order": null,
            "overflow": null,
            "overflow_x": null,
            "overflow_y": null,
            "padding": null,
            "right": null,
            "top": null,
            "visibility": null,
            "width": null
          }
        },
        "04b76ac87c6840548ea9a3fd43870b19": {
          "model_module": "@jupyter-widgets/base",
          "model_name": "LayoutModel",
          "model_module_version": "1.2.0",
          "state": {
            "_model_module": "@jupyter-widgets/base",
            "_model_module_version": "1.2.0",
            "_model_name": "LayoutModel",
            "_view_count": null,
            "_view_module": "@jupyter-widgets/base",
            "_view_module_version": "1.2.0",
            "_view_name": "LayoutView",
            "align_content": null,
            "align_items": null,
            "align_self": null,
            "border": null,
            "bottom": null,
            "display": null,
            "flex": null,
            "flex_flow": null,
            "grid_area": null,
            "grid_auto_columns": null,
            "grid_auto_flow": null,
            "grid_auto_rows": null,
            "grid_column": null,
            "grid_gap": null,
            "grid_row": null,
            "grid_template_areas": null,
            "grid_template_columns": null,
            "grid_template_rows": null,
            "height": null,
            "justify_content": null,
            "justify_items": null,
            "left": null,
            "margin": null,
            "max_height": null,
            "max_width": null,
            "min_height": null,
            "min_width": null,
            "object_fit": null,
            "object_position": null,
            "order": null,
            "overflow": null,
            "overflow_x": null,
            "overflow_y": null,
            "padding": null,
            "right": null,
            "top": null,
            "visibility": null,
            "width": null
          }
        },
        "8126a9429aa84e62aecdcf0e552cb022": {
          "model_module": "@jupyter-widgets/controls",
          "model_name": "DescriptionStyleModel",
          "model_module_version": "1.5.0",
          "state": {
            "_model_module": "@jupyter-widgets/controls",
            "_model_module_version": "1.5.0",
            "_model_name": "DescriptionStyleModel",
            "_view_count": null,
            "_view_module": "@jupyter-widgets/base",
            "_view_module_version": "1.2.0",
            "_view_name": "StyleView",
            "description_width": ""
          }
        },
        "470ac30b6bad4617886ab61c7291e44d": {
          "model_module": "@jupyter-widgets/base",
          "model_name": "LayoutModel",
          "model_module_version": "1.2.0",
          "state": {
            "_model_module": "@jupyter-widgets/base",
            "_model_module_version": "1.2.0",
            "_model_name": "LayoutModel",
            "_view_count": null,
            "_view_module": "@jupyter-widgets/base",
            "_view_module_version": "1.2.0",
            "_view_name": "LayoutView",
            "align_content": null,
            "align_items": null,
            "align_self": null,
            "border": null,
            "bottom": null,
            "display": null,
            "flex": null,
            "flex_flow": null,
            "grid_area": null,
            "grid_auto_columns": null,
            "grid_auto_flow": null,
            "grid_auto_rows": null,
            "grid_column": null,
            "grid_gap": null,
            "grid_row": null,
            "grid_template_areas": null,
            "grid_template_columns": null,
            "grid_template_rows": null,
            "height": null,
            "justify_content": null,
            "justify_items": null,
            "left": null,
            "margin": null,
            "max_height": null,
            "max_width": null,
            "min_height": null,
            "min_width": null,
            "object_fit": null,
            "object_position": null,
            "order": null,
            "overflow": null,
            "overflow_x": null,
            "overflow_y": null,
            "padding": null,
            "right": null,
            "top": null,
            "visibility": null,
            "width": null
          }
        },
        "724b8e90abb1491884122e588cdfcba7": {
          "model_module": "@jupyter-widgets/controls",
          "model_name": "ProgressStyleModel",
          "model_module_version": "1.5.0",
          "state": {
            "_model_module": "@jupyter-widgets/controls",
            "_model_module_version": "1.5.0",
            "_model_name": "ProgressStyleModel",
            "_view_count": null,
            "_view_module": "@jupyter-widgets/base",
            "_view_module_version": "1.2.0",
            "_view_name": "StyleView",
            "bar_color": null,
            "description_width": ""
          }
        },
        "25ac8c6b5cd940f5b07669cf924e5c78": {
          "model_module": "@jupyter-widgets/base",
          "model_name": "LayoutModel",
          "model_module_version": "1.2.0",
          "state": {
            "_model_module": "@jupyter-widgets/base",
            "_model_module_version": "1.2.0",
            "_model_name": "LayoutModel",
            "_view_count": null,
            "_view_module": "@jupyter-widgets/base",
            "_view_module_version": "1.2.0",
            "_view_name": "LayoutView",
            "align_content": null,
            "align_items": null,
            "align_self": null,
            "border": null,
            "bottom": null,
            "display": null,
            "flex": null,
            "flex_flow": null,
            "grid_area": null,
            "grid_auto_columns": null,
            "grid_auto_flow": null,
            "grid_auto_rows": null,
            "grid_column": null,
            "grid_gap": null,
            "grid_row": null,
            "grid_template_areas": null,
            "grid_template_columns": null,
            "grid_template_rows": null,
            "height": null,
            "justify_content": null,
            "justify_items": null,
            "left": null,
            "margin": null,
            "max_height": null,
            "max_width": null,
            "min_height": null,
            "min_width": null,
            "object_fit": null,
            "object_position": null,
            "order": null,
            "overflow": null,
            "overflow_x": null,
            "overflow_y": null,
            "padding": null,
            "right": null,
            "top": null,
            "visibility": null,
            "width": null
          }
        },
        "25abd48f8c5b42139bda0332fba4ad41": {
          "model_module": "@jupyter-widgets/controls",
          "model_name": "DescriptionStyleModel",
          "model_module_version": "1.5.0",
          "state": {
            "_model_module": "@jupyter-widgets/controls",
            "_model_module_version": "1.5.0",
            "_model_name": "DescriptionStyleModel",
            "_view_count": null,
            "_view_module": "@jupyter-widgets/base",
            "_view_module_version": "1.2.0",
            "_view_name": "StyleView",
            "description_width": ""
          }
        }
      }
    }
  },
  "cells": [
    {
      "cell_type": "markdown",
      "source": [
        "# Installing libaries "
      ],
      "metadata": {
        "id": "fhC6oVKc-xF2"
      }
    },
    {
      "cell_type": "code",
      "source": [
        "%%shell\n",
        "pip install -U sentence-transformers -q\n",
        "pip install datasets -q\n",
        "pip install transformers -q"
      ],
      "metadata": {
        "colab": {
          "base_uri": "https://localhost:8080/",
          "height": 0
        },
        "id": "RKBlikzHArvw",
        "outputId": "1495edc8-9b05-4e3d-bcb2-ec99e7922af8"
      },
      "execution_count": 1,
      "outputs": [
        {
          "output_type": "stream",
          "name": "stdout",
          "text": [
            "\u001b[K     |████████████████████████████████| 85 kB 1.1 MB/s \n",
            "\u001b[K     |████████████████████████████████| 5.8 MB 37.8 MB/s \n",
            "\u001b[K     |████████████████████████████████| 1.3 MB 53.1 MB/s \n",
            "\u001b[K     |████████████████████████████████| 182 kB 59.5 MB/s \n",
            "\u001b[K     |████████████████████████████████| 7.6 MB 37.4 MB/s \n",
            "\u001b[?25h  Building wheel for sentence-transformers (setup.py) ... \u001b[?25l\u001b[?25hdone\n",
            "\u001b[K     |████████████████████████████████| 451 kB 5.3 MB/s \n",
            "\u001b[K     |████████████████████████████████| 132 kB 63.1 MB/s \n",
            "\u001b[K     |████████████████████████████████| 212 kB 76.7 MB/s \n",
            "\u001b[K     |████████████████████████████████| 127 kB 61.8 MB/s \n",
            "\u001b[?25h"
          ]
        },
        {
          "output_type": "execute_result",
          "data": {
            "text/plain": []
          },
          "metadata": {},
          "execution_count": 1
        }
      ]
    },
    {
      "cell_type": "markdown",
      "source": [
        "# `Data Loading` and `Preprocessing`\n",
        "\n",
        "\n",
        "\n"
      ],
      "metadata": {
        "id": "LCNZ3cyFAtQK"
      }
    },
    {
      "cell_type": "code",
      "source": [
        "from datasets import load_dataset\n",
        "\n",
        "squad_bn = load_dataset(\"csebuetnlp/squad_bn\")\n",
        "squad_bn"
      ],
      "metadata": {
        "colab": {
          "base_uri": "https://localhost:8080/",
          "height": 475,
          "referenced_widgets": [
            "70f5738f74ba468189050deb9fa70fe9",
            "e42f3abadc234210abcd069564255c2e",
            "487841884b27485c95d55f59d3a6f347",
            "22a64aef6b05449ab1dae3438ad0eb62",
            "8c5989b458a14690b8816b4342e4c7bc",
            "8a2c637600284ea68ceb5705d3e29a55",
            "1c6f0749bc81419f932fe87a6e294a96",
            "f87c69bebfbc4130af434a4753b775df",
            "ea9b5d9c103540f0b962e314f8b61128",
            "0f580d21bea7489b817811c7245ee7e6",
            "1dd93c75ded04b3f95898336051aa7ed",
            "58e98f49b1844642bea5e23f0a78fddb",
            "942a6f459af04a719b7b3628c9f013fb",
            "0eb3cc2c0f5d44bc937bd02eb302df10",
            "26a477c3cb2c4dafa4aaab5618fcf053",
            "505e859af21643cbaf6c5a152b6f8639",
            "de848052c15e4572bb9304d6fd4f2324",
            "f3666a7d6d514868b571de1da1d72ce6",
            "cca91d6c68aa43f2a91165c718305e93",
            "dd21e68d20ba43b89fe375bdd0f23d7c",
            "f1cc06d347e946558b391552e772350d",
            "887e9dcd2b174dd49e2cd9da7e90f6d2",
            "b497da41e5b2450ebc3229cd1bfe9fd6",
            "ba48a8ef095c4789b25ad4647586ca5a",
            "7edd20e238e94003bdfa289f4932bcfe",
            "459a5db7fb074befab30d8e7d3994b4b",
            "8da69d03fe644084ab3f3d9b43d00d8a",
            "6ea40142da9341ef887f05bdfed99f6d",
            "aeca7faa423747a3a5c22aaae21d58f8",
            "daf578b1961146a78ba632136c3b98ee",
            "2a02dd85e8794154bacf709fe14bd361",
            "ff5b8691245947f89fa63b35f7753e29",
            "29a7bfe9a3cc4119b5d1b669a96d3057",
            "52fbc094fb404783886aadc0816c5260",
            "3a1b6d30116342839077e429f518a867",
            "0fa6786b0fc043fdb02d5ce3c78f413f",
            "5ecbe660c54c41c58b135347d149e70c",
            "81ea75ce0c9f4c6c873dcf5993270400",
            "c541ba55e27e4512a722b31b667c1ddf",
            "4731e96469a8478193d12760e2189c79",
            "bfc155d604924c43b3f349abe646045f",
            "dc06557762d6402a8b7d4eec5bed540a",
            "aa1bac8893e9401f88f4be1ba5ac4efe",
            "c0a93d65af444230aa8c67872b81c953",
            "e07c50e042c44c72b9246e7284ed71dc",
            "823535a4dabb44b4bff4f8f04f57b875",
            "c52ea1ca9e6042e59abf4e68714647ad",
            "c32f145492d841358772b92330e3d7bc",
            "f972dbe9398b45009f2fe1cf7c78e61d",
            "7c54405650be4eaeb40351d43bc52fd9",
            "fb8b9ff5592d4ef0a6607bf03a70e60c",
            "2145d337a79c41fea51357a20eabeaea",
            "e3ce014a31094a01b29541913479eec1",
            "f7734987c74c43c9aacdad2adb1b4c8d",
            "025ffd71a7ba4f9cbb8e78f491606bc2",
            "523f0e82fb514b09af146cabee665538",
            "cb80a9a90dfb4ce79561f52529279f3b",
            "06e7b192be444453a1cbb44515440d7e",
            "489310f9a1c14a46b6182b4d66020878",
            "453249c79b3b4c8a8a40043093fcfab2",
            "00a6a9954bad4a389645f434a9fc68b8",
            "f9fc6e35c1dd49e6bd307fbe1e1cda18",
            "d6ae660a5ebf41abb421277adc95178d",
            "86598cca64f44972b5d1db7b9121dfe8",
            "d00325e1aeac4a03ba39b68c3499489c",
            "48a2788515f64a2c87a1b8e183b2d806",
            "8fc6df4e8df34939ba788b2421f07b15",
            "394eb6afc83c419bada58cbffd44a43d",
            "5875c7ed7f5f49bab46dd093d949685d",
            "9b1570c35c3c48d6b76c4d4f0332af0c",
            "ffc81475f853400791957fcb05ee54d9",
            "04b76ac87c6840548ea9a3fd43870b19",
            "8126a9429aa84e62aecdcf0e552cb022",
            "470ac30b6bad4617886ab61c7291e44d",
            "724b8e90abb1491884122e588cdfcba7",
            "25ac8c6b5cd940f5b07669cf924e5c78",
            "25abd48f8c5b42139bda0332fba4ad41"
          ]
        },
        "id": "eyAQTkRQBBIC",
        "outputId": "2393b1fc-3e33-468d-e34f-8e902d866769"
      },
      "execution_count": 2,
      "outputs": [
        {
          "output_type": "display_data",
          "data": {
            "text/plain": [
              "Downloading builder script:   0%|          | 0.00/4.20k [00:00<?, ?B/s]"
            ],
            "application/vnd.jupyter.widget-view+json": {
              "version_major": 2,
              "version_minor": 0,
              "model_id": "70f5738f74ba468189050deb9fa70fe9"
            }
          },
          "metadata": {}
        },
        {
          "output_type": "display_data",
          "data": {
            "text/plain": [
              "Downloading readme:   0%|          | 0.00/9.17k [00:00<?, ?B/s]"
            ],
            "application/vnd.jupyter.widget-view+json": {
              "version_major": 2,
              "version_minor": 0,
              "model_id": "58e98f49b1844642bea5e23f0a78fddb"
            }
          },
          "metadata": {}
        },
        {
          "output_type": "stream",
          "name": "stdout",
          "text": [
            "Downloading and preparing dataset squad_bn/squad_bn to /root/.cache/huggingface/datasets/csebuetnlp___squad_bn/squad_bn/0.0.1/17a6d6abc976f299afda17ca9b5ce08a022ecafabe24b3362e16a3093c32df4b...\n"
          ]
        },
        {
          "output_type": "display_data",
          "data": {
            "text/plain": [
              "Downloading data:   0%|          | 0.00/8.43M [00:00<?, ?B/s]"
            ],
            "application/vnd.jupyter.widget-view+json": {
              "version_major": 2,
              "version_minor": 0,
              "model_id": "b497da41e5b2450ebc3229cd1bfe9fd6"
            }
          },
          "metadata": {}
        },
        {
          "output_type": "display_data",
          "data": {
            "text/plain": [
              "Generating train split: 0 examples [00:00, ? examples/s]"
            ],
            "application/vnd.jupyter.widget-view+json": {
              "version_major": 2,
              "version_minor": 0,
              "model_id": "52fbc094fb404783886aadc0816c5260"
            }
          },
          "metadata": {}
        },
        {
          "output_type": "display_data",
          "data": {
            "text/plain": [
              "Generating test split: 0 examples [00:00, ? examples/s]"
            ],
            "application/vnd.jupyter.widget-view+json": {
              "version_major": 2,
              "version_minor": 0,
              "model_id": "e07c50e042c44c72b9246e7284ed71dc"
            }
          },
          "metadata": {}
        },
        {
          "output_type": "display_data",
          "data": {
            "text/plain": [
              "Generating validation split: 0 examples [00:00, ? examples/s]"
            ],
            "application/vnd.jupyter.widget-view+json": {
              "version_major": 2,
              "version_minor": 0,
              "model_id": "523f0e82fb514b09af146cabee665538"
            }
          },
          "metadata": {}
        },
        {
          "output_type": "stream",
          "name": "stdout",
          "text": [
            "Dataset squad_bn downloaded and prepared to /root/.cache/huggingface/datasets/csebuetnlp___squad_bn/squad_bn/0.0.1/17a6d6abc976f299afda17ca9b5ce08a022ecafabe24b3362e16a3093c32df4b. Subsequent calls will reuse this data.\n"
          ]
        },
        {
          "output_type": "display_data",
          "data": {
            "text/plain": [
              "  0%|          | 0/3 [00:00<?, ?it/s]"
            ],
            "application/vnd.jupyter.widget-view+json": {
              "version_major": 2,
              "version_minor": 0,
              "model_id": "8fc6df4e8df34939ba788b2421f07b15"
            }
          },
          "metadata": {}
        },
        {
          "output_type": "execute_result",
          "data": {
            "text/plain": [
              "DatasetDict({\n",
              "    train: Dataset({\n",
              "        features: ['id', 'title', 'context', 'question', 'answers'],\n",
              "        num_rows: 118117\n",
              "    })\n",
              "    test: Dataset({\n",
              "        features: ['id', 'title', 'context', 'question', 'answers'],\n",
              "        num_rows: 2504\n",
              "    })\n",
              "    validation: Dataset({\n",
              "        features: ['id', 'title', 'context', 'question', 'answers'],\n",
              "        num_rows: 2502\n",
              "    })\n",
              "})"
            ]
          },
          "metadata": {},
          "execution_count": 2
        }
      ]
    },
    {
      "cell_type": "code",
      "source": [
        "# adding data from squad_bn (only mujib related contexts are being considered)\n",
        "dataset= [] # list with context and question (Mujib related)\n",
        "for i in range(len(squad_bn[\"validation\"])-1):\n",
        "  if squad_bn[\"validation\"][i][\"title\"]==\"শেখ মুজিবুর রহমান\":\n",
        "    dataset.append({'question':squad_bn[\"validation\"][i][\"question\"],\n",
        "                  'context':squad_bn[\"validation\"][i][\"context\"]})\n"
      ],
      "metadata": {
        "id": "8R7XwNEuBC_x"
      },
      "execution_count": 10,
      "outputs": []
    },
    {
      "cell_type": "code",
      "source": [
        "# function to add more data\n",
        "def add_data(question, context):\n",
        "  dataset.append({\n",
        "      'question':question,\n",
        "      'context': context\n",
        "  }\n",
        "  )"
      ],
      "metadata": {
        "id": "oinmfBPOBTCz"
      },
      "execution_count": 11,
      "outputs": []
    },
    {
      "cell_type": "code",
      "source": [
        "add_data('বঙ্গবন্ধুর জন্মস্থান কই ? ',\n",
        "         '১৯২০ সালের ১৭ মার্চ গোপালগঞ্জ জেলার টুঙ্গিপাড়া গ্রামের এক বনেদি মুসলিম পরিবারে জন্মগ্রহণ করেন জাতির জনক বঙ্গবন্ধু শেখ মুজিবুর রহমান। পিতা শেখ লুৎফর রহমান ও মা সায়েরা খাতুন আদর করে তাকে খোকা বলে ডাকতেন। শেখ মুজিবুর রহমানের পূর্ব-পুরুষরা খ্যাতিমান আউলিয়া বায়েজিত বোস্তমি (রহ.) এর শিষ্য দরবেশ শেখ আউয়ালের বংশধর।'\n",
        "\n",
        "         )"
      ],
      "metadata": {
        "id": "CsJ528YmBsme"
      },
      "execution_count": 12,
      "outputs": []
    },
    {
      "cell_type": "code",
      "source": [
        "add_data(\n",
        "    \"ইসলামিয়া কলেজের বর্তমান নাম কি ?\",\n",
        "    \"১৯৪২ সালে ম্যাট্রিক পাস করে কলকাতায় যান এবং আইএ পড়ার জন্য ইসলামিয়া কলেজে (বর্তমানে মওলানা আবুল কালাম আজাদ কলেজ) ভর্তি হন শেখ মুজিবুর রহমান।ওঠেন বেকার হোস্টেলে, পুরোদমে জড়িয়ে পড়েন মুসলিম লীগের রাজনীতিতে। মুসলিম লীগের প্রগতিশীল অংশের নেতা হোসেন শহীদ সোহরাওয়ার্দীর সংস্পর্শে আসেন এসময়।সিরাজগঞ্জে অবস্থিত প্রাদেশিক মুসলিম লীগের সম্মেলনে ফরিদপুর থেকে বিশাল কর্মী বাহিনী নিয়ে যান মুজিব। ইসলামিয়া কলেজ থেকেই পরবর্তীতে আইএ এবং বিএ পাস করেন বঙ্গবন্ধু।\"\n",
        ")"
      ],
      "metadata": {
        "id": "UBXtIFdxB8kn"
      },
      "execution_count": 13,
      "outputs": []
    },
    {
      "cell_type": "code",
      "source": [
        "add_data(\"পূর্ণ দাসকে  নিয়ে নজরুলের কবিতাটির নাম কি ছিলো ?\",\n",
        "         \n",
        "    \"১৯৩৬ সালে স্বদেশী আন্দোলনের প্রতি অনুরক্ত হন তরুণ শেখ মুজিব। পরবর্তীতে নিজের লেখা অসমাপ্ত আত্মজীবনীতে তিনি লিখেছেন— '(১৯৩৬ সাল) তখন স্বদেশী আন্দোলনের যুগ। মাদারীপুরের পূর্ণ দাস তখন ইংরেজের আতঙ্ক। স্বদেশী আন্দোলন তখন মাদারীপুর ও গোপালগঞ্জের ঘরে ঘরে।' এই পূর্ণচন্দ্র দাস ছিলেন বিপ্লবী বাঘা যতীনের সহকর্মী। তাকে নিয়ে কবিতা লিখেছিলেন বিদ্রোহী কবি কাজী নজরুল ইসলাম। 'পূর্ণ অভিনন্দন' নামের সেই কবিতাটি ১৯২৪ সালের বিখ্যাত 'ভাঙ্গার গান' কাব্যগ্রন্থে প্রকাশিত হয়।নিজের আত্মজীবনীতে বঙ্গবন্ধু আরো জানান— মাদারীপুর ও গোপালগঞ্জে স্বদেশীদের সভায় তিনি নিয়মিত যাতায়াত করতে শুরু করেন। ফলে ক্রমেই তিনি মনে-প্রাণে ইংরেজ শাসনবিরোধী হয়ে ওঠেন এবং সুভাষচন্দ্র বসুর একজন ভক্তে পরিণত হন। এছাড়াও বঙ্গবন্ধুর গৃহশিক্ষক ছিলেন হামিদ মাস্টার নামের একজন ব্রিটিশবিরোধী আন্দোলনকারী। ফলে শৈশব থেকেই নির্যাতন, নিপীড়ন ও সব ধরণের অন্যায্যতার বিরুদ্ধে সচেতন হয়ৈ বেড়ে ওঠেন বঙ্গবন্ধু।\"\n",
        ")"
      ],
      "metadata": {
        "id": "Wvkw_18uB-zR"
      },
      "execution_count": 14,
      "outputs": []
    },
    {
      "cell_type": "code",
      "source": [
        "dataset"
      ],
      "metadata": {
        "colab": {
          "base_uri": "https://localhost:8080/"
        },
        "id": "sjgO3gEbCBSy",
        "outputId": "152f6355-873a-4e5a-88ab-6c66fdf0ce2d"
      },
      "execution_count": 15,
      "outputs": [
        {
          "output_type": "execute_result",
          "data": {
            "text/plain": [
              "[{'question': 'বাংলাদেশের প্রথম রাষ্ট্রপতি শেখ মুজিবুর রহমানের জন্ম কবে হয় ?',\n",
              "  'context': 'শেখ মুজিবুর রহমান (১৭ মার্চ ১৯২০ - ১৫ আগস্ট ১৯৭৫) বাংলাদেশের প্রথম রাষ্ট্রপতি ও ভারতীয় উপমহাদেশের একজন অন্যতম প্রভাবশালী রাজনৈতিক ব্যক্তিত্ব যিনি বাঙালীর অধিকার রক্ষায় ব্রিটিশ ভারত থেকে ভারত বিভাজন আন্দোলন এবং পরবর্তীতে  পূর্ব পাকিস্তান থেকে বাংলাদেশ প্রতিষ্ঠার সংগ্রামে নেতৃত্ব প্রদান করেন। প্রাচীন বাঙ্গালি সভ্যতার আধুনিক স্থপতি হিসাবে শেখ মুজিবুর রহমানকে বাংলাদেশের জাতির জনক বা জাতির পিতা বলা হয়ে থাকে। তিনি মাওলানা আব্দুল হামিদ খান ভাসানী প্রতিষ্ঠিত আওয়ামী লীগের সভাপতি, বাংলাদেশের প্রথম রাষ্ট্রপতি এবং পরবর্তীতে এদেশের প্রধানমন্ত্রীর দায়িত্ব পালন করেন। জনসাধারণের কাছে তিনি শেখ মুজিব এবং শেখ সাহেব হিসাবে বেশি পরিচিত এবং তার উপাধি বঙ্গবন্ধু। তার কন্যা শেখ হাসিনা বাংলাদেশ আওয়ামী লীগের বর্তমান সভানেত্রী এবং বাংলাদেশের বর্তমান প্রধানমন্ত্রী।'},\n",
              " {'question': 'বাংলাদেশের স্বাধীনতা সংগ্রামের একজন অন্যতম মুক্তিযোদ্ধা শেখ মুজিবুর রহমানের মৃত্যু কবে হয় ?',\n",
              "  'context': 'শেখ মুজিবুর রহমান (১৭ মার্চ ১৯২০ - ১৫ আগস্ট ১৯৭৫) বাংলাদেশের প্রথম রাষ্ট্রপতি ও ভারতীয় উপমহাদেশের একজন অন্যতম প্রভাবশালী রাজনৈতিক ব্যক্তিত্ব যিনি বাঙালীর অধিকার রক্ষায় ব্রিটিশ ভারত থেকে ভারত বিভাজন আন্দোলন এবং পরবর্তীতে  পূর্ব পাকিস্তান থেকে বাংলাদেশ প্রতিষ্ঠার সংগ্রামে নেতৃত্ব প্রদান করেন। প্রাচীন বাঙ্গালি সভ্যতার আধুনিক স্থপতি হিসাবে শেখ মুজিবুর রহমানকে বাংলাদেশের জাতির জনক বা জাতির পিতা বলা হয়ে থাকে। তিনি মাওলানা আব্দুল হামিদ খান ভাসানী প্রতিষ্ঠিত আওয়ামী লীগের সভাপতি, বাংলাদেশের প্রথম রাষ্ট্রপতি এবং পরবর্তীতে এদেশের প্রধানমন্ত্রীর দায়িত্ব পালন করেন। জনসাধারণের কাছে তিনি শেখ মুজিব এবং শেখ সাহেব হিসাবে বেশি পরিচিত এবং তার উপাধি বঙ্গবন্ধু। তার কন্যা শেখ হাসিনা বাংলাদেশ আওয়ামী লীগের বর্তমান সভানেত্রী এবং বাংলাদেশের বর্তমান প্রধানমন্ত্রী।'},\n",
              " {'question': 'বাংলাদেশের স্বাধীনতা সংগ্রামের একজন অন্যতম মুক্তিযোদ্ধা শেখ মুজিবুর রহমানের জন্মসাল কত ?',\n",
              "  'context': 'শেখ মুজিবুর রহমান (১৭ মার্চ ১৯২০ - ১৫ আগস্ট ১৯৭৫) বাংলাদেশের প্রথম রাষ্ট্রপতি ও ভারতীয় উপমহাদেশের একজন অন্যতম প্রভাবশালী রাজনৈতিক ব্যক্তিত্ব যিনি বাঙালীর অধিকার রক্ষায় ব্রিটিশ ভারত থেকে ভারত বিভাজন আন্দোলন এবং পরবর্তীতে  পূর্ব পাকিস্তান থেকে বাংলাদেশ প্রতিষ্ঠার সংগ্রামে নেতৃত্ব প্রদান করেন। প্রাচীন বাঙ্গালি সভ্যতার আধুনিক স্থপতি হিসাবে শেখ মুজিবুর রহমানকে বাংলাদেশের জাতির জনক বা জাতির পিতা বলা হয়ে থাকে। তিনি মাওলানা আব্দুল হামিদ খান ভাসানী প্রতিষ্ঠিত আওয়ামী লীগের সভাপতি, বাংলাদেশের প্রথম রাষ্ট্রপতি এবং পরবর্তীতে এদেশের প্রধানমন্ত্রীর দায়িত্ব পালন করেন। জনসাধারণের কাছে তিনি শেখ মুজিব এবং শেখ সাহেব হিসাবে বেশি পরিচিত এবং তার উপাধি বঙ্গবন্ধু। তার কন্যা শেখ হাসিনা বাংলাদেশ আওয়ামী লীগের বর্তমান সভানেত্রী এবং বাংলাদেশের বর্তমান প্রধানমন্ত্রী।'},\n",
              " {'question': 'মওলানা আবদুল হামিদ খান ভাসানী বাংলাদেশের কোথায় জন্মগ্রহণ করেন ?',\n",
              "  'context': '২৬ সেপ্টেম্বর, ১৯৭৫ তারিখে মুজিব হত্যাকাণ্ডের বিচারের ওপর নিষেধাজ্ঞা দিয়ে খন্দকার মোশতাক সরকার ইমডেমনিটি (দায়মুক্তি) অধ্যাদেশ জারি করেন এবং জেনারেল জিয়াউর রহমান ও পাকিস্তানপন্থী প্রধানমন্ত্রী শাহ আজিজুর রহমানের নেতৃত্বে সংবিধানের পঞ্চম সংশোধনীতে তার বৈধতা দেয়া হয়। যা ১২ অগাস্ট, ১৯৯৬ তারিখে সংসদে রহিত করা হয়।। সংবাদ মাধ্যমে এ হত্যা কান্ডের ইন্ধনদাতা হিসেবে যুক্তরাষ্ট্রের সেণ্ট্রাল ইণ্টেলিজেন্স এজেন্সি সিআইএ-কে দায়ী করা হয়।[27] বাংলাদেশে অবস্থিত তৎকালীন রাষ্ট্রদূত ইউজিন দিয়ে লরেন্স লিফসুল্জ সিআইএ-কে অভ্যুত্থান ও গণহত্যার জন্য দোষারোপ করেন।[28] তাঁর মরদেহ তাঁর জন্মস্থান টুঙ্গিপাড়ায় হেলিকপ্টারে করে নিয়ে যাওয়া হয় এবং সামরিক তত্ত্বাবধানে দাফন করা হয়। অন্যান্যদের ঢাকার বনানী কবরস্থানে দাফন করা হয়।'},\n",
              " {'question': 'বাংলাদেশের প্রথম রাষ্ট্রপতি শেখ মুজিবুর রহমান কত সালে বাংলাদেশের রাষ্ট্রপতি হন ?',\n",
              "  'context': 'ইয়াহিয়া খান সামরিক আইন জারি করেন, আওয়ামী লীগকে নিষিদ্ধ ঘোষণা করেন এবং মুজিবসহ আওয়ামী লীগের অন্যান্য নেতাদের গ্রেফতারের নির্দেশ দেন। পাকিস্তানি সামরিক বাহিনী রাজনৈতিক ও জনসাধারণের অসন্তোষ দমনে ২৫ মার্চ অপারেশন সার্চলাইট শুরু করে। সামরিক বাহিনীর অভিযান শুরু হলে মুজিবুর রহমান ১৯৭১ সালের ২৬ মার্চ বাংলাদেশের স্বাধীনতার ঘোষণা দেন।[4][10][11]\\nধানমণ্ডির ৩২ নং বাড়ি থেকে ওয়্যারলেসের মাধ্যমে স্বাধীনতার ঘোষণা দেন। মূল ঘোষণার অনুবাদ নিম্নরূপ:'},\n",
              " {'question': 'বঙ্গবন্ধুর জন্মস্থান কই ? ',\n",
              "  'context': '১৯২০ সালের ১৭ মার্চ গোপালগঞ্জ জেলার টুঙ্গিপাড়া গ্রামের এক বনেদি মুসলিম পরিবারে জন্মগ্রহণ করেন জাতির জনক বঙ্গবন্ধু শেখ মুজিবুর রহমান। পিতা শেখ লুৎফর রহমান ও মা সায়েরা খাতুন আদর করে তাকে খোকা বলে ডাকতেন। শেখ মুজিবুর রহমানের পূর্ব-পুরুষরা খ্যাতিমান আউলিয়া বায়েজিত বোস্তমি (রহ.) এর শিষ্য দরবেশ শেখ আউয়ালের বংশধর।'},\n",
              " {'question': 'ইসলামিয়া কলেজের বর্তমান নাম কি ?',\n",
              "  'context': '১৯৪২ সালে ম্যাট্রিক পাস করে কলকাতায় যান এবং আইএ পড়ার জন্য ইসলামিয়া কলেজে (বর্তমানে মওলানা আবুল কালাম আজাদ কলেজ) ভর্তি হন শেখ মুজিবুর রহমান।ওঠেন বেকার হোস্টেলে, পুরোদমে জড়িয়ে পড়েন মুসলিম লীগের রাজনীতিতে। মুসলিম লীগের প্রগতিশীল অংশের নেতা হোসেন শহীদ সোহরাওয়ার্দীর সংস্পর্শে আসেন এসময়।সিরাজগঞ্জে অবস্থিত প্রাদেশিক মুসলিম লীগের সম্মেলনে ফরিদপুর থেকে বিশাল কর্মী বাহিনী নিয়ে যান মুজিব। ইসলামিয়া কলেজ থেকেই পরবর্তীতে আইএ এবং বিএ পাস করেন বঙ্গবন্ধু।'},\n",
              " {'question': 'পূর্ণ দাসকে  নিয়ে নজরুলের কবিতাটির নাম কি ছিলো ?',\n",
              "  'context': \"১৯৩৬ সালে স্বদেশী আন্দোলনের প্রতি অনুরক্ত হন তরুণ শেখ মুজিব। পরবর্তীতে নিজের লেখা অসমাপ্ত আত্মজীবনীতে তিনি লিখেছেন— '(১৯৩৬ সাল) তখন স্বদেশী আন্দোলনের যুগ। মাদারীপুরের পূর্ণ দাস তখন ইংরেজের আতঙ্ক। স্বদেশী আন্দোলন তখন মাদারীপুর ও গোপালগঞ্জের ঘরে ঘরে।' এই পূর্ণচন্দ্র দাস ছিলেন বিপ্লবী বাঘা যতীনের সহকর্মী। তাকে নিয়ে কবিতা লিখেছিলেন বিদ্রোহী কবি কাজী নজরুল ইসলাম। 'পূর্ণ অভিনন্দন' নামের সেই কবিতাটি ১৯২৪ সালের বিখ্যাত 'ভাঙ্গার গান' কাব্যগ্রন্থে প্রকাশিত হয়।নিজের আত্মজীবনীতে বঙ্গবন্ধু আরো জানান— মাদারীপুর ও গোপালগঞ্জে স্বদেশীদের সভায় তিনি নিয়মিত যাতায়াত করতে শুরু করেন। ফলে ক্রমেই তিনি মনে-প্রাণে ইংরেজ শাসনবিরোধী হয়ে ওঠেন এবং সুভাষচন্দ্র বসুর একজন ভক্তে পরিণত হন। এছাড়াও বঙ্গবন্ধুর গৃহশিক্ষক ছিলেন হামিদ মাস্টার নামের একজন ব্রিটিশবিরোধী আন্দোলনকারী। ফলে শৈশব থেকেই নির্যাতন, নিপীড়ন ও সব ধরণের অন্যায্যতার বিরুদ্ধে সচেতন হয়ৈ বেড়ে ওঠেন বঙ্গবন্ধু।\"}]"
            ]
          },
          "metadata": {},
          "execution_count": 15
        }
      ]
    },
    {
      "cell_type": "code",
      "source": [
        "contexts = [] #  only context\n",
        "for item in dataset:\n",
        "  contexts.append(item[\"context\"])"
      ],
      "metadata": {
        "id": "w-OnPcq_CB5f"
      },
      "execution_count": 16,
      "outputs": []
    },
    {
      "cell_type": "code",
      "source": [
        "questions = []  # only question\n",
        "\n",
        "for item in dataset:\n",
        "  questions.append(item[\"question\"])\n"
      ],
      "metadata": {
        "id": "J83LQusQCq2d"
      },
      "execution_count": 18,
      "outputs": []
    },
    {
      "cell_type": "code",
      "source": [
        "questions"
      ],
      "metadata": {
        "colab": {
          "base_uri": "https://localhost:8080/"
        },
        "id": "0USKwsNJCzN8",
        "outputId": "6fc858ed-c70a-47e4-8345-02f5e507194a"
      },
      "execution_count": 19,
      "outputs": [
        {
          "output_type": "execute_result",
          "data": {
            "text/plain": [
              "['বাংলাদেশের প্রথম রাষ্ট্রপতি শেখ মুজিবুর রহমানের জন্ম কবে হয় ?',\n",
              " 'বাংলাদেশের স্বাধীনতা সংগ্রামের একজন অন্যতম মুক্তিযোদ্ধা শেখ মুজিবুর রহমানের মৃত্যু কবে হয় ?',\n",
              " 'বাংলাদেশের স্বাধীনতা সংগ্রামের একজন অন্যতম মুক্তিযোদ্ধা শেখ মুজিবুর রহমানের জন্মসাল কত ?',\n",
              " 'মওলানা আবদুল হামিদ খান ভাসানী বাংলাদেশের কোথায় জন্মগ্রহণ করেন ?',\n",
              " 'বাংলাদেশের প্রথম রাষ্ট্রপতি শেখ মুজিবুর রহমান কত সালে বাংলাদেশের রাষ্ট্রপতি হন ?',\n",
              " 'বঙ্গবন্ধুর জন্মস্থান কই ? ',\n",
              " 'ইসলামিয়া কলেজের বর্তমান নাম কি ?',\n",
              " 'পূর্ণ দাসকে  নিয়ে নজরুলের কবিতাটির নাম কি ছিলো ?']"
            ]
          },
          "metadata": {},
          "execution_count": 19
        }
      ]
    },
    {
      "cell_type": "code",
      "source": [
        "contexts"
      ],
      "metadata": {
        "colab": {
          "base_uri": "https://localhost:8080/"
        },
        "id": "PhetQUgzC0kS",
        "outputId": "418c2a51-7eab-4915-e091-182974df23f3"
      },
      "execution_count": 20,
      "outputs": [
        {
          "output_type": "execute_result",
          "data": {
            "text/plain": [
              "['শেখ মুজিবুর রহমান (১৭ মার্চ ১৯২০ - ১৫ আগস্ট ১৯৭৫) বাংলাদেশের প্রথম রাষ্ট্রপতি ও ভারতীয় উপমহাদেশের একজন অন্যতম প্রভাবশালী রাজনৈতিক ব্যক্তিত্ব যিনি বাঙালীর অধিকার রক্ষায় ব্রিটিশ ভারত থেকে ভারত বিভাজন আন্দোলন এবং পরবর্তীতে  পূর্ব পাকিস্তান থেকে বাংলাদেশ প্রতিষ্ঠার সংগ্রামে নেতৃত্ব প্রদান করেন। প্রাচীন বাঙ্গালি সভ্যতার আধুনিক স্থপতি হিসাবে শেখ মুজিবুর রহমানকে বাংলাদেশের জাতির জনক বা জাতির পিতা বলা হয়ে থাকে। তিনি মাওলানা আব্দুল হামিদ খান ভাসানী প্রতিষ্ঠিত আওয়ামী লীগের সভাপতি, বাংলাদেশের প্রথম রাষ্ট্রপতি এবং পরবর্তীতে এদেশের প্রধানমন্ত্রীর দায়িত্ব পালন করেন। জনসাধারণের কাছে তিনি শেখ মুজিব এবং শেখ সাহেব হিসাবে বেশি পরিচিত এবং তার উপাধি বঙ্গবন্ধু। তার কন্যা শেখ হাসিনা বাংলাদেশ আওয়ামী লীগের বর্তমান সভানেত্রী এবং বাংলাদেশের বর্তমান প্রধানমন্ত্রী।',\n",
              " 'শেখ মুজিবুর রহমান (১৭ মার্চ ১৯২০ - ১৫ আগস্ট ১৯৭৫) বাংলাদেশের প্রথম রাষ্ট্রপতি ও ভারতীয় উপমহাদেশের একজন অন্যতম প্রভাবশালী রাজনৈতিক ব্যক্তিত্ব যিনি বাঙালীর অধিকার রক্ষায় ব্রিটিশ ভারত থেকে ভারত বিভাজন আন্দোলন এবং পরবর্তীতে  পূর্ব পাকিস্তান থেকে বাংলাদেশ প্রতিষ্ঠার সংগ্রামে নেতৃত্ব প্রদান করেন। প্রাচীন বাঙ্গালি সভ্যতার আধুনিক স্থপতি হিসাবে শেখ মুজিবুর রহমানকে বাংলাদেশের জাতির জনক বা জাতির পিতা বলা হয়ে থাকে। তিনি মাওলানা আব্দুল হামিদ খান ভাসানী প্রতিষ্ঠিত আওয়ামী লীগের সভাপতি, বাংলাদেশের প্রথম রাষ্ট্রপতি এবং পরবর্তীতে এদেশের প্রধানমন্ত্রীর দায়িত্ব পালন করেন। জনসাধারণের কাছে তিনি শেখ মুজিব এবং শেখ সাহেব হিসাবে বেশি পরিচিত এবং তার উপাধি বঙ্গবন্ধু। তার কন্যা শেখ হাসিনা বাংলাদেশ আওয়ামী লীগের বর্তমান সভানেত্রী এবং বাংলাদেশের বর্তমান প্রধানমন্ত্রী।',\n",
              " 'শেখ মুজিবুর রহমান (১৭ মার্চ ১৯২০ - ১৫ আগস্ট ১৯৭৫) বাংলাদেশের প্রথম রাষ্ট্রপতি ও ভারতীয় উপমহাদেশের একজন অন্যতম প্রভাবশালী রাজনৈতিক ব্যক্তিত্ব যিনি বাঙালীর অধিকার রক্ষায় ব্রিটিশ ভারত থেকে ভারত বিভাজন আন্দোলন এবং পরবর্তীতে  পূর্ব পাকিস্তান থেকে বাংলাদেশ প্রতিষ্ঠার সংগ্রামে নেতৃত্ব প্রদান করেন। প্রাচীন বাঙ্গালি সভ্যতার আধুনিক স্থপতি হিসাবে শেখ মুজিবুর রহমানকে বাংলাদেশের জাতির জনক বা জাতির পিতা বলা হয়ে থাকে। তিনি মাওলানা আব্দুল হামিদ খান ভাসানী প্রতিষ্ঠিত আওয়ামী লীগের সভাপতি, বাংলাদেশের প্রথম রাষ্ট্রপতি এবং পরবর্তীতে এদেশের প্রধানমন্ত্রীর দায়িত্ব পালন করেন। জনসাধারণের কাছে তিনি শেখ মুজিব এবং শেখ সাহেব হিসাবে বেশি পরিচিত এবং তার উপাধি বঙ্গবন্ধু। তার কন্যা শেখ হাসিনা বাংলাদেশ আওয়ামী লীগের বর্তমান সভানেত্রী এবং বাংলাদেশের বর্তমান প্রধানমন্ত্রী।',\n",
              " '২৬ সেপ্টেম্বর, ১৯৭৫ তারিখে মুজিব হত্যাকাণ্ডের বিচারের ওপর নিষেধাজ্ঞা দিয়ে খন্দকার মোশতাক সরকার ইমডেমনিটি (দায়মুক্তি) অধ্যাদেশ জারি করেন এবং জেনারেল জিয়াউর রহমান ও পাকিস্তানপন্থী প্রধানমন্ত্রী শাহ আজিজুর রহমানের নেতৃত্বে সংবিধানের পঞ্চম সংশোধনীতে তার বৈধতা দেয়া হয়। যা ১২ অগাস্ট, ১৯৯৬ তারিখে সংসদে রহিত করা হয়।। সংবাদ মাধ্যমে এ হত্যা কান্ডের ইন্ধনদাতা হিসেবে যুক্তরাষ্ট্রের সেণ্ট্রাল ইণ্টেলিজেন্স এজেন্সি সিআইএ-কে দায়ী করা হয়।[27] বাংলাদেশে অবস্থিত তৎকালীন রাষ্ট্রদূত ইউজিন দিয়ে লরেন্স লিফসুল্জ সিআইএ-কে অভ্যুত্থান ও গণহত্যার জন্য দোষারোপ করেন।[28] তাঁর মরদেহ তাঁর জন্মস্থান টুঙ্গিপাড়ায় হেলিকপ্টারে করে নিয়ে যাওয়া হয় এবং সামরিক তত্ত্বাবধানে দাফন করা হয়। অন্যান্যদের ঢাকার বনানী কবরস্থানে দাফন করা হয়।',\n",
              " 'ইয়াহিয়া খান সামরিক আইন জারি করেন, আওয়ামী লীগকে নিষিদ্ধ ঘোষণা করেন এবং মুজিবসহ আওয়ামী লীগের অন্যান্য নেতাদের গ্রেফতারের নির্দেশ দেন। পাকিস্তানি সামরিক বাহিনী রাজনৈতিক ও জনসাধারণের অসন্তোষ দমনে ২৫ মার্চ অপারেশন সার্চলাইট শুরু করে। সামরিক বাহিনীর অভিযান শুরু হলে মুজিবুর রহমান ১৯৭১ সালের ২৬ মার্চ বাংলাদেশের স্বাধীনতার ঘোষণা দেন।[4][10][11]\\nধানমণ্ডির ৩২ নং বাড়ি থেকে ওয়্যারলেসের মাধ্যমে স্বাধীনতার ঘোষণা দেন। মূল ঘোষণার অনুবাদ নিম্নরূপ:',\n",
              " '১৯২০ সালের ১৭ মার্চ গোপালগঞ্জ জেলার টুঙ্গিপাড়া গ্রামের এক বনেদি মুসলিম পরিবারে জন্মগ্রহণ করেন জাতির জনক বঙ্গবন্ধু শেখ মুজিবুর রহমান। পিতা শেখ লুৎফর রহমান ও মা সায়েরা খাতুন আদর করে তাকে খোকা বলে ডাকতেন। শেখ মুজিবুর রহমানের পূর্ব-পুরুষরা খ্যাতিমান আউলিয়া বায়েজিত বোস্তমি (রহ.) এর শিষ্য দরবেশ শেখ আউয়ালের বংশধর।',\n",
              " '১৯৪২ সালে ম্যাট্রিক পাস করে কলকাতায় যান এবং আইএ পড়ার জন্য ইসলামিয়া কলেজে (বর্তমানে মওলানা আবুল কালাম আজাদ কলেজ) ভর্তি হন শেখ মুজিবুর রহমান।ওঠেন বেকার হোস্টেলে, পুরোদমে জড়িয়ে পড়েন মুসলিম লীগের রাজনীতিতে। মুসলিম লীগের প্রগতিশীল অংশের নেতা হোসেন শহীদ সোহরাওয়ার্দীর সংস্পর্শে আসেন এসময়।সিরাজগঞ্জে অবস্থিত প্রাদেশিক মুসলিম লীগের সম্মেলনে ফরিদপুর থেকে বিশাল কর্মী বাহিনী নিয়ে যান মুজিব। ইসলামিয়া কলেজ থেকেই পরবর্তীতে আইএ এবং বিএ পাস করেন বঙ্গবন্ধু।',\n",
              " \"১৯৩৬ সালে স্বদেশী আন্দোলনের প্রতি অনুরক্ত হন তরুণ শেখ মুজিব। পরবর্তীতে নিজের লেখা অসমাপ্ত আত্মজীবনীতে তিনি লিখেছেন— '(১৯৩৬ সাল) তখন স্বদেশী আন্দোলনের যুগ। মাদারীপুরের পূর্ণ দাস তখন ইংরেজের আতঙ্ক। স্বদেশী আন্দোলন তখন মাদারীপুর ও গোপালগঞ্জের ঘরে ঘরে।' এই পূর্ণচন্দ্র দাস ছিলেন বিপ্লবী বাঘা যতীনের সহকর্মী। তাকে নিয়ে কবিতা লিখেছিলেন বিদ্রোহী কবি কাজী নজরুল ইসলাম। 'পূর্ণ অভিনন্দন' নামের সেই কবিতাটি ১৯২৪ সালের বিখ্যাত 'ভাঙ্গার গান' কাব্যগ্রন্থে প্রকাশিত হয়।নিজের আত্মজীবনীতে বঙ্গবন্ধু আরো জানান— মাদারীপুর ও গোপালগঞ্জে স্বদেশীদের সভায় তিনি নিয়মিত যাতায়াত করতে শুরু করেন। ফলে ক্রমেই তিনি মনে-প্রাণে ইংরেজ শাসনবিরোধী হয়ে ওঠেন এবং সুভাষচন্দ্র বসুর একজন ভক্তে পরিণত হন। এছাড়াও বঙ্গবন্ধুর গৃহশিক্ষক ছিলেন হামিদ মাস্টার নামের একজন ব্রিটিশবিরোধী আন্দোলনকারী। ফলে শৈশব থেকেই নির্যাতন, নিপীড়ন ও সব ধরণের অন্যায্যতার বিরুদ্ধে সচেতন হয়ৈ বেড়ে ওঠেন বঙ্গবন্ধু।\"]"
            ]
          },
          "metadata": {},
          "execution_count": 20
        }
      ]
    },
    {
      "cell_type": "code",
      "source": [
        "len(questions), len(contexts)"
      ],
      "metadata": {
        "colab": {
          "base_uri": "https://localhost:8080/"
        },
        "id": "s8hdqo4CC1_y",
        "outputId": "51c97c12-cbad-419a-cc90-73aa0bf12f38"
      },
      "execution_count": 21,
      "outputs": [
        {
          "output_type": "execute_result",
          "data": {
            "text/plain": [
              "(8, 8)"
            ]
          },
          "metadata": {},
          "execution_count": 21
        }
      ]
    },
    {
      "cell_type": "code",
      "source": [
        "contexts[0] == contexts[1] # checking for duplicate context"
      ],
      "metadata": {
        "colab": {
          "base_uri": "https://localhost:8080/"
        },
        "id": "IYe8gZ2fC72x",
        "outputId": "42d7549b-fca0-4ce2-ad05-5afb01fce6ee"
      },
      "execution_count": 22,
      "outputs": [
        {
          "output_type": "execute_result",
          "data": {
            "text/plain": [
              "True"
            ]
          },
          "metadata": {},
          "execution_count": 22
        }
      ]
    },
    {
      "cell_type": "code",
      "source": [
        "no_dup = [] # with no duplicate context\n",
        "\n",
        "for context in contexts:\n",
        "  if context not in no_dup:\n",
        "    no_dup.append(context)\n",
        "\n",
        "no_dup"
      ],
      "metadata": {
        "colab": {
          "base_uri": "https://localhost:8080/"
        },
        "id": "-9yjKJdXDBDa",
        "outputId": "be993333-5430-4c74-e7bf-364aa071d023"
      },
      "execution_count": 23,
      "outputs": [
        {
          "output_type": "execute_result",
          "data": {
            "text/plain": [
              "['শেখ মুজিবুর রহমান (১৭ মার্চ ১৯২০ - ১৫ আগস্ট ১৯৭৫) বাংলাদেশের প্রথম রাষ্ট্রপতি ও ভারতীয় উপমহাদেশের একজন অন্যতম প্রভাবশালী রাজনৈতিক ব্যক্তিত্ব যিনি বাঙালীর অধিকার রক্ষায় ব্রিটিশ ভারত থেকে ভারত বিভাজন আন্দোলন এবং পরবর্তীতে  পূর্ব পাকিস্তান থেকে বাংলাদেশ প্রতিষ্ঠার সংগ্রামে নেতৃত্ব প্রদান করেন। প্রাচীন বাঙ্গালি সভ্যতার আধুনিক স্থপতি হিসাবে শেখ মুজিবুর রহমানকে বাংলাদেশের জাতির জনক বা জাতির পিতা বলা হয়ে থাকে। তিনি মাওলানা আব্দুল হামিদ খান ভাসানী প্রতিষ্ঠিত আওয়ামী লীগের সভাপতি, বাংলাদেশের প্রথম রাষ্ট্রপতি এবং পরবর্তীতে এদেশের প্রধানমন্ত্রীর দায়িত্ব পালন করেন। জনসাধারণের কাছে তিনি শেখ মুজিব এবং শেখ সাহেব হিসাবে বেশি পরিচিত এবং তার উপাধি বঙ্গবন্ধু। তার কন্যা শেখ হাসিনা বাংলাদেশ আওয়ামী লীগের বর্তমান সভানেত্রী এবং বাংলাদেশের বর্তমান প্রধানমন্ত্রী।',\n",
              " '২৬ সেপ্টেম্বর, ১৯৭৫ তারিখে মুজিব হত্যাকাণ্ডের বিচারের ওপর নিষেধাজ্ঞা দিয়ে খন্দকার মোশতাক সরকার ইমডেমনিটি (দায়মুক্তি) অধ্যাদেশ জারি করেন এবং জেনারেল জিয়াউর রহমান ও পাকিস্তানপন্থী প্রধানমন্ত্রী শাহ আজিজুর রহমানের নেতৃত্বে সংবিধানের পঞ্চম সংশোধনীতে তার বৈধতা দেয়া হয়। যা ১২ অগাস্ট, ১৯৯৬ তারিখে সংসদে রহিত করা হয়।। সংবাদ মাধ্যমে এ হত্যা কান্ডের ইন্ধনদাতা হিসেবে যুক্তরাষ্ট্রের সেণ্ট্রাল ইণ্টেলিজেন্স এজেন্সি সিআইএ-কে দায়ী করা হয়।[27] বাংলাদেশে অবস্থিত তৎকালীন রাষ্ট্রদূত ইউজিন দিয়ে লরেন্স লিফসুল্জ সিআইএ-কে অভ্যুত্থান ও গণহত্যার জন্য দোষারোপ করেন।[28] তাঁর মরদেহ তাঁর জন্মস্থান টুঙ্গিপাড়ায় হেলিকপ্টারে করে নিয়ে যাওয়া হয় এবং সামরিক তত্ত্বাবধানে দাফন করা হয়। অন্যান্যদের ঢাকার বনানী কবরস্থানে দাফন করা হয়।',\n",
              " 'ইয়াহিয়া খান সামরিক আইন জারি করেন, আওয়ামী লীগকে নিষিদ্ধ ঘোষণা করেন এবং মুজিবসহ আওয়ামী লীগের অন্যান্য নেতাদের গ্রেফতারের নির্দেশ দেন। পাকিস্তানি সামরিক বাহিনী রাজনৈতিক ও জনসাধারণের অসন্তোষ দমনে ২৫ মার্চ অপারেশন সার্চলাইট শুরু করে। সামরিক বাহিনীর অভিযান শুরু হলে মুজিবুর রহমান ১৯৭১ সালের ২৬ মার্চ বাংলাদেশের স্বাধীনতার ঘোষণা দেন।[4][10][11]\\nধানমণ্ডির ৩২ নং বাড়ি থেকে ওয়্যারলেসের মাধ্যমে স্বাধীনতার ঘোষণা দেন। মূল ঘোষণার অনুবাদ নিম্নরূপ:',\n",
              " '১৯২০ সালের ১৭ মার্চ গোপালগঞ্জ জেলার টুঙ্গিপাড়া গ্রামের এক বনেদি মুসলিম পরিবারে জন্মগ্রহণ করেন জাতির জনক বঙ্গবন্ধু শেখ মুজিবুর রহমান। পিতা শেখ লুৎফর রহমান ও মা সায়েরা খাতুন আদর করে তাকে খোকা বলে ডাকতেন। শেখ মুজিবুর রহমানের পূর্ব-পুরুষরা খ্যাতিমান আউলিয়া বায়েজিত বোস্তমি (রহ.) এর শিষ্য দরবেশ শেখ আউয়ালের বংশধর।',\n",
              " '১৯৪২ সালে ম্যাট্রিক পাস করে কলকাতায় যান এবং আইএ পড়ার জন্য ইসলামিয়া কলেজে (বর্তমানে মওলানা আবুল কালাম আজাদ কলেজ) ভর্তি হন শেখ মুজিবুর রহমান।ওঠেন বেকার হোস্টেলে, পুরোদমে জড়িয়ে পড়েন মুসলিম লীগের রাজনীতিতে। মুসলিম লীগের প্রগতিশীল অংশের নেতা হোসেন শহীদ সোহরাওয়ার্দীর সংস্পর্শে আসেন এসময়।সিরাজগঞ্জে অবস্থিত প্রাদেশিক মুসলিম লীগের সম্মেলনে ফরিদপুর থেকে বিশাল কর্মী বাহিনী নিয়ে যান মুজিব। ইসলামিয়া কলেজ থেকেই পরবর্তীতে আইএ এবং বিএ পাস করেন বঙ্গবন্ধু।',\n",
              " \"১৯৩৬ সালে স্বদেশী আন্দোলনের প্রতি অনুরক্ত হন তরুণ শেখ মুজিব। পরবর্তীতে নিজের লেখা অসমাপ্ত আত্মজীবনীতে তিনি লিখেছেন— '(১৯৩৬ সাল) তখন স্বদেশী আন্দোলনের যুগ। মাদারীপুরের পূর্ণ দাস তখন ইংরেজের আতঙ্ক। স্বদেশী আন্দোলন তখন মাদারীপুর ও গোপালগঞ্জের ঘরে ঘরে।' এই পূর্ণচন্দ্র দাস ছিলেন বিপ্লবী বাঘা যতীনের সহকর্মী। তাকে নিয়ে কবিতা লিখেছিলেন বিদ্রোহী কবি কাজী নজরুল ইসলাম। 'পূর্ণ অভিনন্দন' নামের সেই কবিতাটি ১৯২৪ সালের বিখ্যাত 'ভাঙ্গার গান' কাব্যগ্রন্থে প্রকাশিত হয়।নিজের আত্মজীবনীতে বঙ্গবন্ধু আরো জানান— মাদারীপুর ও গোপালগঞ্জে স্বদেশীদের সভায় তিনি নিয়মিত যাতায়াত করতে শুরু করেন। ফলে ক্রমেই তিনি মনে-প্রাণে ইংরেজ শাসনবিরোধী হয়ে ওঠেন এবং সুভাষচন্দ্র বসুর একজন ভক্তে পরিণত হন। এছাড়াও বঙ্গবন্ধুর গৃহশিক্ষক ছিলেন হামিদ মাস্টার নামের একজন ব্রিটিশবিরোধী আন্দোলনকারী। ফলে শৈশব থেকেই নির্যাতন, নিপীড়ন ও সব ধরণের অন্যায্যতার বিরুদ্ধে সচেতন হয়ৈ বেড়ে ওঠেন বঙ্গবন্ধু।\"]"
            ]
          },
          "metadata": {},
          "execution_count": 23
        }
      ]
    },
    {
      "cell_type": "code",
      "source": [
        "len(contexts) , len(no_dup)"
      ],
      "metadata": {
        "colab": {
          "base_uri": "https://localhost:8080/"
        },
        "id": "-A58k4-0DCcE",
        "outputId": "291a1611-9e72-4fb9-dfed-659c4d90aa4d"
      },
      "execution_count": 24,
      "outputs": [
        {
          "output_type": "execute_result",
          "data": {
            "text/plain": [
              "(8, 6)"
            ]
          },
          "metadata": {},
          "execution_count": 24
        }
      ]
    },
    {
      "cell_type": "markdown",
      "source": [
        "# Imoporting Rertiver model\n",
        "\n",
        "In retriver model, we  essentialy  use a `Sentence Transformer` model. It compares users query with the questions as well as the  contexts in the database and finds out the most relavant contexts. Then those contexts are sent to the `Question Answering` model to extract the answer from the context. "
      ],
      "metadata": {
        "id": "hI-kKocpDFSR"
      }
    },
    {
      "cell_type": "code",
      "source": [
        "#importing colab to load the finetuned model\n",
        "from google.colab import drive\n",
        "drive.mount('/content/gdrive')"
      ],
      "metadata": {
        "colab": {
          "base_uri": "https://localhost:8080/"
        },
        "id": "AGzgG9HqDK5Y",
        "outputId": "b9064195-2d7e-4bfe-bd93-1488c3a00c1f"
      },
      "execution_count": 25,
      "outputs": [
        {
          "output_type": "stream",
          "name": "stdout",
          "text": [
            "Mounted at /content/gdrive\n"
          ]
        }
      ]
    },
    {
      "cell_type": "code",
      "source": [
        "retriver_model_location = \"/content/gdrive/MyDrive/DL_models/language_model_bn/Sentence Transfromer/retriver-model/afs-ml-st\""
      ],
      "metadata": {
        "id": "GndVt1JNDMnx"
      },
      "execution_count": 26,
      "outputs": []
    },
    {
      "cell_type": "markdown",
      "source": [
        "# Creating `embeddings` of both **Questions** and the **Contexts**"
      ],
      "metadata": {
        "id": "wYKRgEnwDYyO"
      }
    },
    {
      "cell_type": "code",
      "source": [
        "from sentence_transformers import SentenceTransformer\n",
        "retriver_model = SentenceTransformer(retriver_model_location)\n",
        "\n",
        "context_embeddings = retriver_model.encode(no_dup) #embeddings of the contexts\n",
        "\n",
        "ques_embeddings = retriver_model.encode(questions) #embeddings of the questions"
      ],
      "metadata": {
        "id": "BF8w7DgZDkrm"
      },
      "execution_count": 35,
      "outputs": []
    },
    {
      "cell_type": "code",
      "source": [
        "print(\"Context embeddings shape: \",context_embeddings.shape)\n",
        "print(\"Question embeddings shape: \",ques_embeddings.shape)"
      ],
      "metadata": {
        "colab": {
          "base_uri": "https://localhost:8080/"
        },
        "id": "9kJX5I0DFQIP",
        "outputId": "a8eef341-b197-4fa1-d0a0-9d4dd4180f2a"
      },
      "execution_count": 37,
      "outputs": [
        {
          "output_type": "stream",
          "name": "stdout",
          "text": [
            "Context embeddings shape:  (6, 384)\n",
            "Question embeddings shape:  (8, 384)\n"
          ]
        }
      ]
    },
    {
      "cell_type": "markdown",
      "source": [
        "# Loading and Instantiating `QA model`"
      ],
      "metadata": {
        "id": "8ZoFDHBuJ3dF"
      }
    },
    {
      "cell_type": "code",
      "source": [
        "qa_model_location = \"/content/gdrive/MyDrive/DL_models/language_model_bn/xlm-roberta-large-squad2-test-1/afs_xlm_roberta\"\n"
      ],
      "metadata": {
        "id": "HLHK-P73Krhc"
      },
      "execution_count": 38,
      "outputs": []
    },
    {
      "cell_type": "code",
      "source": [
        "from transformers import  pipeline\n",
        "\n",
        "qa_model = pipeline(\"question-answering\",model = qa_model_location,tokenizer=qa_model_location)\n"
      ],
      "metadata": {
        "id": "J5_oWj-mKvOF"
      },
      "execution_count": 40,
      "outputs": []
    },
    {
      "cell_type": "markdown",
      "source": [
        "# Creating pipeline with `Retriver model` and `QA model`"
      ],
      "metadata": {
        "id": "HOV1cS00LCSb"
      }
    },
    {
      "cell_type": "markdown",
      "source": [
        "## Selecting context by applying `semantic search` on **Question** "
      ],
      "metadata": {
        "id": "3CD-hAbjLSoR"
      }
    },
    {
      "cell_type": "code",
      "source": [
        "import torch\n",
        "from sentence_transformers.util import semantic_search"
      ],
      "metadata": {
        "id": "ca3V8W96L8RT"
      },
      "execution_count": 41,
      "outputs": []
    },
    {
      "cell_type": "code",
      "source": [
        "def ques_query(query):\n",
        "  q_emb = retriver_model.encode(query)\n",
        "\n",
        "  query_embeddings = torch.FloatTensor(q_emb)\n",
        "  hits = semantic_search(query_embeddings, ques_embeddings, top_k = 2)\n",
        "  print(f\"User's Question: {query}\")\n",
        "  print(\"Most Similar Question Found: \")\n",
        "  for i in range(len(hits[0])):\n",
        "    print(f\"Question {i}:\" ,questions[hits[0][i][\"corpus_id\"]] )\n",
        "    for item in dataset:\n",
        "      if item['question'] == questions[hits[0][i][\"corpus_id\"]]:\n",
        "        context = item[\"context\"]\n",
        "        print(f\"QA model query: {query}\")\n",
        "        print(f\"QA model context: {context}\")\n",
        "        qa_input = {'question': query,'context': context}\n",
        "        res = qa_model(qa_input)\n",
        "        print(res)\n"
      ],
      "metadata": {
        "id": "SJMKVTlAMAQK"
      },
      "execution_count": 42,
      "outputs": []
    },
    {
      "cell_type": "markdown",
      "source": [
        "### Tesing"
      ],
      "metadata": {
        "id": "RBIy5YV_Mq1x"
      }
    },
    {
      "cell_type": "code",
      "source": [
        "questions"
      ],
      "metadata": {
        "colab": {
          "base_uri": "https://localhost:8080/"
        },
        "id": "v2it-6feNSv_",
        "outputId": "fa77f6fd-4045-48df-851d-359608bd9ba0"
      },
      "execution_count": 44,
      "outputs": [
        {
          "output_type": "execute_result",
          "data": {
            "text/plain": [
              "['বাংলাদেশের প্রথম রাষ্ট্রপতি শেখ মুজিবুর রহমানের জন্ম কবে হয় ?',\n",
              " 'বাংলাদেশের স্বাধীনতা সংগ্রামের একজন অন্যতম মুক্তিযোদ্ধা শেখ মুজিবুর রহমানের মৃত্যু কবে হয় ?',\n",
              " 'বাংলাদেশের স্বাধীনতা সংগ্রামের একজন অন্যতম মুক্তিযোদ্ধা শেখ মুজিবুর রহমানের জন্মসাল কত ?',\n",
              " 'মওলানা আবদুল হামিদ খান ভাসানী বাংলাদেশের কোথায় জন্মগ্রহণ করেন ?',\n",
              " 'বাংলাদেশের প্রথম রাষ্ট্রপতি শেখ মুজিবুর রহমান কত সালে বাংলাদেশের রাষ্ট্রপতি হন ?',\n",
              " 'বঙ্গবন্ধুর জন্মস্থান কই ? ',\n",
              " 'ইসলামিয়া কলেজের বর্তমান নাম কি ?',\n",
              " 'পূর্ণ দাসকে  নিয়ে নজরুলের কবিতাটির নাম কি ছিলো ?']"
            ]
          },
          "metadata": {},
          "execution_count": 44
        }
      ]
    },
    {
      "cell_type": "code",
      "source": [
        "ques_query(\"মুজিবের বাড়ি কই ?\")"
      ],
      "metadata": {
        "colab": {
          "base_uri": "https://localhost:8080/"
        },
        "id": "n_l5we8QNRJx",
        "outputId": "85562388-c8f0-46dd-f394-d5391bd11fe7"
      },
      "execution_count": 43,
      "outputs": [
        {
          "output_type": "stream",
          "name": "stdout",
          "text": [
            "User's Question: মুজিবের বাড়ি কই ?\n",
            "Most Similar Question Found: \n",
            "Question 0: বঙ্গবন্ধুর জন্মস্থান কই ? \n",
            "QA model query: মুজিবের বাড়ি কই ?\n",
            "QA model context: ১৯২০ সালের ১৭ মার্চ গোপালগঞ্জ জেলার টুঙ্গিপাড়া গ্রামের এক বনেদি মুসলিম পরিবারে জন্মগ্রহণ করেন জাতির জনক বঙ্গবন্ধু শেখ মুজিবুর রহমান। পিতা শেখ লুৎফর রহমান ও মা সায়েরা খাতুন আদর করে তাকে খোকা বলে ডাকতেন। শেখ মুজিবুর রহমানের পূর্ব-পুরুষরা খ্যাতিমান আউলিয়া বায়েজিত বোস্তমি (রহ.) এর শিষ্য দরবেশ শেখ আউয়ালের বংশধর।\n",
            "{'score': 0.9050429463386536, 'start': 19, 'end': 47, 'answer': ' গোপালগঞ্জ জেলার টুঙ্গিপাড়া'}\n",
            "Question 1: বাংলাদেশের প্রথম রাষ্ট্রপতি শেখ মুজিবুর রহমানের জন্ম কবে হয় ?\n",
            "QA model query: মুজিবের বাড়ি কই ?\n",
            "QA model context: শেখ মুজিবুর রহমান (১৭ মার্চ ১৯২০ - ১৫ আগস্ট ১৯৭৫) বাংলাদেশের প্রথম রাষ্ট্রপতি ও ভারতীয় উপমহাদেশের একজন অন্যতম প্রভাবশালী রাজনৈতিক ব্যক্তিত্ব যিনি বাঙালীর অধিকার রক্ষায় ব্রিটিশ ভারত থেকে ভারত বিভাজন আন্দোলন এবং পরবর্তীতে  পূর্ব পাকিস্তান থেকে বাংলাদেশ প্রতিষ্ঠার সংগ্রামে নেতৃত্ব প্রদান করেন। প্রাচীন বাঙ্গালি সভ্যতার আধুনিক স্থপতি হিসাবে শেখ মুজিবুর রহমানকে বাংলাদেশের জাতির জনক বা জাতির পিতা বলা হয়ে থাকে। তিনি মাওলানা আব্দুল হামিদ খান ভাসানী প্রতিষ্ঠিত আওয়ামী লীগের সভাপতি, বাংলাদেশের প্রথম রাষ্ট্রপতি এবং পরবর্তীতে এদেশের প্রধানমন্ত্রীর দায়িত্ব পালন করেন। জনসাধারণের কাছে তিনি শেখ মুজিব এবং শেখ সাহেব হিসাবে বেশি পরিচিত এবং তার উপাধি বঙ্গবন্ধু। তার কন্যা শেখ হাসিনা বাংলাদেশ আওয়ামী লীগের বর্তমান সভানেত্রী এবং বাংলাদেশের বর্তমান প্রধানমন্ত্রী।\n",
            "{'score': 5.928872410382313e-12, 'start': 584, 'end': 594, 'answer': ' শেখ মুজিব'}\n"
          ]
        }
      ]
    },
    {
      "cell_type": "code",
      "source": [
        "ques_query(\"এখন ইসলামিয়া কলেজের  কি নামে পরিচিত?\")"
      ],
      "metadata": {
        "colab": {
          "base_uri": "https://localhost:8080/"
        },
        "id": "sFLsk90MNnlW",
        "outputId": "2d3f36e6-2d07-4e0e-a305-073f69f52f8e"
      },
      "execution_count": 60,
      "outputs": [
        {
          "output_type": "stream",
          "name": "stdout",
          "text": [
            "User's Question: এখন ইসলামিয়া কলেজের  কি নামে পরিচিত?\n",
            "Most Similar Question Found: \n",
            "Question 0: ইসলামিয়া কলেজের বর্তমান নাম কি ?\n",
            "QA model query: এখন ইসলামিয়া কলেজের  কি নামে পরিচিত?\n",
            "QA model context: ১৯৪২ সালে ম্যাট্রিক পাস করে কলকাতায় যান এবং আইএ পড়ার জন্য ইসলামিয়া কলেজে (বর্তমানে মওলানা আবুল কালাম আজাদ কলেজ) ভর্তি হন শেখ মুজিবুর রহমান।ওঠেন বেকার হোস্টেলে, পুরোদমে জড়িয়ে পড়েন মুসলিম লীগের রাজনীতিতে। মুসলিম লীগের প্রগতিশীল অংশের নেতা হোসেন শহীদ সোহরাওয়ার্দীর সংস্পর্শে আসেন এসময়।সিরাজগঞ্জে অবস্থিত প্রাদেশিক মুসলিম লীগের সম্মেলনে ফরিদপুর থেকে বিশাল কর্মী বাহিনী নিয়ে যান মুজিব। ইসলামিয়া কলেজ থেকেই পরবর্তীতে আইএ এবং বিএ পাস করেন বঙ্গবন্ধু।\n",
            "{'score': 0.9999823570251465, 'start': 82, 'end': 111, 'answer': ' মওলানা আবুল কালাম আজাদ কলেজ)'}\n",
            "Question 1: বাংলাদেশের স্বাধীনতা সংগ্রামের একজন অন্যতম মুক্তিযোদ্ধা শেখ মুজিবুর রহমানের মৃত্যু কবে হয় ?\n",
            "QA model query: এখন ইসলামিয়া কলেজের  কি নামে পরিচিত?\n",
            "QA model context: শেখ মুজিবুর রহমান (১৭ মার্চ ১৯২০ - ১৫ আগস্ট ১৯৭৫) বাংলাদেশের প্রথম রাষ্ট্রপতি ও ভারতীয় উপমহাদেশের একজন অন্যতম প্রভাবশালী রাজনৈতিক ব্যক্তিত্ব যিনি বাঙালীর অধিকার রক্ষায় ব্রিটিশ ভারত থেকে ভারত বিভাজন আন্দোলন এবং পরবর্তীতে  পূর্ব পাকিস্তান থেকে বাংলাদেশ প্রতিষ্ঠার সংগ্রামে নেতৃত্ব প্রদান করেন। প্রাচীন বাঙ্গালি সভ্যতার আধুনিক স্থপতি হিসাবে শেখ মুজিবুর রহমানকে বাংলাদেশের জাতির জনক বা জাতির পিতা বলা হয়ে থাকে। তিনি মাওলানা আব্দুল হামিদ খান ভাসানী প্রতিষ্ঠিত আওয়ামী লীগের সভাপতি, বাংলাদেশের প্রথম রাষ্ট্রপতি এবং পরবর্তীতে এদেশের প্রধানমন্ত্রীর দায়িত্ব পালন করেন। জনসাধারণের কাছে তিনি শেখ মুজিব এবং শেখ সাহেব হিসাবে বেশি পরিচিত এবং তার উপাধি বঙ্গবন্ধু। তার কন্যা শেখ হাসিনা বাংলাদেশ আওয়ামী লীগের বর্তমান সভানেত্রী এবং বাংলাদেশের বর্তমান প্রধানমন্ত্রী।\n",
            "{'score': 4.900164041893307e-12, 'start': 584, 'end': 594, 'answer': ' শেখ মুজিব'}\n"
          ]
        }
      ]
    },
    {
      "cell_type": "markdown",
      "source": [
        "## Selecting context by applying `semantic search` on **Context**"
      ],
      "metadata": {
        "id": "wv9t4dSYN2O2"
      }
    },
    {
      "cell_type": "code",
      "source": [
        "def context_query(query):\n",
        "  q_emb = retriver_model.encode(query)\n",
        "\n",
        "  query_embeddings = torch.FloatTensor(q_emb)\n",
        "  hits = semantic_search(query_embeddings, context_embeddings, top_k = 2)\n",
        "  print(f\"User's Question: {query}\")\n",
        "  print(\"Most Similar Context Found: \")\n",
        "  for i in range(len(hits[0])):\n",
        "    print(f\"Context {i}:\" ,no_dup[hits[0][i][\"corpus_id\"]] )\n",
        "    # for item in tests:\n",
        "    #   if item['question'] == questions[hits[0][i][\"corpus_id\"]]:\n",
        "    context = no_dup[hits[0][i][\"corpus_id\"]]\n",
        "    qa_input = {'question': query,'context': context}\n",
        "    res = qa_model(qa_input)\n",
        "    print(res)"
      ],
      "metadata": {
        "id": "oDEOaS8vOc73"
      },
      "execution_count": 48,
      "outputs": []
    },
    {
      "cell_type": "markdown",
      "source": [
        "### Testing"
      ],
      "metadata": {
        "id": "xETWdGsQPBrH"
      }
    },
    {
      "cell_type": "code",
      "source": [
        "no_dup"
      ],
      "metadata": {
        "colab": {
          "base_uri": "https://localhost:8080/"
        },
        "id": "HBBkm_f7PD-B",
        "outputId": "5390a442-cd52-43ff-c9ab-b439e331f7a7"
      },
      "execution_count": 50,
      "outputs": [
        {
          "output_type": "execute_result",
          "data": {
            "text/plain": [
              "['শেখ মুজিবুর রহমান (১৭ মার্চ ১৯২০ - ১৫ আগস্ট ১৯৭৫) বাংলাদেশের প্রথম রাষ্ট্রপতি ও ভারতীয় উপমহাদেশের একজন অন্যতম প্রভাবশালী রাজনৈতিক ব্যক্তিত্ব যিনি বাঙালীর অধিকার রক্ষায় ব্রিটিশ ভারত থেকে ভারত বিভাজন আন্দোলন এবং পরবর্তীতে  পূর্ব পাকিস্তান থেকে বাংলাদেশ প্রতিষ্ঠার সংগ্রামে নেতৃত্ব প্রদান করেন। প্রাচীন বাঙ্গালি সভ্যতার আধুনিক স্থপতি হিসাবে শেখ মুজিবুর রহমানকে বাংলাদেশের জাতির জনক বা জাতির পিতা বলা হয়ে থাকে। তিনি মাওলানা আব্দুল হামিদ খান ভাসানী প্রতিষ্ঠিত আওয়ামী লীগের সভাপতি, বাংলাদেশের প্রথম রাষ্ট্রপতি এবং পরবর্তীতে এদেশের প্রধানমন্ত্রীর দায়িত্ব পালন করেন। জনসাধারণের কাছে তিনি শেখ মুজিব এবং শেখ সাহেব হিসাবে বেশি পরিচিত এবং তার উপাধি বঙ্গবন্ধু। তার কন্যা শেখ হাসিনা বাংলাদেশ আওয়ামী লীগের বর্তমান সভানেত্রী এবং বাংলাদেশের বর্তমান প্রধানমন্ত্রী।',\n",
              " '২৬ সেপ্টেম্বর, ১৯৭৫ তারিখে মুজিব হত্যাকাণ্ডের বিচারের ওপর নিষেধাজ্ঞা দিয়ে খন্দকার মোশতাক সরকার ইমডেমনিটি (দায়মুক্তি) অধ্যাদেশ জারি করেন এবং জেনারেল জিয়াউর রহমান ও পাকিস্তানপন্থী প্রধানমন্ত্রী শাহ আজিজুর রহমানের নেতৃত্বে সংবিধানের পঞ্চম সংশোধনীতে তার বৈধতা দেয়া হয়। যা ১২ অগাস্ট, ১৯৯৬ তারিখে সংসদে রহিত করা হয়।। সংবাদ মাধ্যমে এ হত্যা কান্ডের ইন্ধনদাতা হিসেবে যুক্তরাষ্ট্রের সেণ্ট্রাল ইণ্টেলিজেন্স এজেন্সি সিআইএ-কে দায়ী করা হয়।[27] বাংলাদেশে অবস্থিত তৎকালীন রাষ্ট্রদূত ইউজিন দিয়ে লরেন্স লিফসুল্জ সিআইএ-কে অভ্যুত্থান ও গণহত্যার জন্য দোষারোপ করেন।[28] তাঁর মরদেহ তাঁর জন্মস্থান টুঙ্গিপাড়ায় হেলিকপ্টারে করে নিয়ে যাওয়া হয় এবং সামরিক তত্ত্বাবধানে দাফন করা হয়। অন্যান্যদের ঢাকার বনানী কবরস্থানে দাফন করা হয়।',\n",
              " 'ইয়াহিয়া খান সামরিক আইন জারি করেন, আওয়ামী লীগকে নিষিদ্ধ ঘোষণা করেন এবং মুজিবসহ আওয়ামী লীগের অন্যান্য নেতাদের গ্রেফতারের নির্দেশ দেন। পাকিস্তানি সামরিক বাহিনী রাজনৈতিক ও জনসাধারণের অসন্তোষ দমনে ২৫ মার্চ অপারেশন সার্চলাইট শুরু করে। সামরিক বাহিনীর অভিযান শুরু হলে মুজিবুর রহমান ১৯৭১ সালের ২৬ মার্চ বাংলাদেশের স্বাধীনতার ঘোষণা দেন।[4][10][11]\\nধানমণ্ডির ৩২ নং বাড়ি থেকে ওয়্যারলেসের মাধ্যমে স্বাধীনতার ঘোষণা দেন। মূল ঘোষণার অনুবাদ নিম্নরূপ:',\n",
              " '১৯২০ সালের ১৭ মার্চ গোপালগঞ্জ জেলার টুঙ্গিপাড়া গ্রামের এক বনেদি মুসলিম পরিবারে জন্মগ্রহণ করেন জাতির জনক বঙ্গবন্ধু শেখ মুজিবুর রহমান। পিতা শেখ লুৎফর রহমান ও মা সায়েরা খাতুন আদর করে তাকে খোকা বলে ডাকতেন। শেখ মুজিবুর রহমানের পূর্ব-পুরুষরা খ্যাতিমান আউলিয়া বায়েজিত বোস্তমি (রহ.) এর শিষ্য দরবেশ শেখ আউয়ালের বংশধর।',\n",
              " '১৯৪২ সালে ম্যাট্রিক পাস করে কলকাতায় যান এবং আইএ পড়ার জন্য ইসলামিয়া কলেজে (বর্তমানে মওলানা আবুল কালাম আজাদ কলেজ) ভর্তি হন শেখ মুজিবুর রহমান।ওঠেন বেকার হোস্টেলে, পুরোদমে জড়িয়ে পড়েন মুসলিম লীগের রাজনীতিতে। মুসলিম লীগের প্রগতিশীল অংশের নেতা হোসেন শহীদ সোহরাওয়ার্দীর সংস্পর্শে আসেন এসময়।সিরাজগঞ্জে অবস্থিত প্রাদেশিক মুসলিম লীগের সম্মেলনে ফরিদপুর থেকে বিশাল কর্মী বাহিনী নিয়ে যান মুজিব। ইসলামিয়া কলেজ থেকেই পরবর্তীতে আইএ এবং বিএ পাস করেন বঙ্গবন্ধু।',\n",
              " \"১৯৩৬ সালে স্বদেশী আন্দোলনের প্রতি অনুরক্ত হন তরুণ শেখ মুজিব। পরবর্তীতে নিজের লেখা অসমাপ্ত আত্মজীবনীতে তিনি লিখেছেন— '(১৯৩৬ সাল) তখন স্বদেশী আন্দোলনের যুগ। মাদারীপুরের পূর্ণ দাস তখন ইংরেজের আতঙ্ক। স্বদেশী আন্দোলন তখন মাদারীপুর ও গোপালগঞ্জের ঘরে ঘরে।' এই পূর্ণচন্দ্র দাস ছিলেন বিপ্লবী বাঘা যতীনের সহকর্মী। তাকে নিয়ে কবিতা লিখেছিলেন বিদ্রোহী কবি কাজী নজরুল ইসলাম। 'পূর্ণ অভিনন্দন' নামের সেই কবিতাটি ১৯২৪ সালের বিখ্যাত 'ভাঙ্গার গান' কাব্যগ্রন্থে প্রকাশিত হয়।নিজের আত্মজীবনীতে বঙ্গবন্ধু আরো জানান— মাদারীপুর ও গোপালগঞ্জে স্বদেশীদের সভায় তিনি নিয়মিত যাতায়াত করতে শুরু করেন। ফলে ক্রমেই তিনি মনে-প্রাণে ইংরেজ শাসনবিরোধী হয়ে ওঠেন এবং সুভাষচন্দ্র বসুর একজন ভক্তে পরিণত হন। এছাড়াও বঙ্গবন্ধুর গৃহশিক্ষক ছিলেন হামিদ মাস্টার নামের একজন ব্রিটিশবিরোধী আন্দোলনকারী। ফলে শৈশব থেকেই নির্যাতন, নিপীড়ন ও সব ধরণের অন্যায্যতার বিরুদ্ধে সচেতন হয়ৈ বেড়ে ওঠেন বঙ্গবন্ধু।\"]"
            ]
          },
          "metadata": {},
          "execution_count": 50
        }
      ]
    },
    {
      "cell_type": "code",
      "source": [
        "context_query(\"সামরিক আইন জারি করেন কে \")"
      ],
      "metadata": {
        "colab": {
          "base_uri": "https://localhost:8080/"
        },
        "id": "ekWjI02xPJvQ",
        "outputId": "18a2bc48-9bb9-4e74-c612-05c8390c9217"
      },
      "execution_count": 51,
      "outputs": [
        {
          "output_type": "stream",
          "name": "stdout",
          "text": [
            "User's Question: সামরিক আইন জারি করেন কে \n",
            "Most Similar Context Found: \n",
            "Context 0: ২৬ সেপ্টেম্বর, ১৯৭৫ তারিখে মুজিব হত্যাকাণ্ডের বিচারের ওপর নিষেধাজ্ঞা দিয়ে খন্দকার মোশতাক সরকার ইমডেমনিটি (দায়মুক্তি) অধ্যাদেশ জারি করেন এবং জেনারেল জিয়াউর রহমান ও পাকিস্তানপন্থী প্রধানমন্ত্রী শাহ আজিজুর রহমানের নেতৃত্বে সংবিধানের পঞ্চম সংশোধনীতে তার বৈধতা দেয়া হয়। যা ১২ অগাস্ট, ১৯৯৬ তারিখে সংসদে রহিত করা হয়।। সংবাদ মাধ্যমে এ হত্যা কান্ডের ইন্ধনদাতা হিসেবে যুক্তরাষ্ট্রের সেণ্ট্রাল ইণ্টেলিজেন্স এজেন্সি সিআইএ-কে দায়ী করা হয়।[27] বাংলাদেশে অবস্থিত তৎকালীন রাষ্ট্রদূত ইউজিন দিয়ে লরেন্স লিফসুল্জ সিআইএ-কে অভ্যুত্থান ও গণহত্যার জন্য দোষারোপ করেন।[28] তাঁর মরদেহ তাঁর জন্মস্থান টুঙ্গিপাড়ায় হেলিকপ্টারে করে নিয়ে যাওয়া হয় এবং সামরিক তত্ত্বাবধানে দাফন করা হয়। অন্যান্যদের ঢাকার বনানী কবরস্থানে দাফন করা হয়।\n",
            "{'score': 0.0004933653399348259, 'start': 74, 'end': 95, 'answer': ' খন্দকার মোশতাক সরকার'}\n",
            "Context 1: ইয়াহিয়া খান সামরিক আইন জারি করেন, আওয়ামী লীগকে নিষিদ্ধ ঘোষণা করেন এবং মুজিবসহ আওয়ামী লীগের অন্যান্য নেতাদের গ্রেফতারের নির্দেশ দেন। পাকিস্তানি সামরিক বাহিনী রাজনৈতিক ও জনসাধারণের অসন্তোষ দমনে ২৫ মার্চ অপারেশন সার্চলাইট শুরু করে। সামরিক বাহিনীর অভিযান শুরু হলে মুজিবুর রহমান ১৯৭১ সালের ২৬ মার্চ বাংলাদেশের স্বাধীনতার ঘোষণা দেন।[4][10][11]\n",
            "ধানমণ্ডির ৩২ নং বাড়ি থেকে ওয়্যারলেসের মাধ্যমে স্বাধীনতার ঘোষণা দেন। মূল ঘোষণার অনুবাদ নিম্নরূপ:\n",
            "{'score': 0.9999809265136719, 'start': 0, 'end': 13, 'answer': 'ইয়াহিয়া খান'}\n"
          ]
        }
      ]
    },
    {
      "cell_type": "code",
      "source": [
        "context_query(\"আওয়ামী লীগের প্রতিষ্ঠাতা কে ? \")"
      ],
      "metadata": {
        "colab": {
          "base_uri": "https://localhost:8080/"
        },
        "id": "G9XzLHPjP_wK",
        "outputId": "e60fdf6f-9f05-4173-f4bb-e7f85834f519"
      },
      "execution_count": 56,
      "outputs": [
        {
          "output_type": "stream",
          "name": "stdout",
          "text": [
            "User's Question: আওয়ামী লীগের প্রতিষ্ঠাতা কে ? \n",
            "Most Similar Context Found: \n",
            "Context 0: শেখ মুজিবুর রহমান (১৭ মার্চ ১৯২০ - ১৫ আগস্ট ১৯৭৫) বাংলাদেশের প্রথম রাষ্ট্রপতি ও ভারতীয় উপমহাদেশের একজন অন্যতম প্রভাবশালী রাজনৈতিক ব্যক্তিত্ব যিনি বাঙালীর অধিকার রক্ষায় ব্রিটিশ ভারত থেকে ভারত বিভাজন আন্দোলন এবং পরবর্তীতে  পূর্ব পাকিস্তান থেকে বাংলাদেশ প্রতিষ্ঠার সংগ্রামে নেতৃত্ব প্রদান করেন। প্রাচীন বাঙ্গালি সভ্যতার আধুনিক স্থপতি হিসাবে শেখ মুজিবুর রহমানকে বাংলাদেশের জাতির জনক বা জাতির পিতা বলা হয়ে থাকে। তিনি মাওলানা আব্দুল হামিদ খান ভাসানী প্রতিষ্ঠিত আওয়ামী লীগের সভাপতি, বাংলাদেশের প্রথম রাষ্ট্রপতি এবং পরবর্তীতে এদেশের প্রধানমন্ত্রীর দায়িত্ব পালন করেন। জনসাধারণের কাছে তিনি শেখ মুজিব এবং শেখ সাহেব হিসাবে বেশি পরিচিত এবং তার উপাধি বঙ্গবন্ধু। তার কন্যা শেখ হাসিনা বাংলাদেশ আওয়ামী লীগের বর্তমান সভানেত্রী এবং বাংলাদেশের বর্তমান প্রধানমন্ত্রী।\n",
            "{'score': 0.9085586071014404, 'start': 414, 'end': 446, 'answer': ' মাওলানা আব্দুল হামিদ খান ভাসানী'}\n",
            "Context 1: ১৯৪২ সালে ম্যাট্রিক পাস করে কলকাতায় যান এবং আইএ পড়ার জন্য ইসলামিয়া কলেজে (বর্তমানে মওলানা আবুল কালাম আজাদ কলেজ) ভর্তি হন শেখ মুজিবুর রহমান।ওঠেন বেকার হোস্টেলে, পুরোদমে জড়িয়ে পড়েন মুসলিম লীগের রাজনীতিতে। মুসলিম লীগের প্রগতিশীল অংশের নেতা হোসেন শহীদ সোহরাওয়ার্দীর সংস্পর্শে আসেন এসময়।সিরাজগঞ্জে অবস্থিত প্রাদেশিক মুসলিম লীগের সম্মেলনে ফরিদপুর থেকে বিশাল কর্মী বাহিনী নিয়ে যান মুজিব। ইসলামিয়া কলেজ থেকেই পরবর্তীতে আইএ এবং বিএ পাস করেন বঙ্গবন্ধু।\n",
            "{'score': 0.00019278700347058475, 'start': 120, 'end': 143, 'answer': ' শেখ মুজিবুর রহমান।ওঠেন'}\n"
          ]
        }
      ]
    },
    {
      "cell_type": "code",
      "source": [
        "context_query(\"মুজিবের মায়ের নাম কি ? \")"
      ],
      "metadata": {
        "colab": {
          "base_uri": "https://localhost:8080/"
        },
        "id": "WwtsaqJ3PUn2",
        "outputId": "83b21e94-67ac-4c80-cf39-6fbfd247b190"
      },
      "execution_count": 61,
      "outputs": [
        {
          "output_type": "stream",
          "name": "stdout",
          "text": [
            "User's Question: মুজিবের মায়ের নাম কি ? \n",
            "Most Similar Context Found: \n",
            "Context 0: ১৯২০ সালের ১৭ মার্চ গোপালগঞ্জ জেলার টুঙ্গিপাড়া গ্রামের এক বনেদি মুসলিম পরিবারে জন্মগ্রহণ করেন জাতির জনক বঙ্গবন্ধু শেখ মুজিবুর রহমান। পিতা শেখ লুৎফর রহমান ও মা সায়েরা খাতুন আদর করে তাকে খোকা বলে ডাকতেন। শেখ মুজিবুর রহমানের পূর্ব-পুরুষরা খ্যাতিমান আউলিয়া বায়েজিত বোস্তমি (রহ.) এর শিষ্য দরবেশ শেখ আউয়ালের বংশধর।\n",
            "{'score': 0.9999983310699463, 'start': 159, 'end': 173, 'answer': ' সায়েরা খাতুন'}\n",
            "Context 1: শেখ মুজিবুর রহমান (১৭ মার্চ ১৯২০ - ১৫ আগস্ট ১৯৭৫) বাংলাদেশের প্রথম রাষ্ট্রপতি ও ভারতীয় উপমহাদেশের একজন অন্যতম প্রভাবশালী রাজনৈতিক ব্যক্তিত্ব যিনি বাঙালীর অধিকার রক্ষায় ব্রিটিশ ভারত থেকে ভারত বিভাজন আন্দোলন এবং পরবর্তীতে  পূর্ব পাকিস্তান থেকে বাংলাদেশ প্রতিষ্ঠার সংগ্রামে নেতৃত্ব প্রদান করেন। প্রাচীন বাঙ্গালি সভ্যতার আধুনিক স্থপতি হিসাবে শেখ মুজিবুর রহমানকে বাংলাদেশের জাতির জনক বা জাতির পিতা বলা হয়ে থাকে। তিনি মাওলানা আব্দুল হামিদ খান ভাসানী প্রতিষ্ঠিত আওয়ামী লীগের সভাপতি, বাংলাদেশের প্রথম রাষ্ট্রপতি এবং পরবর্তীতে এদেশের প্রধানমন্ত্রীর দায়িত্ব পালন করেন। জনসাধারণের কাছে তিনি শেখ মুজিব এবং শেখ সাহেব হিসাবে বেশি পরিচিত এবং তার উপাধি বঙ্গবন্ধু। তার কন্যা শেখ হাসিনা বাংলাদেশ আওয়ামী লীগের বর্তমান সভানেত্রী এবং বাংলাদেশের বর্তমান প্রধানমন্ত্রী।\n",
            "{'score': 0.9999479055404663, 'start': 662, 'end': 673, 'answer': ' শেখ হাসিনা'}\n"
          ]
        }
      ]
    },
    {
      "cell_type": "code",
      "source": [
        "0.9999983310699463>0.9999479055404663"
      ],
      "metadata": {
        "colab": {
          "base_uri": "https://localhost:8080/"
        },
        "id": "BsFnoqzqPi4Q",
        "outputId": "efdde0a7-ee4a-4411-8734-829498a68be6"
      },
      "execution_count": 62,
      "outputs": [
        {
          "output_type": "execute_result",
          "data": {
            "text/plain": [
              "True"
            ]
          },
          "metadata": {},
          "execution_count": 62
        }
      ]
    },
    {
      "cell_type": "code",
      "source": [
        "context_query(\"পূর্ণ দসকে নিয়ে কে কবিতা লিখেন ? \")"
      ],
      "metadata": {
        "colab": {
          "base_uri": "https://localhost:8080/"
        },
        "id": "qRB2HZHnPlip",
        "outputId": "4ec56dc5-1a51-441d-844c-b6edb98efeae"
      },
      "execution_count": 57,
      "outputs": [
        {
          "output_type": "stream",
          "name": "stdout",
          "text": [
            "User's Question: পূর্ণ দসকে নিয়ে কে কবিতা লিখেন ? \n",
            "Most Similar Context Found: \n",
            "Context 0: ১৯৩৬ সালে স্বদেশী আন্দোলনের প্রতি অনুরক্ত হন তরুণ শেখ মুজিব। পরবর্তীতে নিজের লেখা অসমাপ্ত আত্মজীবনীতে তিনি লিখেছেন— '(১৯৩৬ সাল) তখন স্বদেশী আন্দোলনের যুগ। মাদারীপুরের পূর্ণ দাস তখন ইংরেজের আতঙ্ক। স্বদেশী আন্দোলন তখন মাদারীপুর ও গোপালগঞ্জের ঘরে ঘরে।' এই পূর্ণচন্দ্র দাস ছিলেন বিপ্লবী বাঘা যতীনের সহকর্মী। তাকে নিয়ে কবিতা লিখেছিলেন বিদ্রোহী কবি কাজী নজরুল ইসলাম। 'পূর্ণ অভিনন্দন' নামের সেই কবিতাটি ১৯২৪ সালের বিখ্যাত 'ভাঙ্গার গান' কাব্যগ্রন্থে প্রকাশিত হয়।নিজের আত্মজীবনীতে বঙ্গবন্ধু আরো জানান— মাদারীপুর ও গোপালগঞ্জে স্বদেশীদের সভায় তিনি নিয়মিত যাতায়াত করতে শুরু করেন। ফলে ক্রমেই তিনি মনে-প্রাণে ইংরেজ শাসনবিরোধী হয়ে ওঠেন এবং সুভাষচন্দ্র বসুর একজন ভক্তে পরিণত হন। এছাড়াও বঙ্গবন্ধুর গৃহশিক্ষক ছিলেন হামিদ মাস্টার নামের একজন ব্রিটিশবিরোধী আন্দোলনকারী। ফলে শৈশব থেকেই নির্যাতন, নিপীড়ন ও সব ধরণের অন্যায্যতার বিরুদ্ধে সচেতন হয়ৈ বেড়ে ওঠেন বঙ্গবন্ধু।\n",
            "{'score': 0.9999897480010986, 'start': 343, 'end': 361, 'answer': ' কাজী নজরুল ইসলাম।'}\n",
            "Context 1: ২৬ সেপ্টেম্বর, ১৯৭৫ তারিখে মুজিব হত্যাকাণ্ডের বিচারের ওপর নিষেধাজ্ঞা দিয়ে খন্দকার মোশতাক সরকার ইমডেমনিটি (দায়মুক্তি) অধ্যাদেশ জারি করেন এবং জেনারেল জিয়াউর রহমান ও পাকিস্তানপন্থী প্রধানমন্ত্রী শাহ আজিজুর রহমানের নেতৃত্বে সংবিধানের পঞ্চম সংশোধনীতে তার বৈধতা দেয়া হয়। যা ১২ অগাস্ট, ১৯৯৬ তারিখে সংসদে রহিত করা হয়।। সংবাদ মাধ্যমে এ হত্যা কান্ডের ইন্ধনদাতা হিসেবে যুক্তরাষ্ট্রের সেণ্ট্রাল ইণ্টেলিজেন্স এজেন্সি সিআইএ-কে দায়ী করা হয়।[27] বাংলাদেশে অবস্থিত তৎকালীন রাষ্ট্রদূত ইউজিন দিয়ে লরেন্স লিফসুল্জ সিআইএ-কে অভ্যুত্থান ও গণহত্যার জন্য দোষারোপ করেন।[28] তাঁর মরদেহ তাঁর জন্মস্থান টুঙ্গিপাড়ায় হেলিকপ্টারে করে নিয়ে যাওয়া হয় এবং সামরিক তত্ত্বাবধানে দাফন করা হয়। অন্যান্যদের ঢাকার বনানী কবরস্থানে দাফন করা হয়।\n",
            "{'score': 2.2625083230531917e-12, 'start': 26, 'end': 32, 'answer': ' মুজিব'}\n"
          ]
        }
      ]
    },
    {
      "cell_type": "code",
      "source": [],
      "metadata": {
        "id": "Ym-FODYYRId5"
      },
      "execution_count": null,
      "outputs": []
    }
  ]
}