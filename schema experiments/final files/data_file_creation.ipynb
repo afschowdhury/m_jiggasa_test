{
 "cells": [
  {
   "cell_type": "markdown",
   "metadata": {},
   "source": [
    "# Importing data form Excel Sheet"
   ]
  },
  {
   "cell_type": "code",
   "execution_count": 3,
   "metadata": {},
   "outputs": [
    {
     "data": {
      "text/html": [
       "<div>\n",
       "<style scoped>\n",
       "    .dataframe tbody tr th:only-of-type {\n",
       "        vertical-align: middle;\n",
       "    }\n",
       "\n",
       "    .dataframe tbody tr th {\n",
       "        vertical-align: top;\n",
       "    }\n",
       "\n",
       "    .dataframe thead th {\n",
       "        text-align: right;\n",
       "    }\n",
       "</style>\n",
       "<table border=\"1\" class=\"dataframe\">\n",
       "  <thead>\n",
       "    <tr style=\"text-align: right;\">\n",
       "      <th></th>\n",
       "      <th>Unnamed: 0</th>\n",
       "      <th>Context No</th>\n",
       "      <th>Context</th>\n",
       "      <th>ContextQuesNo</th>\n",
       "      <th>Q1</th>\n",
       "      <th>Q2</th>\n",
       "      <th>Q3</th>\n",
       "      <th>Q4</th>\n",
       "      <th>Exact Answer</th>\n",
       "      <th>Answer</th>\n",
       "      <th>...</th>\n",
       "      <th>T2</th>\n",
       "      <th>L1</th>\n",
       "      <th>L2</th>\n",
       "      <th>P1</th>\n",
       "      <th>P2</th>\n",
       "      <th>P3</th>\n",
       "      <th>Event</th>\n",
       "      <th>Date</th>\n",
       "      <th>Year</th>\n",
       "      <th>Mujib Relevant</th>\n",
       "    </tr>\n",
       "  </thead>\n",
       "  <tbody>\n",
       "    <tr>\n",
       "      <th>0</th>\n",
       "      <td>1</td>\n",
       "      <td>1</td>\n",
       "      <td>১৯৭০ সালের ১২ নভেম্বর পূর্ব-বাংলায় ভয়াবহ ঝড...</td>\n",
       "      <td>1.0</td>\n",
       "      <td>পূর্ব বাংলায় ১৯৭০ এর ঝড়ে কত মানুষ মারা যায় ?</td>\n",
       "      <td>১৯৭০ এর ঝড়ে কত মানুষ বাংলাদেশ মারা যায়?</td>\n",
       "      <td>কত মানুষ ১৯৭০ এ মারা যায় ?</td>\n",
       "      <td>NaN</td>\n",
       "      <td>১০ লাখ মানুষ</td>\n",
       "      <td>১৯৭০ এর ঝড়ে ১০ লাখ মানুষ মারা যায় এই বাংলায় ।</td>\n",
       "      <td>...</td>\n",
       "      <td>ইতিহাস</td>\n",
       "      <td>NaN</td>\n",
       "      <td>পূর্ব বাংলা</td>\n",
       "      <td>NaN</td>\n",
       "      <td>NaN</td>\n",
       "      <td>NaN</td>\n",
       "      <td>জলোচ্ছ্বাস</td>\n",
       "      <td>1970-12-11 00:00:00</td>\n",
       "      <td>1970</td>\n",
       "      <td>NO</td>\n",
       "    </tr>\n",
       "    <tr>\n",
       "      <th>1</th>\n",
       "      <td>2</td>\n",
       "      <td>NaN</td>\n",
       "      <td>NaN</td>\n",
       "      <td>2.0</td>\n",
       "      <td>১৯৭০ এ শেখ মুজিব নির্বাচনী প্রচারনা বন্ধ করেন ...</td>\n",
       "      <td>১৯৭০ এ বঙ্গবন্ধু নির্বাচনী প্রচরনা বন্ধ করেন কেন?</td>\n",
       "      <td></td>\n",
       "      <td></td>\n",
       "      <td>প্রাকৃতিক দুর্যোগ এর জন্য</td>\n",
       "      <td>বঙ্গবন্ধু তার নির্বাচনি প্রচারণা স্থগিত করেন প...</td>\n",
       "      <td>...</td>\n",
       "      <td>ইতিহাস</td>\n",
       "      <td>NaN</td>\n",
       "      <td>পূর্ব বাংলা</td>\n",
       "      <td>NaN</td>\n",
       "      <td>NaN</td>\n",
       "      <td>NaN</td>\n",
       "      <td>জলোচ্ছ্বাস</td>\n",
       "      <td>NaN</td>\n",
       "      <td>1970</td>\n",
       "      <td>YES</td>\n",
       "    </tr>\n",
       "    <tr>\n",
       "      <th>2</th>\n",
       "      <td>3</td>\n",
       "      <td>NaN</td>\n",
       "      <td>NaN</td>\n",
       "      <td>3.0</td>\n",
       "      <td>কেন ১৯৭০ সালে ১০ লাখ মানুষ মারা যায় ?</td>\n",
       "      <td>NaN</td>\n",
       "      <td>NaN</td>\n",
       "      <td>NaN</td>\n",
       "      <td>প্রাকৃতিক দুর্যোগ এর জন্য</td>\n",
       "      <td>১৯৭০ সালে পূর্ব-বাংলায় ভয়াবহ ঝড় এবং জলোচ্ছ্...</td>\n",
       "      <td>...</td>\n",
       "      <td>ইতিহাস</td>\n",
       "      <td>NaN</td>\n",
       "      <td>পূর্ব বাংলা</td>\n",
       "      <td>NaN</td>\n",
       "      <td>NaN</td>\n",
       "      <td>NaN</td>\n",
       "      <td>জলোচ্ছ্বাস</td>\n",
       "      <td>1970-12-11 00:00:00</td>\n",
       "      <td>1970</td>\n",
       "      <td>NO</td>\n",
       "    </tr>\n",
       "    <tr>\n",
       "      <th>3</th>\n",
       "      <td>4</td>\n",
       "      <td>2</td>\n",
       "      <td>১৯৫৩ সালের নভেম্বর মাসে তৎকালীন প্রধান বিরোধী...</td>\n",
       "      <td>1.0</td>\n",
       "      <td>কত সালে 'পূর্ব পাকিস্তান আওয়ামী মুসলিম লীগ এ...</td>\n",
       "      <td>বঙ্গবন্ধু শেখ মুজিবুর রহমান কত সালে 'পূর্ব পা...</td>\n",
       "      <td>বঙ্গবন্ধু  'পূর্ব পাকিস্তান আওয়ামী মুসলিম লী...</td>\n",
       "      <td>NaN</td>\n",
       "      <td>১৯৫৩ সালের নভেম্বর মাসে</td>\n",
       "      <td>পূর্ব পাকিস্তান আওয়ামী মুসলিম লীগ' এর অধিবেশনে...</td>\n",
       "      <td>...</td>\n",
       "      <td>পূর্বপাকিস্তান আওয়ামী মুসলিম লীগ যোগদান</td>\n",
       "      <td>NaN</td>\n",
       "      <td>পূর্ব বাংলা</td>\n",
       "      <td>NaN</td>\n",
       "      <td>NaN</td>\n",
       "      <td>NaN</td>\n",
       "      <td>যুক্তফ্রন্ট গঠন</td>\n",
       "      <td>NaN</td>\n",
       "      <td>1953</td>\n",
       "      <td>YES</td>\n",
       "    </tr>\n",
       "    <tr>\n",
       "      <th>4</th>\n",
       "      <td>5</td>\n",
       "      <td>NaN</td>\n",
       "      <td>NaN</td>\n",
       "      <td>2.0</td>\n",
       "      <td>পূর্ব পাকিস্তান আওয়ামী মুসলিম লীগের অধিবেশন ক...</td>\n",
       "      <td>পূর্ব পাকিস্তান মুসলিম লীগের অধিবেশন কতসালে অন...</td>\n",
       "      <td>NaN</td>\n",
       "      <td>NaN</td>\n",
       "      <td>১৯৫৩ সাালে</td>\n",
       "      <td>বঙ্গবন্ধু শেখ মুজিবুর রহমান দেশজুড়ে যুক্তফ্রন্...</td>\n",
       "      <td>...</td>\n",
       "      <td>রাজনীতিতে অণুপ্রবেশ</td>\n",
       "      <td>NaN</td>\n",
       "      <td>পূর্ব বাংলা</td>\n",
       "      <td>NaN</td>\n",
       "      <td>NaN</td>\n",
       "      <td>NaN</td>\n",
       "      <td>যুক্তফ্রন্ট গঠন</td>\n",
       "      <td>NaN</td>\n",
       "      <td>1953</td>\n",
       "      <td>YES</td>\n",
       "    </tr>\n",
       "  </tbody>\n",
       "</table>\n",
       "<p>5 rows × 21 columns</p>\n",
       "</div>"
      ],
      "text/plain": [
       "   Unnamed: 0 Context No                                            Context  \\\n",
       "0           1          1   ১৯৭০ সালের ১২ নভেম্বর পূর্ব-বাংলায় ভয়াবহ ঝড...   \n",
       "1           2        NaN                                                NaN   \n",
       "2           3        NaN                                                NaN   \n",
       "3           4          2  ১৯৫৩ সালের নভেম্বর মাসে তৎকালীন প্রধান বিরোধী...   \n",
       "4           5        NaN                                                NaN   \n",
       "\n",
       "   ContextQuesNo                                                 Q1  \\\n",
       "0            1.0       পূর্ব বাংলায় ১৯৭০ এর ঝড়ে কত মানুষ মারা যায় ?   \n",
       "1            2.0  ১৯৭০ এ শেখ মুজিব নির্বাচনী প্রচারনা বন্ধ করেন ...   \n",
       "2            3.0              কেন ১৯৭০ সালে ১০ লাখ মানুষ মারা যায় ?   \n",
       "3            1.0   কত সালে 'পূর্ব পাকিস্তান আওয়ামী মুসলিম লীগ এ...   \n",
       "4            2.0  পূর্ব পাকিস্তান আওয়ামী মুসলিম লীগের অধিবেশন ক...   \n",
       "\n",
       "                                                  Q2  \\\n",
       "0            ১৯৭০ এর ঝড়ে কত মানুষ বাংলাদেশ মারা যায়?   \n",
       "1  ১৯৭০ এ বঙ্গবন্ধু নির্বাচনী প্রচরনা বন্ধ করেন কেন?   \n",
       "2                                                NaN   \n",
       "3   বঙ্গবন্ধু শেখ মুজিবুর রহমান কত সালে 'পূর্ব পা...   \n",
       "4  পূর্ব পাকিস্তান মুসলিম লীগের অধিবেশন কতসালে অন...   \n",
       "\n",
       "                                                  Q3   Q4  \\\n",
       "0                         কত মানুষ ১৯৭০ এ মারা যায় ?  NaN   \n",
       "1                                                           \n",
       "2                                                NaN  NaN   \n",
       "3   বঙ্গবন্ধু  'পূর্ব পাকিস্তান আওয়ামী মুসলিম লী...  NaN   \n",
       "4                                                NaN  NaN   \n",
       "\n",
       "                 Exact Answer  \\\n",
       "0               ১০ লাখ মানুষ    \n",
       "1  প্রাকৃতিক দুর্যোগ এর জন্য    \n",
       "2  প্রাকৃতিক দুর্যোগ এর জন্য    \n",
       "3     ১৯৫৩ সালের নভেম্বর মাসে   \n",
       "4                  ১৯৫৩ সাালে   \n",
       "\n",
       "                                              Answer  ...  \\\n",
       "0      ১৯৭০ এর ঝড়ে ১০ লাখ মানুষ মারা যায় এই বাংলায় ।  ...   \n",
       "1  বঙ্গবন্ধু তার নির্বাচনি প্রচারণা স্থগিত করেন প...  ...   \n",
       "2  ১৯৭০ সালে পূর্ব-বাংলায় ভয়াবহ ঝড় এবং জলোচ্ছ্...  ...   \n",
       "3  পূর্ব পাকিস্তান আওয়ামী মুসলিম লীগ' এর অধিবেশনে...  ...   \n",
       "4  বঙ্গবন্ধু শেখ মুজিবুর রহমান দেশজুড়ে যুক্তফ্রন্...  ...   \n",
       "\n",
       "                                         T2   L1           L2   P1   P2   P3  \\\n",
       "0                                    ইতিহাস  NaN  পূর্ব বাংলা  NaN  NaN  NaN   \n",
       "1                                    ইতিহাস  NaN  পূর্ব বাংলা  NaN  NaN  NaN   \n",
       "2                                    ইতিহাস  NaN  পূর্ব বাংলা  NaN  NaN  NaN   \n",
       "3  পূর্বপাকিস্তান আওয়ামী মুসলিম লীগ যোগদান  NaN  পূর্ব বাংলা  NaN  NaN  NaN   \n",
       "4                       রাজনীতিতে অণুপ্রবেশ  NaN  পূর্ব বাংলা  NaN  NaN  NaN   \n",
       "\n",
       "             Event                 Date  Year Mujib Relevant  \n",
       "0       জলোচ্ছ্বাস  1970-12-11 00:00:00  1970             NO  \n",
       "1       জলোচ্ছ্বাস                  NaN  1970            YES  \n",
       "2       জলোচ্ছ্বাস  1970-12-11 00:00:00  1970             NO  \n",
       "3  যুক্তফ্রন্ট গঠন                  NaN  1953            YES  \n",
       "4  যুক্তফ্রন্ট গঠন                  NaN  1953            YES  \n",
       "\n",
       "[5 rows x 21 columns]"
      ]
     },
     "execution_count": 3,
     "metadata": {},
     "output_type": "execute_result"
    }
   ],
   "source": [
    "import pandas as pd\n",
    "\n",
    "df= pd.read_excel(\"data/mujib_data_final.xlsx\", sheet_name=[\"final\"])[\"final\"][:]\n",
    "\n",
    "df.head()"
   ]
  },
  {
   "cell_type": "code",
   "execution_count": 15,
   "metadata": {},
   "outputs": [
    {
     "name": "stdout",
     "output_type": "stream",
     "text": [
      "========== Data Fields in Dataset ==========\n",
      "\n",
      "         1. Context No\n",
      "         2. Context\n",
      "         3. ContextQuesNo\n",
      "         4. Q1\n",
      "         5. Q2\n",
      "         6. Q3\n",
      "         7. Q4\n",
      "         8. Exact Answer\n",
      "         9. Answer\n",
      "         10. T1\n",
      "         11. T2\n",
      "         12. L1\n",
      "         13. L2\n",
      "         14. P1\n",
      "         15. P2\n",
      "         16. P3\n",
      "         17. Event\n",
      "         18. Date\n",
      "         19. Year\n",
      "         20. Mujib Relevant\n"
     ]
    }
   ],
   "source": [
    "print(\"=\"*10+\" Data Fields in Dataset \"+\"=\"*10)\n",
    "print()\n",
    "for i,data_field in enumerate(df.columns[1:]):\n",
    "    \n",
    "    print(f\"         {(i+1)}. {data_field}\")"
   ]
  },
  {
   "attachments": {},
   "cell_type": "markdown",
   "metadata": {},
   "source": [
    "# Creating `json` file"
   ]
  },
  {
   "attachments": {},
   "cell_type": "markdown",
   "metadata": {},
   "source": [
    "### Taking the `Contexts` and dropping null values\n"
   ]
  },
  {
   "cell_type": "code",
   "execution_count": 18,
   "metadata": {},
   "outputs": [],
   "source": [
    "context = df['Context']"
   ]
  },
  {
   "cell_type": "code",
   "execution_count": 21,
   "metadata": {},
   "outputs": [],
   "source": [
    "context = df['Context'].dropna()"
   ]
  },
  {
   "cell_type": "code",
   "execution_count": 22,
   "metadata": {},
   "outputs": [
    {
     "data": {
      "text/plain": [
       "0       ১৯৭০ সালের ১২ নভেম্বর পূর্ব-বাংলায় ভয়াবহ ঝড...\n",
       "3      ১৯৫৩ সালের নভেম্বর মাসে তৎকালীন প্রধান বিরোধী...\n",
       "15     ১৯৫৪  সালের মার্চ মাসে প্রদেশিক পরিষদের সাধারণ...\n",
       "30     ১৯৫৫ সালে  পাকিস্তান গণপরিষদের সদস্য নির্বাচিত...\n",
       "40     ১৯৫৬ সালে পূর্ব পাকিস্তানে আওয়ামী লীগের নেতৃত্...\n",
       "                             ...                        \n",
       "381    ১৯৫২ সালের ২১ ফেব্রুয়ারি রাষ্ট্রভাষা বাংলার দ...\n",
       "391    ১৯৭৫ সালের ১৫ আগস্ট স্বাধীনতা বিরোধী প্রতিক্রি...\n",
       "400    ১৯৭৪ সালের ২৫ সেপ্টেম্বর প্রথম বাঙালি নেতা হিস...\n",
       "405    ১৯৭২সালের ৪ নভেম্বর, স্বাধীনতা অর্জনের এক বছরে...\n",
       "413    ১৯৩৮ সালে আঠার বছর বয়সে ফজিলাতুন্নেসার সাথে শ...\n",
       "Name: Context, Length: 61, dtype: object"
      ]
     },
     "execution_count": 22,
     "metadata": {},
     "output_type": "execute_result"
    }
   ],
   "source": [
    "context"
   ]
  },
  {
   "attachments": {},
   "cell_type": "markdown",
   "metadata": {},
   "source": [
    "### Converting the `Contexts` into `list`\n"
   ]
  },
  {
   "cell_type": "code",
   "execution_count": 24,
   "metadata": {},
   "outputs": [],
   "source": [
    "ctx_lst = context.tolist()"
   ]
  },
  {
   "attachments": {},
   "cell_type": "markdown",
   "metadata": {},
   "source": [
    "### Converting `context_index` into `list`"
   ]
  },
  {
   "cell_type": "code",
   "execution_count": 30,
   "metadata": {},
   "outputs": [],
   "source": [
    "ctx_index = context.keys().tolist()\n"
   ]
  },
  {
   "cell_type": "code",
   "execution_count": 38,
   "metadata": {},
   "outputs": [
    {
     "name": "stdout",
     "output_type": "stream",
     "text": [
      "context : ১৯৫৩ সালের নভেম্বর মাসে তৎকালীন প্রধান বিরোধী দল 'পূর্ব পাকিস্তান আওয়ামী মুসলিম লীগ' এর অধিবেশনে দলের সাধারণ সম্পাদক নির্বাচিত হন বঙ্গবন্ধু শেখ মুজিবুর রহমান। ৫ ডিসেম্বর আওয়ামী লীগের নেতৃত্বে অন্যান্য বিরোধী দলকে সঙ্গে নিয়ে গঠিত হয় যুক্তফ্রন্ট। দেশজুড়ে প্রচারণা শুরু করেন বঙ্গবন্ধু। \n",
      "context id: 3\n"
     ]
    }
   ],
   "source": [
    "print()\n",
    "print(f\"context : {ctx_lst[1]} \" )\n",
    "print(f\"context id: {ctx_index[1]}\")"
   ]
  },
  {
   "cell_type": "markdown",
   "metadata": {},
   "source": [
    "### Taking the `Q1`s\n",
    "\n"
   ]
  },
  {
   "cell_type": "code",
   "execution_count": 26,
   "metadata": {},
   "outputs": [
    {
     "data": {
      "text/plain": [
       "422"
      ]
     },
     "execution_count": 26,
     "metadata": {},
     "output_type": "execute_result"
    }
   ],
   "source": [
    "first_question = df['Q1']\n",
    "\n",
    "len(first_question)"
   ]
  },
  {
   "cell_type": "code",
   "execution_count": 28,
   "metadata": {},
   "outputs": [
    {
     "data": {
      "text/plain": [
       "0         পূর্ব বাংলায় ১৯৭০ এর ঝড়ে কত মানুষ মারা যায় ?\n",
       "1    ১৯৭০ এ শেখ মুজিব নির্বাচনী প্রচারনা বন্ধ করেন ...\n",
       "2                কেন ১৯৭০ সালে ১০ লাখ মানুষ মারা যায় ?\n",
       "3     কত সালে 'পূর্ব পাকিস্তান আওয়ামী মুসলিম লীগ এ...\n",
       "4    পূর্ব পাকিস্তান আওয়ামী মুসলিম লীগের অধিবেশন ক...\n",
       "5    ১৯৫৩ সালে বঙ্গবন্ধু কোন দলের সাধারন সম্পাদক নি...\n",
       "6    ১৯৫৩ সালের কোন মাসে পূর্বপাকিস্তান আওয়ামী মুসল...\n",
       "7                   তৎকালীন পধান বিরোধী দল কোনটি ছিলো?\n",
       "8    পূর্ব পাকিস্তান আওয়ামী মুসলিম লীগ দলের কোন পদ...\n",
       "9    পূর্ব পাকিস্তান আওয়ামী মুসলিম লীগ কোন ধরণের দ...\n",
       "Name: Q1, dtype: object"
      ]
     },
     "execution_count": 28,
     "metadata": {},
     "output_type": "execute_result"
    }
   ],
   "source": [
    "first_question[:10]"
   ]
  },
  {
   "cell_type": "code",
   "execution_count": 40,
   "metadata": {},
   "outputs": [],
   "source": [
    "ques_index = first_question.keys().tolist()\n",
    "\n"
   ]
  },
  {
   "cell_type": "markdown",
   "metadata": {},
   "source": [
    "### Binding `Contexts` to `Questions`"
   ]
  },
  {
   "cell_type": "code",
   "execution_count": 41,
   "metadata": {},
   "outputs": [],
   "source": [
    "ctx_q1 = []\n",
    "for i in range(len(ctx_index)-1):\n",
    "    for j in range(len(ques_index)):\n",
    "\n",
    "        if ctx_index[i] == j:\n",
    "            ques = []\n",
    "            k = j\n",
    "\n",
    "            while k < ctx_index[i+1]:\n",
    "                ques.append(first_question[k])\n",
    "                k = k+1\n",
    "\n",
    "    ctx_q1.append({\n",
    "        'context': context[ctx_index[i]],\n",
    "        'questions': ques\n",
    "    })"
   ]
  },
  {
   "cell_type": "code",
   "execution_count": null,
   "metadata": {},
   "outputs": [],
   "source": [
    "\n",
    "\n",
    "\"\"\"\n",
    "datetime type for converting \n",
    "datetime object to stirng as \n",
    "json dosn't allow datetime object \n",
    "insertion\n",
    "\n",
    "\"\"\"\n",
    "import datetime\n",
    "\n",
    "\n",
    "date_time_type = type(datetime.datetime.now()) \n",
    "\n"
   ]
  },
  {
   "attachments": {},
   "cell_type": "markdown",
   "metadata": {},
   "source": [
    "## Full Dataframe Generation \n",
    "\n",
    "It is a list of dictionaries. It follows the following structure:\n",
    "```python\n",
    "    \n",
    "    'context': context \n",
    "    'qas': [{\n",
    "        'qtns': [list of paraphased questions],\n",
    "        'exact_answer': exact answer to the question\n",
    "        'answer': explained answer to the question\n",
    "        'tags': associated tags to the question\n",
    "        'data': associated date to the question\n",
    "        'year': associated year to the question\n",
    "        'location': associated location to the question\n",
    "        'people':  associated people to the question\n",
    "        'event': associated event to the question\n",
    "        'mujib_relavant': the question is mujib relavant or not\n",
    "\n",
    "\n",
    "    }\n",
    "    ...\n",
    "    ...\n",
    "    same qas for multiple question from the context\n",
    "    ...\n",
    "    ...\n",
    "    ]\n",
    "```\n",
    "    "
   ]
  },
  {
   "cell_type": "code",
   "execution_count": 43,
   "metadata": {},
   "outputs": [],
   "source": [
    "full_df = []\n",
    "\n",
    "for i in range(len(ctx_index)-1):\n",
    "    for j in range(len(ques_index)):\n",
    "        if ctx_index[i] == j:\n",
    "            qas = []\n",
    "            \n",
    "\n",
    "            k = j\n",
    "\n",
    "            while k < ctx_index[i+1]:\n",
    "                ques = []\n",
    "                tags = []\n",
    "                location = []\n",
    "                people = []\n",
    "                ques.append(first_question[k])\n",
    "                ques.append(df['Q2'][k])\n",
    "                ques.append(df['Q3'][k])\n",
    "                ques.append(df['Q4'][k])\n",
    "                tags.append(df['T1'][k])\n",
    "                tags.append(df['T2'][k])\n",
    "                location.append(df['L1'][k])\n",
    "                location.append(df['L2'][k])\n",
    "                people.append(df['P1'][k])\n",
    "                people.append(df['P2'][k])\n",
    "                people.append(df['P3'][k])\n",
    "                \n",
    "                if type(df['Date'][k]) == date_time_type :\n",
    "                        df['Date'][k] = df['Date'][k].strftime(\"%d-%m-%Y\")\n",
    "                        \n",
    "                        \n",
    "                        \n",
    "                qas.append({\n",
    "                    'qtns': ques,\n",
    "                    'exact_answer': df['Exact Answer'][k],\n",
    "                    'answer': df['Answer'][k],\n",
    "                    'tags':tags,\n",
    "                    'date': df['Date'][k],\n",
    "                    'year': df['Year'][k],\n",
    "                    'location': location, \n",
    "                    'people': people, \n",
    "                    'event': df['Event'][k],\n",
    "                    'mujib_relavant': df['Mujib Relevant'][k]\n",
    "\n",
    "\n",
    "\n",
    "                }\n",
    "                )\n",
    "\n",
    "                k = k+1\n",
    "\n",
    "    full_df.append({\n",
    "        'context': context[ctx_index[i]],\n",
    "        'qas': qas\n",
    "    })\n"
   ]
  },
  {
   "attachments": {},
   "cell_type": "markdown",
   "metadata": {},
   "source": [
    "### Adding last one context"
   ]
  },
  {
   "cell_type": "code",
   "execution_count": 57,
   "metadata": {},
   "outputs": [
    {
     "data": {
      "text/plain": [
       "(413, 421)"
      ]
     },
     "execution_count": 57,
     "metadata": {},
     "output_type": "execute_result"
    }
   ],
   "source": [
    "ctx_index[-1] , ques_index[-1]"
   ]
  },
  {
   "cell_type": "code",
   "execution_count": 51,
   "metadata": {},
   "outputs": [],
   "source": [
    "j = ctx_index[-1]\n",
    "qas = []\n",
    "\n",
    "k = j\n",
    "while k<=ques_index[-1]: \n",
    "    ques = []\n",
    "    tags = []\n",
    "    location = []\n",
    "    people = []\n",
    "    ques.append(first_question[k])\n",
    "    ques.append(df['Q2'][k])\n",
    "    ques.append(df['Q3'][k])\n",
    "    ques.append(df['Q4'][k])\n",
    "    tags.append(df['T1'][k])\n",
    "    tags.append(df['T2'][k])\n",
    "    location.append(df['L1'][k])\n",
    "    location.append(df['L2'][k])\n",
    "    people.append(df['P1'][k])\n",
    "    people.append(df['P2'][k])\n",
    "    people.append(df['P3'][k])\n",
    "    \n",
    "    if type(df['Date'][k]) == date_time_type :\n",
    "            df['Date'][k] = df['Date'][k].strftime(\"%d-%m-%Y\")\n",
    "            \n",
    "            \n",
    "            \n",
    "\n",
    "    qas.append({\n",
    "        'qtns': ques,\n",
    "        'exact_answer': df['Exact Answer'][k],\n",
    "        'answer': df['Answer'][k],\n",
    "        # 'tags': df['Tags'][k],\n",
    "        'tags':tags,\n",
    "        'date': df['Date'][k],\n",
    "        'year': df['Year'][k],\n",
    "        'location': location, #changed \n",
    "        'people': people, # changed\n",
    "        'event': df['Event'][k],\n",
    "        'mujib_relavant': df['Mujib Relevant'][k]\n",
    "\n",
    "\n",
    "\n",
    "    }\n",
    "    )\n",
    "\n",
    "    k = k+1"
   ]
  },
  {
   "cell_type": "code",
   "execution_count": 52,
   "metadata": {},
   "outputs": [
    {
     "data": {
      "text/plain": [
       "[{'qtns': ['কত সালে শেখ মুজিবুর রহমানের বিয়ে হয়?',\n",
       "   'বঙ্গবন্ধু কত সালে বিবাহ বন্ধনে আবদ্ধ হন?',\n",
       "   'কবে শেখ মুজিব বিয়ে করেন?',\n",
       "   nan],\n",
       "  'exact_answer': '১৯৩৮ সালে',\n",
       "  'answer': '১৯৩৮ সালে আঠার বছর বয়সে ফজিলাতুন্নেসার সাথে শেখ মুজিবু্র রহমানের বিয়ে হয়।',\n",
       "  'tags': ['পরিচিতি তথ্য', 'ব্যাক্তিগত'],\n",
       "  'date': nan,\n",
       "  'year': '১৯৩৮',\n",
       "  'location': [nan, nan],\n",
       "  'people': ['ফজিলাতুন্নেসা', nan, nan],\n",
       "  'event': 'পরিবার',\n",
       "  'mujib_relavant': 'YES'},\n",
       " {'qtns': ['বিয়ের সময় শেখ মুজিবুর রহমানের বয়স কত ছিলো?',\n",
       "   'বিয়ের সময় বঙ্গবন্ধুর বয়স কত ছিলো?',\n",
       "   'কয় বছর বয়সে শেখ মুজিব বিয়ে করেন?',\n",
       "   nan],\n",
       "  'exact_answer': 'আঠারো',\n",
       "  'answer': '১৯৩৮ সালে আঠার বছর বয়সে ফজিলাতুন্নেসার সাথে শেখ মুজিবু্র রহমানের বিয়ে হয়।',\n",
       "  'tags': ['পরিচিতি তথ্য', 'ব্যাক্তিগত'],\n",
       "  'date': nan,\n",
       "  'year': '১৯৩৮',\n",
       "  'location': [nan, nan],\n",
       "  'people': ['ফজিলাতুন্নেসা', nan, nan],\n",
       "  'event': 'পরিবার',\n",
       "  'mujib_relavant': 'YES'},\n",
       " {'qtns': ['কার সাথে শেখ মুজিবুর রহমানের বিয়ে হয়?',\n",
       "   'বঙ্গবন্ধু কার সাথে বিবাহ বন্ধনে আবদ্ধ হয়েছিলেন?',\n",
       "   'বঙ্গমাতার নাম কি?',\n",
       "   'শেখ মুজিব কাকে বিয়ে করেছিলেন?'],\n",
       "  'exact_answer': 'ফজিলাতুন্নেসা',\n",
       "  'answer': '১৯৩৮ সালে আঠার বছর বয়সে ফজিলাতুন্নেসার সাথে শেখ মুজিবু্র রহমানের বিয়ে হয়।',\n",
       "  'tags': ['পরিচিতি তথ্য', 'ব্যাক্তিগত'],\n",
       "  'date': nan,\n",
       "  'year': '১৯৩৮',\n",
       "  'location': [nan, nan],\n",
       "  'people': ['ফজিলাতুন্নেসা', nan, nan],\n",
       "  'event': 'পরিবার',\n",
       "  'mujib_relavant': 'YES'},\n",
       " {'qtns': ['শেখ মুজিবুর রহমানের কয় সন্তান ছিলো?',\n",
       "   'শেখ মুজিবের কতজন সন্তান ছিলো?',\n",
       "   'মুজিবের ছেলেমেয়ে কয়জন?',\n",
       "   nan],\n",
       "  'exact_answer': 'পাঁচ',\n",
       "  'answer': '১৯৩৮ সালে আঠার বছর বয়সে ফজিলাতুন্নেসার সাথে শেখ মুজিবু্র রহমানের বিয়ে হয়। এঁদের সন্তানরা হলেন দুই কন্যা (শেখ হাসিনা, শেখ রেহানা) ও তিন পুত্র (শেখ কামাল, শেখ জামাল ও শেখ রাসেল)।',\n",
       "  'tags': ['পরিচিতি তথ্য', 'ব্যাক্তিগত'],\n",
       "  'date': nan,\n",
       "  'year': '১৯৩৮',\n",
       "  'location': [nan, nan],\n",
       "  'people': [nan, nan, nan],\n",
       "  'event': 'পরিবার',\n",
       "  'mujib_relavant': 'YES'},\n",
       " {'qtns': ['শেখ মুজিবুর রহমানের কয় ছেলে ছিলো?',\n",
       "   'মুজিবের কতজন পুত্র সন্তান ছিলো?',\n",
       "   nan,\n",
       "   nan],\n",
       "  'exact_answer': 'তিন',\n",
       "  'answer': '১৯৩৮ সালে আঠার বছর বয়সে ফজিলাতুন্নেসার সাথে শেখ মুজিবু্র রহমানের বিয়ে হয়। এঁদের সন্তানরা হলেন দুই কন্যা (শেখ হাসিনা, শেখ রেহানা) ও তিন পুত্র (শেখ কামাল, শেখ জামাল ও শেখ রাসেল)।',\n",
       "  'tags': ['পরিচিতি তথ্য', 'ব্যাক্তিগত'],\n",
       "  'date': nan,\n",
       "  'year': '১৯৩৮',\n",
       "  'location': [nan, nan],\n",
       "  'people': [nan, nan, nan],\n",
       "  'event': 'পরিবার',\n",
       "  'mujib_relavant': 'YES'},\n",
       " {'qtns': ['শেখ মুজিবুর রহমানের কয় মেয়ে ছিলো?',\n",
       "   'মুজিবের কতজন কন্যা সন্তান ছিলো?',\n",
       "   nan,\n",
       "   nan],\n",
       "  'exact_answer': 'দুই',\n",
       "  'answer': '১৯৩৮ সালে আঠার বছর বয়সে ফজিলাতুন্নেসার সাথে শেখ মুজিবু্র রহমানের বিয়ে হয়। এঁদের সন্তানরা হলেন দুই কন্যা (শেখ হাসিনা, শেখ রেহানা) ও তিন পুত্র (শেখ কামাল, শেখ জামাল ও শেখ রাসেল)।',\n",
       "  'tags': ['পরিচিতি তথ্য', 'ব্যাক্তিগত'],\n",
       "  'date': nan,\n",
       "  'year': '১৯৩৮',\n",
       "  'location': [nan, nan],\n",
       "  'people': [nan, nan, nan],\n",
       "  'event': 'পরিবার',\n",
       "  'mujib_relavant': 'YES'},\n",
       " {'qtns': ['শেখ মুজিবুর রহমানের ছেলেমেয়ের নাম কি?',\n",
       "   'শেখ মুজিবের সন্তানদের নাম কি?',\n",
       "   'শেখ মুজিবের ছেলে মেয়ে কে কে?',\n",
       "   nan],\n",
       "  'exact_answer': 'দুই কন্যা (শেখ হাসিনা, শেখ রেহানা) ও তিন পুত্র (শেখ কামাল, শেখ জামাল ও শেখ রাসেল)',\n",
       "  'answer': '১৯৩৮ সালে আঠার বছর বয়সে ফজিলাতুন্নেসার সাথে শেখ মুজিবু্র রহমানের বিয়ে হয়। এঁদের সন্তানরা হলেন দুই কন্যা (শেখ হাসিনা, শেখ রেহানা) ও তিন পুত্র (শেখ কামাল, শেখ জামাল ও শেখ রাসেল)।',\n",
       "  'tags': ['পরিচিতি তথ্য', 'ব্যাক্তিগত'],\n",
       "  'date': nan,\n",
       "  'year': '১৯৩৮',\n",
       "  'location': [nan, nan],\n",
       "  'people': [nan, nan, nan],\n",
       "  'event': 'পরিবার',\n",
       "  'mujib_relavant': 'YES'},\n",
       " {'qtns': ['শেখ মুজিব রহমানের ছেলেদের নাম কি?',\n",
       "   'শেখ মুজিবের পুত্র সন্তানদের নাম কি?',\n",
       "   'শেখ মুজিবের পুত্র কে কে?',\n",
       "   nan],\n",
       "  'exact_answer': 'তিন পুত্র (শেখ কামাল, শেখ জামাল ও শেখ রাসেল)',\n",
       "  'answer': '১৯৩৮ সালে আঠার বছর বয়সে ফজিলাতুন্নেসার সাথে শেখ মুজিবু্র রহমানের বিয়ে হয়। এঁদের সন্তানরা হলেন দুই কন্যা (শেখ হাসিনা, শেখ রেহানা) ও তিন পুত্র (শেখ কামাল, শেখ জামাল ও শেখ রাসেল)।',\n",
       "  'tags': ['পরিচিতি তথ্য', 'ব্যাক্তিগত'],\n",
       "  'date': nan,\n",
       "  'year': '১৯৩৮',\n",
       "  'location': [nan, nan],\n",
       "  'people': ['শেখ কামাল', 'শেখ জামাল', 'শেখ রাসেল'],\n",
       "  'event': 'পরিবার',\n",
       "  'mujib_relavant': 'YES'},\n",
       " {'qtns': ['শেখ মুজিবুর রহমানের মেয়েদের নাম কি?',\n",
       "   'শেখ মুজিবের কন্যা সন্তানদের নাম কি?',\n",
       "   'শেখ মুজিবের কন্যা কে কে?',\n",
       "   nan],\n",
       "  'exact_answer': 'দুই কন্যা (শেখ হাসিনা, শেখ রেহানা)',\n",
       "  'answer': '১৯৩৮ সালে আঠার বছর বয়সে ফজিলাতুন্নেসার সাথে শেখ মুজিবু্র রহমানের বিয়ে হয়। এঁদের সন্তানরা হলেন দুই কন্যা (শেখ হাসিনা, শেখ রেহানা) ও তিন পুত্র (শেখ কামাল, শেখ জামাল ও শেখ রাসেল)।',\n",
       "  'tags': ['পরিচিতি তথ্য', 'ব্যাক্তিগত'],\n",
       "  'date': nan,\n",
       "  'year': '১৯৩৮',\n",
       "  'location': [nan, nan],\n",
       "  'people': ['শেখ হাসিনা', 'শেখ রেহানা', nan],\n",
       "  'event': 'পরিবার',\n",
       "  'mujib_relavant': 'YES'}]"
      ]
     },
     "execution_count": 52,
     "metadata": {},
     "output_type": "execute_result"
    }
   ],
   "source": [
    "qas"
   ]
  },
  {
   "cell_type": "code",
   "execution_count": 53,
   "metadata": {},
   "outputs": [],
   "source": [
    "full_df.append(\n",
    "    {\n",
    "        'context':context[ctx_index[-1]],\n",
    "        'qas':qas\n",
    "    }\n",
    ")"
   ]
  },
  {
   "cell_type": "markdown",
   "metadata": {},
   "source": [
    "### Testing for iteration in `data.json`"
   ]
  },
  {
   "cell_type": "code",
   "execution_count": 54,
   "metadata": {},
   "outputs": [],
   "source": [
    "\n",
    "def find_by_index(index):\n",
    "    print(\"Context ->  \",full_df[index]['context'])\n",
    "    print(\"\\t Question -> \",full_df[index]['qas'][0]['qtns'][0])\n",
    "    print(\"\\t Answer -> \",full_df[index]['qas'][0]['answer'])"
   ]
  },
  {
   "cell_type": "code",
   "execution_count": 55,
   "metadata": {},
   "outputs": [
    {
     "name": "stdout",
     "output_type": "stream",
     "text": [
      "Context ->    ১৯৭১ সালের ২৫ মার্চ পৃথিবীর ইতিহাসের জঘন্যতম গণহত্যা ও নৃশংসতম কালরাত এটি। সাদা পোশাকে গোপনে ঢাকা ছেড়ে চলে যায় পাকিস্তানি স্বৈরাচার জেনারেল ইয়াহিয়া খান। সন্ধ্যার পর থেকেই থমথমে হয়ে ওঠে শহর। পাকিস্তানি সেনাদের সন্দেহজনক গতিবিধি এবং নিজের বাড়িতে জান্তাদের হামলার পরিকল্পনার খবর পাওয়ার পর বঙ্গবন্ধু তার সহকর্মীদের পরবর্তী নির্দেশনা দিয়ে নিরাপদ আশ্রয়ে চলে যাওয়ার নির্দেশ দেন। সহকর্মীরা বঙ্গবন্ধুকেও আত্মগোপনের পরামর্শ দিলে তা প্রত্যাখ্যান করে তিনি বললেন, 'আমি কোথাও যাব না। আমি যদি আত্মগোপন করি, তাহলে ঢাকা শহর থাকবে না। তারা তন্ন তন্ন করে তল্লাশি করবে। বহু বাড়ি-ঘরে ধ্বংসযজ্ঞ ও প্রচুর প্রাণহানি হবে।' কৌশলগত কারণে, পাকিস্তানি বাহিনীর আক্রমণের আগে স্বাধীনতার ঘোষণা দিয়ে বিচ্ছিন্নতাবাদের ধুয়া তুলো বহির্বিশ্বে বাংলাদেশকে নিয়ে অপপ্রচারের সুযোগ দেননি বঙ্গবন্ধু। কিন্তু ঢাকার কয়েকটি স্থান জান্তাদের দ্বারা আক্রান্ত হওয়ার খবর শুনে আর দেরি করলেন না তিনি। সহকর্মীদের নিরাপদ আশ্রয়ে সরে যাওয়ার সুযোগ করে দেওয়ার পর, পূর্ব-পরিকল্পনা অনুসারে সরাসরি বাংলাদেশকে স্বাধীন রাষ্ট্র বলে ঘোষণা করলেন।   \n",
      "\n",
      "\t Question ->  কত তারিখকে কাল রাত্রি বলা হয় ?\n",
      "\t Answer ->  ১৯৭১ সালের ২৫ মার্চ রাতে পাকিস্তানি বাহিনী কর্তৃক নির্মম গণহত্যায় নিহতদের স্মরণে দিবসটি পালন করা হয়। ২০১৭ সালের ১১ মার্চ জাতীয় সংসদে দিবসটি পালনের সিদ্ধান্ত গৃহীত হয়।\n"
     ]
    }
   ],
   "source": [
    "find_by_index(23)"
   ]
  },
  {
   "cell_type": "markdown",
   "metadata": {},
   "source": [
    "# Dumping into `data.json`"
   ]
  },
  {
   "cell_type": "code",
   "execution_count": 56,
   "metadata": {},
   "outputs": [],
   "source": [
    "import json\n",
    "with open('data/data_v4.json', 'w', encoding='utf-8') as fout:\n",
    "    json.dump(obj= full_df,indent= 4,ensure_ascii=False, fp=fout)\n"
   ]
  },
  {
   "cell_type": "code",
   "execution_count": null,
   "metadata": {},
   "outputs": [],
   "source": []
  }
 ],
 "metadata": {
  "kernelspec": {
   "display_name": "Python 3",
   "language": "python",
   "name": "python3"
  },
  "language_info": {
   "codemirror_mode": {
    "name": "ipython",
    "version": 3
   },
   "file_extension": ".py",
   "mimetype": "text/x-python",
   "name": "python",
   "nbconvert_exporter": "python",
   "pygments_lexer": "ipython3",
   "version": "3.10.8"
  },
  "orig_nbformat": 4,
  "vscode": {
   "interpreter": {
    "hash": "6c54d3b305181586bfa983d297de0d1f2e6954c2e77a9e7406e32ac494163e59"
   }
  }
 },
 "nbformat": 4,
 "nbformat_minor": 2
}
